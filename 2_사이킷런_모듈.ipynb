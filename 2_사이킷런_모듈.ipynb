{
  "nbformat": 4,
  "nbformat_minor": 0,
  "metadata": {
    "colab": {
      "provenance": [],
      "authorship_tag": "ABX9TyP0rq63z9J53uhmkHQ++d1f",
      "include_colab_link": true
    },
    "kernelspec": {
      "name": "python3",
      "display_name": "Python 3"
    },
    "language_info": {
      "name": "python"
    }
  },
  "cells": [
    {
      "cell_type": "markdown",
      "metadata": {
        "id": "view-in-github",
        "colab_type": "text"
      },
      "source": [
        "<a href=\"https://colab.research.google.com/github/KimJunGu9/5.ML-DL/blob/main/2_%EC%82%AC%EC%9D%B4%ED%82%B7%EB%9F%B0_%EB%AA%A8%EB%93%88.ipynb\" target=\"_parent\"><img src=\"https://colab.research.google.com/assets/colab-badge.svg\" alt=\"Open In Colab\"/></a>"
      ]
    },
    {
      "cell_type": "markdown",
      "source": [
        "# 1. Scikit-learn모듈"
      ],
      "metadata": {
        "id": "yy7YTGB8hKHK"
      }
    },
    {
      "cell_type": "markdown",
      "source": [
        "* http://scikit-learn.org\n",
        "* 대표적인 파이썬 머신러닝 프레임워크\n",
        "* 다양한 머신러닝 알고리즘을 제공\n",
        "* 다양한 샘플 데이터를 제공\n",
        "* 머신러닝 결과를 검증하는 기능을 제공\n",
        "* BSD라이선스이기 때문에 무료로 사용 및 배포가 가능"
      ],
      "metadata": {
        "id": "yCjPEJwghS8x"
      }
    },
    {
      "cell_type": "markdown",
      "source": [
        "### 1-1. LinearSVC\n",
        "* 클래스를 구분으로 하는 분류문제에서 각 클래스를 잘 구분하는 선을 그려주는 방식을 사용하는 알고리즘\n",
        "* 지도학습 알고리즘을 사용하는 학습 전용 데이터와 결과 전용 데이터를 함께 가지고 있어야 사용이 가능"
      ],
      "metadata": {
        "id": "ufaUyffAh-8i"
      }
    },
    {
      "cell_type": "code",
      "source": [
        "from sklearn.svm import LinearSVC  # 구별을 해주는 것\n",
        "from sklearn.metrics import accuracy_score # 평가를 해주는 것"
      ],
      "metadata": {
        "id": "GfpjJUvYiNqm"
      },
      "execution_count": null,
      "outputs": []
    },
    {
      "cell_type": "code",
      "source": [
        "learn_data = [[0, 0], [1, 0], [0, 1], [1, 1]]  # 문제\n",
        "learn_label = [0, 0, 0, 1]   # 답\n",
        "\n",
        "# [0, 0] 일때 0\n",
        "# [1, 0] 일때 0\n",
        "# [0, 1] 일때 0\n",
        "# [1, 1] 일때 1"
      ],
      "metadata": {
        "id": "-b-CAVHTiakV"
      },
      "execution_count": null,
      "outputs": []
    },
    {
      "cell_type": "code",
      "source": [
        "svc = LinearSVC() # 객체 생성\n",
        "\n",
        "svc.fit(learn_data, learn_label) # fit( 문제, 답 ) : 학습"
      ],
      "metadata": {
        "colab": {
          "base_uri": "https://localhost:8080/"
        },
        "id": "jIeDz8daip3g",
        "outputId": "48f0a0ec-6f5c-4253-9717-4039a6fe95df"
      },
      "execution_count": null,
      "outputs": [
        {
          "output_type": "execute_result",
          "data": {
            "text/plain": [
              "LinearSVC()"
            ]
          },
          "metadata": {},
          "execution_count": 3
        }
      ]
    },
    {
      "cell_type": "code",
      "source": [
        "test_data = [[0, 0], [1, 0], [0, 1], [1, 1]]\n",
        "\n",
        "test_label = svc.predict(test_data) # predict() : 예측"
      ],
      "metadata": {
        "id": "vCBr5LkSi87_"
      },
      "execution_count": null,
      "outputs": []
    },
    {
      "cell_type": "code",
      "source": [
        "print(test_data, '의 예측 결과 : ', test_label)"
      ],
      "metadata": {
        "colab": {
          "base_uri": "https://localhost:8080/"
        },
        "id": "xwJ_Sgp8jN37",
        "outputId": "a04c1814-d69f-4377-df81-cfd982e4d925"
      },
      "execution_count": null,
      "outputs": [
        {
          "output_type": "stream",
          "name": "stdout",
          "text": [
            "[[0, 0], [1, 0], [0, 1], [1, 1]] 의 예측 결과 :  [0 0 0 1]\n"
          ]
        }
      ]
    },
    {
      "cell_type": "code",
      "source": [
        "print('정답률 : ', accuracy_score([0, 0, 0, 1], test_label))"
      ],
      "metadata": {
        "colab": {
          "base_uri": "https://localhost:8080/"
        },
        "id": "3kcHK_LhjVCZ",
        "outputId": "9f7beb0a-532d-433e-d0a8-31fa07572b30"
      },
      "execution_count": null,
      "outputs": [
        {
          "output_type": "stream",
          "name": "stdout",
          "text": [
            "정답률 :  1.0\n"
          ]
        }
      ]
    },
    {
      "cell_type": "code",
      "source": [],
      "metadata": {
        "id": "MAVkQ3tkjhKZ"
      },
      "execution_count": null,
      "outputs": []
    }
  ]
}