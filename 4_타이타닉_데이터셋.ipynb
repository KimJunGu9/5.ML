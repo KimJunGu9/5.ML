{
  "nbformat": 4,
  "nbformat_minor": 0,
  "metadata": {
    "colab": {
      "provenance": [],
      "authorship_tag": "ABX9TyPb/Ji4/Ti0LJ6Jjoe51ZIn",
      "include_colab_link": true
    },
    "kernelspec": {
      "name": "python3",
      "display_name": "Python 3"
    },
    "language_info": {
      "name": "python"
    }
  },
  "cells": [
    {
      "cell_type": "markdown",
      "metadata": {
        "id": "view-in-github",
        "colab_type": "text"
      },
      "source": [
        "<a href=\"https://colab.research.google.com/github/KimJunGu9/5.ML-DL/blob/main/4_%ED%83%80%EC%9D%B4%ED%83%80%EB%8B%89_%EB%8D%B0%EC%9D%B4%ED%84%B0%EC%85%8B.ipynb\" target=\"_parent\"><img src=\"https://colab.research.google.com/assets/colab-badge.svg\" alt=\"Open In Colab\"/></a>"
      ]
    },
    {
      "cell_type": "markdown",
      "source": [
        "# 1. kaggle"
      ],
      "metadata": {
        "id": "TKdLkbZBLSxk"
      }
    },
    {
      "cell_type": "markdown",
      "source": [
        "* kaggle.com\n",
        "* 전세계 데이터 사이언티스트들이 다양한 데이터를 분석하고 토론할 수 있는 커뮤니트를 제공\n",
        "* 데이터 분석 및 머신러닝, 딥러닝 대회를 개최\n",
        "* 데이터셋, 파이썬자료, R자료 등을 제공"
      ],
      "metadata": {
        "id": "WVgP8ahtLVnY"
      }
    },
    {
      "cell_type": "code",
      "source": [
        "import numpy as np\n",
        "import pandas as pd"
      ],
      "metadata": {
        "id": "egfQ9v3YLwEV"
      },
      "execution_count": null,
      "outputs": []
    },
    {
      "cell_type": "code",
      "source": [
        "train = pd.read_csv('http://bit.ly/fc-ml-titanic')"
      ],
      "metadata": {
        "id": "JY4VBOsSL0bq"
      },
      "execution_count": null,
      "outputs": []
    },
    {
      "cell_type": "code",
      "source": [
        "train.head()"
      ],
      "metadata": {
        "colab": {
          "base_uri": "https://localhost:8080/",
          "height": 250
        },
        "id": "KPuy9tXCL9SJ",
        "outputId": "bc8af7da-5e90-4208-eff3-662d6dafbe68"
      },
      "execution_count": null,
      "outputs": [
        {
          "output_type": "execute_result",
          "data": {
            "text/plain": [
              "   PassengerId  Survived  Pclass  \\\n",
              "0            1         0       3   \n",
              "1            2         1       1   \n",
              "2            3         1       3   \n",
              "3            4         1       1   \n",
              "4            5         0       3   \n",
              "\n",
              "                                                Name     Sex   Age  SibSp  \\\n",
              "0                            Braund, Mr. Owen Harris    male  22.0      1   \n",
              "1  Cumings, Mrs. John Bradley (Florence Briggs Th...  female  38.0      1   \n",
              "2                             Heikkinen, Miss. Laina  female  26.0      0   \n",
              "3       Futrelle, Mrs. Jacques Heath (Lily May Peel)  female  35.0      1   \n",
              "4                           Allen, Mr. William Henry    male  35.0      0   \n",
              "\n",
              "   Parch            Ticket     Fare Cabin Embarked  \n",
              "0      0         A/5 21171   7.2500   NaN        S  \n",
              "1      0          PC 17599  71.2833   C85        C  \n",
              "2      0  STON/O2. 3101282   7.9250   NaN        S  \n",
              "3      0            113803  53.1000  C123        S  \n",
              "4      0            373450   8.0500   NaN        S  "
            ],
            "text/html": [
              "\n",
              "  <div id=\"df-1011c312-9e8c-4476-bc22-ea47a7c34957\">\n",
              "    <div class=\"colab-df-container\">\n",
              "      <div>\n",
              "<style scoped>\n",
              "    .dataframe tbody tr th:only-of-type {\n",
              "        vertical-align: middle;\n",
              "    }\n",
              "\n",
              "    .dataframe tbody tr th {\n",
              "        vertical-align: top;\n",
              "    }\n",
              "\n",
              "    .dataframe thead th {\n",
              "        text-align: right;\n",
              "    }\n",
              "</style>\n",
              "<table border=\"1\" class=\"dataframe\">\n",
              "  <thead>\n",
              "    <tr style=\"text-align: right;\">\n",
              "      <th></th>\n",
              "      <th>PassengerId</th>\n",
              "      <th>Survived</th>\n",
              "      <th>Pclass</th>\n",
              "      <th>Name</th>\n",
              "      <th>Sex</th>\n",
              "      <th>Age</th>\n",
              "      <th>SibSp</th>\n",
              "      <th>Parch</th>\n",
              "      <th>Ticket</th>\n",
              "      <th>Fare</th>\n",
              "      <th>Cabin</th>\n",
              "      <th>Embarked</th>\n",
              "    </tr>\n",
              "  </thead>\n",
              "  <tbody>\n",
              "    <tr>\n",
              "      <th>0</th>\n",
              "      <td>1</td>\n",
              "      <td>0</td>\n",
              "      <td>3</td>\n",
              "      <td>Braund, Mr. Owen Harris</td>\n",
              "      <td>male</td>\n",
              "      <td>22.0</td>\n",
              "      <td>1</td>\n",
              "      <td>0</td>\n",
              "      <td>A/5 21171</td>\n",
              "      <td>7.2500</td>\n",
              "      <td>NaN</td>\n",
              "      <td>S</td>\n",
              "    </tr>\n",
              "    <tr>\n",
              "      <th>1</th>\n",
              "      <td>2</td>\n",
              "      <td>1</td>\n",
              "      <td>1</td>\n",
              "      <td>Cumings, Mrs. John Bradley (Florence Briggs Th...</td>\n",
              "      <td>female</td>\n",
              "      <td>38.0</td>\n",
              "      <td>1</td>\n",
              "      <td>0</td>\n",
              "      <td>PC 17599</td>\n",
              "      <td>71.2833</td>\n",
              "      <td>C85</td>\n",
              "      <td>C</td>\n",
              "    </tr>\n",
              "    <tr>\n",
              "      <th>2</th>\n",
              "      <td>3</td>\n",
              "      <td>1</td>\n",
              "      <td>3</td>\n",
              "      <td>Heikkinen, Miss. Laina</td>\n",
              "      <td>female</td>\n",
              "      <td>26.0</td>\n",
              "      <td>0</td>\n",
              "      <td>0</td>\n",
              "      <td>STON/O2. 3101282</td>\n",
              "      <td>7.9250</td>\n",
              "      <td>NaN</td>\n",
              "      <td>S</td>\n",
              "    </tr>\n",
              "    <tr>\n",
              "      <th>3</th>\n",
              "      <td>4</td>\n",
              "      <td>1</td>\n",
              "      <td>1</td>\n",
              "      <td>Futrelle, Mrs. Jacques Heath (Lily May Peel)</td>\n",
              "      <td>female</td>\n",
              "      <td>35.0</td>\n",
              "      <td>1</td>\n",
              "      <td>0</td>\n",
              "      <td>113803</td>\n",
              "      <td>53.1000</td>\n",
              "      <td>C123</td>\n",
              "      <td>S</td>\n",
              "    </tr>\n",
              "    <tr>\n",
              "      <th>4</th>\n",
              "      <td>5</td>\n",
              "      <td>0</td>\n",
              "      <td>3</td>\n",
              "      <td>Allen, Mr. William Henry</td>\n",
              "      <td>male</td>\n",
              "      <td>35.0</td>\n",
              "      <td>0</td>\n",
              "      <td>0</td>\n",
              "      <td>373450</td>\n",
              "      <td>8.0500</td>\n",
              "      <td>NaN</td>\n",
              "      <td>S</td>\n",
              "    </tr>\n",
              "  </tbody>\n",
              "</table>\n",
              "</div>\n",
              "      <button class=\"colab-df-convert\" onclick=\"convertToInteractive('df-1011c312-9e8c-4476-bc22-ea47a7c34957')\"\n",
              "              title=\"Convert this dataframe to an interactive table.\"\n",
              "              style=\"display:none;\">\n",
              "        \n",
              "  <svg xmlns=\"http://www.w3.org/2000/svg\" height=\"24px\"viewBox=\"0 0 24 24\"\n",
              "       width=\"24px\">\n",
              "    <path d=\"M0 0h24v24H0V0z\" fill=\"none\"/>\n",
              "    <path d=\"M18.56 5.44l.94 2.06.94-2.06 2.06-.94-2.06-.94-.94-2.06-.94 2.06-2.06.94zm-11 1L8.5 8.5l.94-2.06 2.06-.94-2.06-.94L8.5 2.5l-.94 2.06-2.06.94zm10 10l.94 2.06.94-2.06 2.06-.94-2.06-.94-.94-2.06-.94 2.06-2.06.94z\"/><path d=\"M17.41 7.96l-1.37-1.37c-.4-.4-.92-.59-1.43-.59-.52 0-1.04.2-1.43.59L10.3 9.45l-7.72 7.72c-.78.78-.78 2.05 0 2.83L4 21.41c.39.39.9.59 1.41.59.51 0 1.02-.2 1.41-.59l7.78-7.78 2.81-2.81c.8-.78.8-2.07 0-2.86zM5.41 20L4 18.59l7.72-7.72 1.47 1.35L5.41 20z\"/>\n",
              "  </svg>\n",
              "      </button>\n",
              "      \n",
              "  <style>\n",
              "    .colab-df-container {\n",
              "      display:flex;\n",
              "      flex-wrap:wrap;\n",
              "      gap: 12px;\n",
              "    }\n",
              "\n",
              "    .colab-df-convert {\n",
              "      background-color: #E8F0FE;\n",
              "      border: none;\n",
              "      border-radius: 50%;\n",
              "      cursor: pointer;\n",
              "      display: none;\n",
              "      fill: #1967D2;\n",
              "      height: 32px;\n",
              "      padding: 0 0 0 0;\n",
              "      width: 32px;\n",
              "    }\n",
              "\n",
              "    .colab-df-convert:hover {\n",
              "      background-color: #E2EBFA;\n",
              "      box-shadow: 0px 1px 2px rgba(60, 64, 67, 0.3), 0px 1px 3px 1px rgba(60, 64, 67, 0.15);\n",
              "      fill: #174EA6;\n",
              "    }\n",
              "\n",
              "    [theme=dark] .colab-df-convert {\n",
              "      background-color: #3B4455;\n",
              "      fill: #D2E3FC;\n",
              "    }\n",
              "\n",
              "    [theme=dark] .colab-df-convert:hover {\n",
              "      background-color: #434B5C;\n",
              "      box-shadow: 0px 1px 3px 1px rgba(0, 0, 0, 0.15);\n",
              "      filter: drop-shadow(0px 1px 2px rgba(0, 0, 0, 0.3));\n",
              "      fill: #FFFFFF;\n",
              "    }\n",
              "  </style>\n",
              "\n",
              "      <script>\n",
              "        const buttonEl =\n",
              "          document.querySelector('#df-1011c312-9e8c-4476-bc22-ea47a7c34957 button.colab-df-convert');\n",
              "        buttonEl.style.display =\n",
              "          google.colab.kernel.accessAllowed ? 'block' : 'none';\n",
              "\n",
              "        async function convertToInteractive(key) {\n",
              "          const element = document.querySelector('#df-1011c312-9e8c-4476-bc22-ea47a7c34957');\n",
              "          const dataTable =\n",
              "            await google.colab.kernel.invokeFunction('convertToInteractive',\n",
              "                                                     [key], {});\n",
              "          if (!dataTable) return;\n",
              "\n",
              "          const docLinkHtml = 'Like what you see? Visit the ' +\n",
              "            '<a target=\"_blank\" href=https://colab.research.google.com/notebooks/data_table.ipynb>data table notebook</a>'\n",
              "            + ' to learn more about interactive tables.';\n",
              "          element.innerHTML = '';\n",
              "          dataTable['output_type'] = 'display_data';\n",
              "          await google.colab.output.renderOutput(dataTable, element);\n",
              "          const docLink = document.createElement('div');\n",
              "          docLink.innerHTML = docLinkHtml;\n",
              "          element.appendChild(docLink);\n",
              "        }\n",
              "      </script>\n",
              "    </div>\n",
              "  </div>\n",
              "  "
            ]
          },
          "metadata": {},
          "execution_count": 3
        }
      ]
    },
    {
      "cell_type": "markdown",
      "source": [
        "* PassengerId : 승객 아이디\n",
        "* Survived : 생존 여부(1:생존, 0:사망)\n",
        "* Pclass : 등급\n",
        "* Name : 승객 이름\n",
        "* Sex : 성별\n",
        "* Age : 나이\n",
        "* SibSp : 형제, 자매, 배우자 수\n",
        "* Parch : 부모, 자식 수\n",
        "* Ticket : 티켓 번호\n",
        "* Fare : 요금\n",
        "* Cabin : 좌석 번호\n",
        "* Embarked : 탑승 항구"
      ],
      "metadata": {
        "id": "JH1xQZznMKbr"
      }
    },
    {
      "cell_type": "markdown",
      "source": [
        "# 2. 데이터 전처리"
      ],
      "metadata": {
        "id": "BV98PO0nMyur"
      }
    },
    {
      "cell_type": "code",
      "source": [
        "feature = ['Pclass', 'Sex', 'Age', 'Fare'] # 이 4개를 통해서 전처리를 할 것  \n",
        "# feature는 일반 필드를 말한다. 어떤 데이터를 넣을 것인지를 feature라고 한다.\n",
        "# feature는 x를 뜻함\n",
        "\n",
        "# 그 많은 raw데이터 중에서 뽑아내야될 데이터를 정리하기 위해\n",
        "\n",
        "label = ['Survived'] # 생존여부를 정답데이터로 쓸 것 # 정답이 뭐가 나와야하는지는 label이다\n",
        "# label은 y를 뜻함"
      ],
      "metadata": {
        "id": "3Z7QKpFeL_IW"
      },
      "execution_count": null,
      "outputs": []
    },
    {
      "cell_type": "code",
      "source": [
        "train[feature].head() # "
      ],
      "metadata": {
        "colab": {
          "base_uri": "https://localhost:8080/",
          "height": 206
        },
        "id": "grSp-efZNsMK",
        "outputId": "f29e666e-af5e-4a1b-a5b3-1c1e488605d8"
      },
      "execution_count": null,
      "outputs": [
        {
          "output_type": "execute_result",
          "data": {
            "text/plain": [
              "   Pclass     Sex   Age     Fare\n",
              "0       3    male  22.0   7.2500\n",
              "1       1  female  38.0  71.2833\n",
              "2       3  female  26.0   7.9250\n",
              "3       1  female  35.0  53.1000\n",
              "4       3    male  35.0   8.0500"
            ],
            "text/html": [
              "\n",
              "  <div id=\"df-6d6fc58e-d559-403d-a2da-159c7371924f\">\n",
              "    <div class=\"colab-df-container\">\n",
              "      <div>\n",
              "<style scoped>\n",
              "    .dataframe tbody tr th:only-of-type {\n",
              "        vertical-align: middle;\n",
              "    }\n",
              "\n",
              "    .dataframe tbody tr th {\n",
              "        vertical-align: top;\n",
              "    }\n",
              "\n",
              "    .dataframe thead th {\n",
              "        text-align: right;\n",
              "    }\n",
              "</style>\n",
              "<table border=\"1\" class=\"dataframe\">\n",
              "  <thead>\n",
              "    <tr style=\"text-align: right;\">\n",
              "      <th></th>\n",
              "      <th>Pclass</th>\n",
              "      <th>Sex</th>\n",
              "      <th>Age</th>\n",
              "      <th>Fare</th>\n",
              "    </tr>\n",
              "  </thead>\n",
              "  <tbody>\n",
              "    <tr>\n",
              "      <th>0</th>\n",
              "      <td>3</td>\n",
              "      <td>male</td>\n",
              "      <td>22.0</td>\n",
              "      <td>7.2500</td>\n",
              "    </tr>\n",
              "    <tr>\n",
              "      <th>1</th>\n",
              "      <td>1</td>\n",
              "      <td>female</td>\n",
              "      <td>38.0</td>\n",
              "      <td>71.2833</td>\n",
              "    </tr>\n",
              "    <tr>\n",
              "      <th>2</th>\n",
              "      <td>3</td>\n",
              "      <td>female</td>\n",
              "      <td>26.0</td>\n",
              "      <td>7.9250</td>\n",
              "    </tr>\n",
              "    <tr>\n",
              "      <th>3</th>\n",
              "      <td>1</td>\n",
              "      <td>female</td>\n",
              "      <td>35.0</td>\n",
              "      <td>53.1000</td>\n",
              "    </tr>\n",
              "    <tr>\n",
              "      <th>4</th>\n",
              "      <td>3</td>\n",
              "      <td>male</td>\n",
              "      <td>35.0</td>\n",
              "      <td>8.0500</td>\n",
              "    </tr>\n",
              "  </tbody>\n",
              "</table>\n",
              "</div>\n",
              "      <button class=\"colab-df-convert\" onclick=\"convertToInteractive('df-6d6fc58e-d559-403d-a2da-159c7371924f')\"\n",
              "              title=\"Convert this dataframe to an interactive table.\"\n",
              "              style=\"display:none;\">\n",
              "        \n",
              "  <svg xmlns=\"http://www.w3.org/2000/svg\" height=\"24px\"viewBox=\"0 0 24 24\"\n",
              "       width=\"24px\">\n",
              "    <path d=\"M0 0h24v24H0V0z\" fill=\"none\"/>\n",
              "    <path d=\"M18.56 5.44l.94 2.06.94-2.06 2.06-.94-2.06-.94-.94-2.06-.94 2.06-2.06.94zm-11 1L8.5 8.5l.94-2.06 2.06-.94-2.06-.94L8.5 2.5l-.94 2.06-2.06.94zm10 10l.94 2.06.94-2.06 2.06-.94-2.06-.94-.94-2.06-.94 2.06-2.06.94z\"/><path d=\"M17.41 7.96l-1.37-1.37c-.4-.4-.92-.59-1.43-.59-.52 0-1.04.2-1.43.59L10.3 9.45l-7.72 7.72c-.78.78-.78 2.05 0 2.83L4 21.41c.39.39.9.59 1.41.59.51 0 1.02-.2 1.41-.59l7.78-7.78 2.81-2.81c.8-.78.8-2.07 0-2.86zM5.41 20L4 18.59l7.72-7.72 1.47 1.35L5.41 20z\"/>\n",
              "  </svg>\n",
              "      </button>\n",
              "      \n",
              "  <style>\n",
              "    .colab-df-container {\n",
              "      display:flex;\n",
              "      flex-wrap:wrap;\n",
              "      gap: 12px;\n",
              "    }\n",
              "\n",
              "    .colab-df-convert {\n",
              "      background-color: #E8F0FE;\n",
              "      border: none;\n",
              "      border-radius: 50%;\n",
              "      cursor: pointer;\n",
              "      display: none;\n",
              "      fill: #1967D2;\n",
              "      height: 32px;\n",
              "      padding: 0 0 0 0;\n",
              "      width: 32px;\n",
              "    }\n",
              "\n",
              "    .colab-df-convert:hover {\n",
              "      background-color: #E2EBFA;\n",
              "      box-shadow: 0px 1px 2px rgba(60, 64, 67, 0.3), 0px 1px 3px 1px rgba(60, 64, 67, 0.15);\n",
              "      fill: #174EA6;\n",
              "    }\n",
              "\n",
              "    [theme=dark] .colab-df-convert {\n",
              "      background-color: #3B4455;\n",
              "      fill: #D2E3FC;\n",
              "    }\n",
              "\n",
              "    [theme=dark] .colab-df-convert:hover {\n",
              "      background-color: #434B5C;\n",
              "      box-shadow: 0px 1px 3px 1px rgba(0, 0, 0, 0.15);\n",
              "      filter: drop-shadow(0px 1px 2px rgba(0, 0, 0, 0.3));\n",
              "      fill: #FFFFFF;\n",
              "    }\n",
              "  </style>\n",
              "\n",
              "      <script>\n",
              "        const buttonEl =\n",
              "          document.querySelector('#df-6d6fc58e-d559-403d-a2da-159c7371924f button.colab-df-convert');\n",
              "        buttonEl.style.display =\n",
              "          google.colab.kernel.accessAllowed ? 'block' : 'none';\n",
              "\n",
              "        async function convertToInteractive(key) {\n",
              "          const element = document.querySelector('#df-6d6fc58e-d559-403d-a2da-159c7371924f');\n",
              "          const dataTable =\n",
              "            await google.colab.kernel.invokeFunction('convertToInteractive',\n",
              "                                                     [key], {});\n",
              "          if (!dataTable) return;\n",
              "\n",
              "          const docLinkHtml = 'Like what you see? Visit the ' +\n",
              "            '<a target=\"_blank\" href=https://colab.research.google.com/notebooks/data_table.ipynb>data table notebook</a>'\n",
              "            + ' to learn more about interactive tables.';\n",
              "          element.innerHTML = '';\n",
              "          dataTable['output_type'] = 'display_data';\n",
              "          await google.colab.output.renderOutput(dataTable, element);\n",
              "          const docLink = document.createElement('div');\n",
              "          docLink.innerHTML = docLinkHtml;\n",
              "          element.appendChild(docLink);\n",
              "        }\n",
              "      </script>\n",
              "    </div>\n",
              "  </div>\n",
              "  "
            ]
          },
          "metadata": {},
          "execution_count": 5
        }
      ]
    },
    {
      "cell_type": "code",
      "source": [
        "train[label].head()"
      ],
      "metadata": {
        "colab": {
          "base_uri": "https://localhost:8080/",
          "height": 206
        },
        "id": "YQKlbzGSNwwL",
        "outputId": "4049b8dc-60fb-49d9-ca4d-0ae0c914935c"
      },
      "execution_count": null,
      "outputs": [
        {
          "output_type": "execute_result",
          "data": {
            "text/plain": [
              "   Survived\n",
              "0         0\n",
              "1         1\n",
              "2         1\n",
              "3         1\n",
              "4         0"
            ],
            "text/html": [
              "\n",
              "  <div id=\"df-f0795fb4-3fa6-4901-9c64-b90ae5019216\">\n",
              "    <div class=\"colab-df-container\">\n",
              "      <div>\n",
              "<style scoped>\n",
              "    .dataframe tbody tr th:only-of-type {\n",
              "        vertical-align: middle;\n",
              "    }\n",
              "\n",
              "    .dataframe tbody tr th {\n",
              "        vertical-align: top;\n",
              "    }\n",
              "\n",
              "    .dataframe thead th {\n",
              "        text-align: right;\n",
              "    }\n",
              "</style>\n",
              "<table border=\"1\" class=\"dataframe\">\n",
              "  <thead>\n",
              "    <tr style=\"text-align: right;\">\n",
              "      <th></th>\n",
              "      <th>Survived</th>\n",
              "    </tr>\n",
              "  </thead>\n",
              "  <tbody>\n",
              "    <tr>\n",
              "      <th>0</th>\n",
              "      <td>0</td>\n",
              "    </tr>\n",
              "    <tr>\n",
              "      <th>1</th>\n",
              "      <td>1</td>\n",
              "    </tr>\n",
              "    <tr>\n",
              "      <th>2</th>\n",
              "      <td>1</td>\n",
              "    </tr>\n",
              "    <tr>\n",
              "      <th>3</th>\n",
              "      <td>1</td>\n",
              "    </tr>\n",
              "    <tr>\n",
              "      <th>4</th>\n",
              "      <td>0</td>\n",
              "    </tr>\n",
              "  </tbody>\n",
              "</table>\n",
              "</div>\n",
              "      <button class=\"colab-df-convert\" onclick=\"convertToInteractive('df-f0795fb4-3fa6-4901-9c64-b90ae5019216')\"\n",
              "              title=\"Convert this dataframe to an interactive table.\"\n",
              "              style=\"display:none;\">\n",
              "        \n",
              "  <svg xmlns=\"http://www.w3.org/2000/svg\" height=\"24px\"viewBox=\"0 0 24 24\"\n",
              "       width=\"24px\">\n",
              "    <path d=\"M0 0h24v24H0V0z\" fill=\"none\"/>\n",
              "    <path d=\"M18.56 5.44l.94 2.06.94-2.06 2.06-.94-2.06-.94-.94-2.06-.94 2.06-2.06.94zm-11 1L8.5 8.5l.94-2.06 2.06-.94-2.06-.94L8.5 2.5l-.94 2.06-2.06.94zm10 10l.94 2.06.94-2.06 2.06-.94-2.06-.94-.94-2.06-.94 2.06-2.06.94z\"/><path d=\"M17.41 7.96l-1.37-1.37c-.4-.4-.92-.59-1.43-.59-.52 0-1.04.2-1.43.59L10.3 9.45l-7.72 7.72c-.78.78-.78 2.05 0 2.83L4 21.41c.39.39.9.59 1.41.59.51 0 1.02-.2 1.41-.59l7.78-7.78 2.81-2.81c.8-.78.8-2.07 0-2.86zM5.41 20L4 18.59l7.72-7.72 1.47 1.35L5.41 20z\"/>\n",
              "  </svg>\n",
              "      </button>\n",
              "      \n",
              "  <style>\n",
              "    .colab-df-container {\n",
              "      display:flex;\n",
              "      flex-wrap:wrap;\n",
              "      gap: 12px;\n",
              "    }\n",
              "\n",
              "    .colab-df-convert {\n",
              "      background-color: #E8F0FE;\n",
              "      border: none;\n",
              "      border-radius: 50%;\n",
              "      cursor: pointer;\n",
              "      display: none;\n",
              "      fill: #1967D2;\n",
              "      height: 32px;\n",
              "      padding: 0 0 0 0;\n",
              "      width: 32px;\n",
              "    }\n",
              "\n",
              "    .colab-df-convert:hover {\n",
              "      background-color: #E2EBFA;\n",
              "      box-shadow: 0px 1px 2px rgba(60, 64, 67, 0.3), 0px 1px 3px 1px rgba(60, 64, 67, 0.15);\n",
              "      fill: #174EA6;\n",
              "    }\n",
              "\n",
              "    [theme=dark] .colab-df-convert {\n",
              "      background-color: #3B4455;\n",
              "      fill: #D2E3FC;\n",
              "    }\n",
              "\n",
              "    [theme=dark] .colab-df-convert:hover {\n",
              "      background-color: #434B5C;\n",
              "      box-shadow: 0px 1px 3px 1px rgba(0, 0, 0, 0.15);\n",
              "      filter: drop-shadow(0px 1px 2px rgba(0, 0, 0, 0.3));\n",
              "      fill: #FFFFFF;\n",
              "    }\n",
              "  </style>\n",
              "\n",
              "      <script>\n",
              "        const buttonEl =\n",
              "          document.querySelector('#df-f0795fb4-3fa6-4901-9c64-b90ae5019216 button.colab-df-convert');\n",
              "        buttonEl.style.display =\n",
              "          google.colab.kernel.accessAllowed ? 'block' : 'none';\n",
              "\n",
              "        async function convertToInteractive(key) {\n",
              "          const element = document.querySelector('#df-f0795fb4-3fa6-4901-9c64-b90ae5019216');\n",
              "          const dataTable =\n",
              "            await google.colab.kernel.invokeFunction('convertToInteractive',\n",
              "                                                     [key], {});\n",
              "          if (!dataTable) return;\n",
              "\n",
              "          const docLinkHtml = 'Like what you see? Visit the ' +\n",
              "            '<a target=\"_blank\" href=https://colab.research.google.com/notebooks/data_table.ipynb>data table notebook</a>'\n",
              "            + ' to learn more about interactive tables.';\n",
              "          element.innerHTML = '';\n",
              "          dataTable['output_type'] = 'display_data';\n",
              "          await google.colab.output.renderOutput(dataTable, element);\n",
              "          const docLink = document.createElement('div');\n",
              "          docLink.innerHTML = docLinkHtml;\n",
              "          element.appendChild(docLink);\n",
              "        }\n",
              "      </script>\n",
              "    </div>\n",
              "  </div>\n",
              "  "
            ]
          },
          "metadata": {},
          "execution_count": 6
        }
      ]
    },
    {
      "cell_type": "code",
      "source": [
        "from sklearn.model_selection import train_test_split"
      ],
      "metadata": {
        "id": "xczGxSPXN1GM"
      },
      "execution_count": null,
      "outputs": []
    },
    {
      "cell_type": "code",
      "source": [
        "x_train, x_valid, y_train, y_valid = train_test_split(train[feature], train[label], test_size = 0.2, random_state=10)\n",
        "\n",
        "# train[feature], train[label] 로 구분해갖고 나눠줄 것\n",
        "# test_size = 0.2 : 8 대 2로 나눔 -> 테스트를 20프로로 잡음\n",
        "# random_state = 10 : 기준점을 10으로 놓는데 아무숫자나 넣어도 상관없음"
      ],
      "metadata": {
        "id": "3QL3k7VcOL_6"
      },
      "execution_count": null,
      "outputs": []
    },
    {
      "cell_type": "code",
      "source": [
        "x_train.shape, y_train.shape"
      ],
      "metadata": {
        "colab": {
          "base_uri": "https://localhost:8080/"
        },
        "id": "duPXi8zRPR-X",
        "outputId": "9a17c99b-0999-488d-a97d-920ed38dcdcb"
      },
      "execution_count": null,
      "outputs": [
        {
          "output_type": "execute_result",
          "data": {
            "text/plain": [
              "((712, 4), (712, 1))"
            ]
          },
          "metadata": {},
          "execution_count": 9
        }
      ]
    },
    {
      "cell_type": "code",
      "source": [
        "x_valid.shape, y_valid.shape"
      ],
      "metadata": {
        "colab": {
          "base_uri": "https://localhost:8080/"
        },
        "id": "tQ9q1odGPcx3",
        "outputId": "c675c8a1-696f-47a0-8875-84d9796875df"
      },
      "execution_count": null,
      "outputs": [
        {
          "output_type": "execute_result",
          "data": {
            "text/plain": [
              "((179, 4), (179, 1))"
            ]
          },
          "metadata": {},
          "execution_count": 10
        }
      ]
    },
    {
      "cell_type": "markdown",
      "source": [
        "# 3. 결측치 처리"
      ],
      "metadata": {
        "id": "aMD6IiA0Po6T"
      }
    },
    {
      "cell_type": "code",
      "source": [
        "train.info()"
      ],
      "metadata": {
        "colab": {
          "base_uri": "https://localhost:8080/"
        },
        "id": "UJudYf5WPhZ8",
        "outputId": "b4690c5b-735e-4c0b-c944-75358cc357b8"
      },
      "execution_count": null,
      "outputs": [
        {
          "output_type": "stream",
          "name": "stdout",
          "text": [
            "<class 'pandas.core.frame.DataFrame'>\n",
            "RangeIndex: 891 entries, 0 to 890\n",
            "Data columns (total 12 columns):\n",
            " #   Column       Non-Null Count  Dtype  \n",
            "---  ------       --------------  -----  \n",
            " 0   PassengerId  891 non-null    int64  \n",
            " 1   Survived     891 non-null    int64  \n",
            " 2   Pclass       891 non-null    int64  \n",
            " 3   Name         891 non-null    object \n",
            " 4   Sex          891 non-null    object \n",
            " 5   Age          714 non-null    float64\n",
            " 6   SibSp        891 non-null    int64  \n",
            " 7   Parch        891 non-null    int64  \n",
            " 8   Ticket       891 non-null    object \n",
            " 9   Fare         891 non-null    float64\n",
            " 10  Cabin        204 non-null    object \n",
            " 11  Embarked     889 non-null    object \n",
            "dtypes: float64(2), int64(5), object(5)\n",
            "memory usage: 83.7+ KB\n"
          ]
        }
      ]
    },
    {
      "cell_type": "code",
      "source": [
        "# 결측치 개수 확인 : isnull().sum()\n",
        "\n",
        "train.isnull().sum() "
      ],
      "metadata": {
        "colab": {
          "base_uri": "https://localhost:8080/"
        },
        "id": "Msam8d_2PxrU",
        "outputId": "a26e0545-f366-458e-f0da-40bf7cce34ef"
      },
      "execution_count": null,
      "outputs": [
        {
          "output_type": "execute_result",
          "data": {
            "text/plain": [
              "PassengerId      0\n",
              "Survived         0\n",
              "Pclass           0\n",
              "Name             0\n",
              "Sex              0\n",
              "Age            177\n",
              "SibSp            0\n",
              "Parch            0\n",
              "Ticket           0\n",
              "Fare             0\n",
              "Cabin          687\n",
              "Embarked         2\n",
              "dtype: int64"
            ]
          },
          "metadata": {},
          "execution_count": 15
        }
      ]
    },
    {
      "cell_type": "code",
      "source": [
        "# 나이 결측치를 0으로 처리 후 통계정보 확인 - version 1\n",
        "\n",
        "train['Age'].fillna(0).describe()"
      ],
      "metadata": {
        "colab": {
          "base_uri": "https://localhost:8080/"
        },
        "id": "qPA4lfDiyQlF",
        "outputId": "c2644df1-2bda-4023-bd86-9dcc55cf179a"
      },
      "execution_count": null,
      "outputs": [
        {
          "output_type": "execute_result",
          "data": {
            "text/plain": [
              "count    891.000000\n",
              "mean      23.799293\n",
              "std       17.596074\n",
              "min        0.000000\n",
              "25%        6.000000\n",
              "50%       24.000000\n",
              "75%       35.000000\n",
              "max       80.000000\n",
              "Name: Age, dtype: float64"
            ]
          },
          "metadata": {},
          "execution_count": 16
        }
      ]
    },
    {
      "cell_type": "code",
      "source": [
        "# 나이 결측치를 평균으로 처리 후 통계정보 확인 - version 2\n",
        "\n",
        "train['Age'].fillna(train['Age'].mean()).describe()"
      ],
      "metadata": {
        "colab": {
          "base_uri": "https://localhost:8080/"
        },
        "id": "rP1DHNokyoXv",
        "outputId": "4c4d8563-80ef-4f5e-c18c-940baec5073c"
      },
      "execution_count": null,
      "outputs": [
        {
          "output_type": "execute_result",
          "data": {
            "text/plain": [
              "count    891.000000\n",
              "mean      29.699118\n",
              "std       13.002015\n",
              "min        0.420000\n",
              "25%       22.000000\n",
              "50%       29.699118\n",
              "75%       35.000000\n",
              "max       80.000000\n",
              "Name: Age, dtype: float64"
            ]
          },
          "metadata": {},
          "execution_count": 17
        }
      ]
    },
    {
      "cell_type": "markdown",
      "source": [
        "### 3-1. impute\n",
        "\n",
        "* 2개 이상의 colunm을 한번에 함수 또는 수식을 처리할 때 사용\n"
      ],
      "metadata": {
        "id": "6jxctCnGy7VZ"
      }
    },
    {
      "cell_type": "code",
      "source": [
        "from sklearn.impute import SimpleImputer"
      ],
      "metadata": {
        "id": "XLsNfdwVy0ez"
      },
      "execution_count": null,
      "outputs": []
    },
    {
      "cell_type": "code",
      "source": [
        "imputer = SimpleImputer(strategy='mean') # 특정함수에 ' ' 안에 넣기 (객체만들기)\n",
        "\n",
        "# 'mean'을 한꺼번에 적용한다.\n",
        "\n",
        "\n",
        "\n",
        "# strategy에 넣을 값들 \n",
        "\n",
        "# mean : 평균값\n",
        "# median : 중앙값\n",
        "# most_frequent : 최빈값(제일 빈도가 많은 값)\n",
        "# constant : 특정값 -> 예) SimpleImputer(strategy='constant', fill_value=값)"
      ],
      "metadata": {
        "id": "XLwYdc9bzSJR"
      },
      "execution_count": null,
      "outputs": []
    },
    {
      "cell_type": "code",
      "source": [
        "# 'Age','Pclass'에다가 적용하기\n",
        "\n",
        "imputer.fit(train[['Age', 'Pclass']]) # fit()를 통해서 결측치에 대한 mean 학습을 진행    # 평균을 적용하기 위해 객체만 만들어 놓고 실제데이터에 반영시키기않았음\n",
        "\n",
        "# fit() 학습시킬때, 적용할때 많이 사용함. "
      ],
      "metadata": {
        "colab": {
          "base_uri": "https://localhost:8080/"
        },
        "id": "0UBw1pCXz2cB",
        "outputId": "7dbe8344-24f6-4828-80e3-11bd24c55daf"
      },
      "execution_count": null,
      "outputs": [
        {
          "output_type": "execute_result",
          "data": {
            "text/plain": [
              "SimpleImputer()"
            ]
          },
          "metadata": {},
          "execution_count": 20
        }
      ]
    },
    {
      "cell_type": "code",
      "source": [
        "# 실제 데이터에 반영시키기\n",
        "\n",
        "result = imputer.transform(train[['Age', 'Pclass']]) # transform()는 실제 결측치에 대한 값 변화를 적용  # 실제값을 변환 시키기\n",
        "\n",
        "\n",
        "\n",
        "# 위와 아래를 같이써야 함 (*****)\n",
        "\n",
        "# 값이 바뀌어서 확인은 되는데 train에 적용은 아직 안함. 왜냐면 result만 뽑아서 확인해본거지 아직 저장을 안했기때문이다."
      ],
      "metadata": {
        "id": "qk7RAWPXz9mS"
      },
      "execution_count": null,
      "outputs": []
    },
    {
      "cell_type": "markdown",
      "source": [
        "![1.png](data:image/png;base64,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)"
      ],
      "metadata": {
        "id": "kB3Jey_dJoaR"
      }
    },
    {
      "cell_type": "code",
      "source": [
        "# imputer.fit(train[['Age', 'Pclass']])\n",
        "# result = imputer.transform(train[['Age', 'Pclass']])\n",
        "\n",
        "# -------------------------- 위와 아래는 같다.\n",
        "\n",
        "# result = imputer.fit_transform(train[['Age','Pclass']])\n"
      ],
      "metadata": {
        "id": "eyVjMZ9SYMos"
      },
      "execution_count": null,
      "outputs": []
    },
    {
      "cell_type": "code",
      "source": [
        "result"
      ],
      "metadata": {
        "colab": {
          "base_uri": "https://localhost:8080/"
        },
        "id": "b1dfKT8b0beq",
        "outputId": "32e9d196-1226-40f3-cf4f-dda51a17cbf0"
      },
      "execution_count": null,
      "outputs": [
        {
          "output_type": "execute_result",
          "data": {
            "text/plain": [
              "array([[22.        ,  3.        ],\n",
              "       [38.        ,  1.        ],\n",
              "       [26.        ,  3.        ],\n",
              "       ...,\n",
              "       [29.69911765,  3.        ],\n",
              "       [26.        ,  1.        ],\n",
              "       [32.        ,  3.        ]])"
            ]
          },
          "metadata": {},
          "execution_count": 22
        }
      ]
    },
    {
      "cell_type": "code",
      "source": [
        "# 'Age', 'Pclass'에 저장하기\n",
        "\n",
        "train[['Age', 'Pclass']] = result"
      ],
      "metadata": {
        "id": "20MljJPy16Vl"
      },
      "execution_count": null,
      "outputs": []
    },
    {
      "cell_type": "markdown",
      "source": [
        "![2.PNG](data:image/png;base64,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)"
      ],
      "metadata": {
        "id": "_njqtwMNlC9f"
      }
    },
    {
      "cell_type": "code",
      "source": [
        "# null값이 있는 지 확인하기\n",
        "\n",
        "train[['Age', 'Pclass']].isnull().sum() "
      ],
      "metadata": {
        "colab": {
          "base_uri": "https://localhost:8080/"
        },
        "id": "g4ldcMhJ2HeJ",
        "outputId": "5070d7a7-6bb7-4e66-d7a1-6b2374d88446"
      },
      "execution_count": null,
      "outputs": [
        {
          "output_type": "execute_result",
          "data": {
            "text/plain": [
              "Age       0\n",
              "Pclass    0\n",
              "dtype: int64"
            ]
          },
          "metadata": {},
          "execution_count": 24
        }
      ]
    },
    {
      "cell_type": "code",
      "source": [
        "train[['Age', 'Pclass']].describe()"
      ],
      "metadata": {
        "colab": {
          "base_uri": "https://localhost:8080/",
          "height": 300
        },
        "id": "6QSSCGq_2Ms7",
        "outputId": "ecc028f5-d517-4ab0-b207-3728acf1db7c"
      },
      "execution_count": null,
      "outputs": [
        {
          "output_type": "execute_result",
          "data": {
            "text/plain": [
              "              Age      Pclass\n",
              "count  891.000000  891.000000\n",
              "mean    29.699118    2.308642\n",
              "std     13.002015    0.836071\n",
              "min      0.420000    1.000000\n",
              "25%     22.000000    2.000000\n",
              "50%     29.699118    3.000000\n",
              "75%     35.000000    3.000000\n",
              "max     80.000000    3.000000"
            ],
            "text/html": [
              "\n",
              "  <div id=\"df-2d44ca4a-2bc6-4041-a596-f0853f9fcd0e\">\n",
              "    <div class=\"colab-df-container\">\n",
              "      <div>\n",
              "<style scoped>\n",
              "    .dataframe tbody tr th:only-of-type {\n",
              "        vertical-align: middle;\n",
              "    }\n",
              "\n",
              "    .dataframe tbody tr th {\n",
              "        vertical-align: top;\n",
              "    }\n",
              "\n",
              "    .dataframe thead th {\n",
              "        text-align: right;\n",
              "    }\n",
              "</style>\n",
              "<table border=\"1\" class=\"dataframe\">\n",
              "  <thead>\n",
              "    <tr style=\"text-align: right;\">\n",
              "      <th></th>\n",
              "      <th>Age</th>\n",
              "      <th>Pclass</th>\n",
              "    </tr>\n",
              "  </thead>\n",
              "  <tbody>\n",
              "    <tr>\n",
              "      <th>count</th>\n",
              "      <td>891.000000</td>\n",
              "      <td>891.000000</td>\n",
              "    </tr>\n",
              "    <tr>\n",
              "      <th>mean</th>\n",
              "      <td>29.699118</td>\n",
              "      <td>2.308642</td>\n",
              "    </tr>\n",
              "    <tr>\n",
              "      <th>std</th>\n",
              "      <td>13.002015</td>\n",
              "      <td>0.836071</td>\n",
              "    </tr>\n",
              "    <tr>\n",
              "      <th>min</th>\n",
              "      <td>0.420000</td>\n",
              "      <td>1.000000</td>\n",
              "    </tr>\n",
              "    <tr>\n",
              "      <th>25%</th>\n",
              "      <td>22.000000</td>\n",
              "      <td>2.000000</td>\n",
              "    </tr>\n",
              "    <tr>\n",
              "      <th>50%</th>\n",
              "      <td>29.699118</td>\n",
              "      <td>3.000000</td>\n",
              "    </tr>\n",
              "    <tr>\n",
              "      <th>75%</th>\n",
              "      <td>35.000000</td>\n",
              "      <td>3.000000</td>\n",
              "    </tr>\n",
              "    <tr>\n",
              "      <th>max</th>\n",
              "      <td>80.000000</td>\n",
              "      <td>3.000000</td>\n",
              "    </tr>\n",
              "  </tbody>\n",
              "</table>\n",
              "</div>\n",
              "      <button class=\"colab-df-convert\" onclick=\"convertToInteractive('df-2d44ca4a-2bc6-4041-a596-f0853f9fcd0e')\"\n",
              "              title=\"Convert this dataframe to an interactive table.\"\n",
              "              style=\"display:none;\">\n",
              "        \n",
              "  <svg xmlns=\"http://www.w3.org/2000/svg\" height=\"24px\"viewBox=\"0 0 24 24\"\n",
              "       width=\"24px\">\n",
              "    <path d=\"M0 0h24v24H0V0z\" fill=\"none\"/>\n",
              "    <path d=\"M18.56 5.44l.94 2.06.94-2.06 2.06-.94-2.06-.94-.94-2.06-.94 2.06-2.06.94zm-11 1L8.5 8.5l.94-2.06 2.06-.94-2.06-.94L8.5 2.5l-.94 2.06-2.06.94zm10 10l.94 2.06.94-2.06 2.06-.94-2.06-.94-.94-2.06-.94 2.06-2.06.94z\"/><path d=\"M17.41 7.96l-1.37-1.37c-.4-.4-.92-.59-1.43-.59-.52 0-1.04.2-1.43.59L10.3 9.45l-7.72 7.72c-.78.78-.78 2.05 0 2.83L4 21.41c.39.39.9.59 1.41.59.51 0 1.02-.2 1.41-.59l7.78-7.78 2.81-2.81c.8-.78.8-2.07 0-2.86zM5.41 20L4 18.59l7.72-7.72 1.47 1.35L5.41 20z\"/>\n",
              "  </svg>\n",
              "      </button>\n",
              "      \n",
              "  <style>\n",
              "    .colab-df-container {\n",
              "      display:flex;\n",
              "      flex-wrap:wrap;\n",
              "      gap: 12px;\n",
              "    }\n",
              "\n",
              "    .colab-df-convert {\n",
              "      background-color: #E8F0FE;\n",
              "      border: none;\n",
              "      border-radius: 50%;\n",
              "      cursor: pointer;\n",
              "      display: none;\n",
              "      fill: #1967D2;\n",
              "      height: 32px;\n",
              "      padding: 0 0 0 0;\n",
              "      width: 32px;\n",
              "    }\n",
              "\n",
              "    .colab-df-convert:hover {\n",
              "      background-color: #E2EBFA;\n",
              "      box-shadow: 0px 1px 2px rgba(60, 64, 67, 0.3), 0px 1px 3px 1px rgba(60, 64, 67, 0.15);\n",
              "      fill: #174EA6;\n",
              "    }\n",
              "\n",
              "    [theme=dark] .colab-df-convert {\n",
              "      background-color: #3B4455;\n",
              "      fill: #D2E3FC;\n",
              "    }\n",
              "\n",
              "    [theme=dark] .colab-df-convert:hover {\n",
              "      background-color: #434B5C;\n",
              "      box-shadow: 0px 1px 3px 1px rgba(0, 0, 0, 0.15);\n",
              "      filter: drop-shadow(0px 1px 2px rgba(0, 0, 0, 0.3));\n",
              "      fill: #FFFFFF;\n",
              "    }\n",
              "  </style>\n",
              "\n",
              "      <script>\n",
              "        const buttonEl =\n",
              "          document.querySelector('#df-2d44ca4a-2bc6-4041-a596-f0853f9fcd0e button.colab-df-convert');\n",
              "        buttonEl.style.display =\n",
              "          google.colab.kernel.accessAllowed ? 'block' : 'none';\n",
              "\n",
              "        async function convertToInteractive(key) {\n",
              "          const element = document.querySelector('#df-2d44ca4a-2bc6-4041-a596-f0853f9fcd0e');\n",
              "          const dataTable =\n",
              "            await google.colab.kernel.invokeFunction('convertToInteractive',\n",
              "                                                     [key], {});\n",
              "          if (!dataTable) return;\n",
              "\n",
              "          const docLinkHtml = 'Like what you see? Visit the ' +\n",
              "            '<a target=\"_blank\" href=https://colab.research.google.com/notebooks/data_table.ipynb>data table notebook</a>'\n",
              "            + ' to learn more about interactive tables.';\n",
              "          element.innerHTML = '';\n",
              "          dataTable['output_type'] = 'display_data';\n",
              "          await google.colab.output.renderOutput(dataTable, element);\n",
              "          const docLink = document.createElement('div');\n",
              "          docLink.innerHTML = docLinkHtml;\n",
              "          element.appendChild(docLink);\n",
              "        }\n",
              "      </script>\n",
              "    </div>\n",
              "  </div>\n",
              "  "
            ]
          },
          "metadata": {},
          "execution_count": 25
        }
      ]
    },
    {
      "cell_type": "code",
      "source": [
        "##################################################################"
      ],
      "metadata": {
        "id": "GxRzrE6G2jys"
      },
      "execution_count": null,
      "outputs": []
    },
    {
      "cell_type": "code",
      "source": [
        "train['Embarked'].fillna('S')"
      ],
      "metadata": {
        "colab": {
          "base_uri": "https://localhost:8080/"
        },
        "id": "N3TDzQZ33m6u",
        "outputId": "a27fcfe2-f9c9-4094-bd44-24deed8b75ab"
      },
      "execution_count": null,
      "outputs": [
        {
          "output_type": "execute_result",
          "data": {
            "text/plain": [
              "0      S\n",
              "1      C\n",
              "2      S\n",
              "3      S\n",
              "4      S\n",
              "      ..\n",
              "886    S\n",
              "887    S\n",
              "888    S\n",
              "889    C\n",
              "890    Q\n",
              "Name: Embarked, Length: 891, dtype: object"
            ]
          },
          "metadata": {},
          "execution_count": 27
        }
      ]
    },
    {
      "cell_type": "code",
      "source": [
        "# 최빈값이용해서 null값을 채우고, 데이터를 적용하기\n",
        "\n",
        "imputer = SimpleImputer(strategy='most_frequent')\n",
        "\n",
        "result = imputer.fit_transform(train[['Embarked', 'Cabin']])"
      ],
      "metadata": {
        "id": "fd_wWB1Z3ulJ"
      },
      "execution_count": null,
      "outputs": []
    },
    {
      "cell_type": "code",
      "source": [
        "train[['Embarked', 'Cabin']] = result"
      ],
      "metadata": {
        "id": "W8BeSjKr4Nwe"
      },
      "execution_count": null,
      "outputs": []
    },
    {
      "cell_type": "code",
      "source": [
        "train[['Embarked', 'Cabin']].isnull().sum()"
      ],
      "metadata": {
        "colab": {
          "base_uri": "https://localhost:8080/"
        },
        "id": "3DSb-Y1v4R9h",
        "outputId": "0709c090-1891-49d5-ade6-93b0a59889cd"
      },
      "execution_count": null,
      "outputs": [
        {
          "output_type": "execute_result",
          "data": {
            "text/plain": [
              "Embarked    0\n",
              "Cabin       0\n",
              "dtype: int64"
            ]
          },
          "metadata": {},
          "execution_count": 54
        }
      ]
    },
    {
      "cell_type": "markdown",
      "source": [
        "# 4. Lable Encoding"
      ],
      "metadata": {
        "id": "jiIW9QAG4zGA"
      }
    },
    {
      "cell_type": "markdown",
      "source": [
        "* 문자(Categorical)를 수치(Numerical)로 변환"
      ],
      "metadata": {
        "id": "AmP8FNgc42KU"
      }
    },
    {
      "cell_type": "code",
      "source": [
        "train.info()"
      ],
      "metadata": {
        "colab": {
          "base_uri": "https://localhost:8080/"
        },
        "id": "68pI0v4x4VNA",
        "outputId": "5a0b9742-d9f6-4b64-a26e-b345fb446990"
      },
      "execution_count": null,
      "outputs": [
        {
          "output_type": "stream",
          "name": "stdout",
          "text": [
            "<class 'pandas.core.frame.DataFrame'>\n",
            "RangeIndex: 891 entries, 0 to 890\n",
            "Data columns (total 12 columns):\n",
            " #   Column       Non-Null Count  Dtype  \n",
            "---  ------       --------------  -----  \n",
            " 0   PassengerId  891 non-null    int64  \n",
            " 1   Survived     891 non-null    int64  \n",
            " 2   Pclass       891 non-null    float64\n",
            " 3   Name         891 non-null    object \n",
            " 4   Sex          891 non-null    object \n",
            " 5   Age          891 non-null    float64\n",
            " 6   SibSp        891 non-null    int64  \n",
            " 7   Parch        891 non-null    int64  \n",
            " 8   Ticket       891 non-null    object \n",
            " 9   Fare         891 non-null    float64\n",
            " 10  Cabin        891 non-null    object \n",
            " 11  Embarked     891 non-null    object \n",
            "dtypes: float64(3), int64(4), object(5)\n",
            "memory usage: 83.7+ KB\n"
          ]
        }
      ]
    },
    {
      "cell_type": "code",
      "source": [
        "def convert(data):\n",
        "  if data == 'male':\n",
        "    return 1\n",
        "  elif data == 'female':\n",
        "    return 0\n",
        "    "
      ],
      "metadata": {
        "id": "ugj-4Xg15GaR"
      },
      "execution_count": null,
      "outputs": []
    },
    {
      "cell_type": "code",
      "source": [
        "train['Sex'].value_counts()"
      ],
      "metadata": {
        "colab": {
          "base_uri": "https://localhost:8080/"
        },
        "id": "4hRsYYLB5lVi",
        "outputId": "5e40faa7-8524-4a40-c8b8-021d61818b4c"
      },
      "execution_count": null,
      "outputs": [
        {
          "output_type": "execute_result",
          "data": {
            "text/plain": [
              "male      577\n",
              "female    314\n",
              "Name: Sex, dtype: int64"
            ]
          },
          "metadata": {},
          "execution_count": 34
        }
      ]
    },
    {
      "cell_type": "code",
      "source": [
        "train['Sex'].apply(convert)"
      ],
      "metadata": {
        "colab": {
          "base_uri": "https://localhost:8080/"
        },
        "id": "bu5FaujM5onQ",
        "outputId": "8fd1866d-c843-4093-f9fb-0ed0855b5c87"
      },
      "execution_count": null,
      "outputs": [
        {
          "output_type": "execute_result",
          "data": {
            "text/plain": [
              "0      1\n",
              "1      0\n",
              "2      0\n",
              "3      0\n",
              "4      1\n",
              "      ..\n",
              "886    1\n",
              "887    0\n",
              "888    0\n",
              "889    1\n",
              "890    1\n",
              "Name: Sex, Length: 891, dtype: int64"
            ]
          },
          "metadata": {},
          "execution_count": 35
        }
      ]
    },
    {
      "cell_type": "code",
      "source": [
        "####################### 위와 아래의 작업이 같음"
      ],
      "metadata": {
        "id": "XdaidgtLoz79"
      },
      "execution_count": null,
      "outputs": []
    },
    {
      "cell_type": "code",
      "source": [
        "from sklearn.preprocessing import LabelEncoder"
      ],
      "metadata": {
        "id": "AimjI2_j5uek"
      },
      "execution_count": null,
      "outputs": []
    },
    {
      "cell_type": "code",
      "source": [
        "le = LabelEncoder()"
      ],
      "metadata": {
        "id": "gztWrysO6LOI"
      },
      "execution_count": null,
      "outputs": []
    },
    {
      "cell_type": "code",
      "source": [
        "train['Sex_num'] = le.fit_transform(train['Sex'])   # train에 성별변수(Sex_num)를 만들고 거기에다가 학습을 시켜서\n",
        "\n",
        "# "
      ],
      "metadata": {
        "id": "zO58h5fq6OAm"
      },
      "execution_count": null,
      "outputs": []
    },
    {
      "cell_type": "code",
      "source": [
        "train['Sex_num'].value_counts()"
      ],
      "metadata": {
        "colab": {
          "base_uri": "https://localhost:8080/"
        },
        "id": "RWOofkSC6YyQ",
        "outputId": "4dc97f44-e6a7-42c6-ad7d-c890a5ff3b73"
      },
      "execution_count": null,
      "outputs": [
        {
          "output_type": "execute_result",
          "data": {
            "text/plain": [
              "1    577\n",
              "0    314\n",
              "Name: Sex_num, dtype: int64"
            ]
          },
          "metadata": {},
          "execution_count": 39
        }
      ]
    },
    {
      "cell_type": "code",
      "source": [
        "# 뭐가 라벨인코딩을 통해서 1과 0으로 만들었는지 알고싶다면\n",
        "\n",
        "le.classes_"
      ],
      "metadata": {
        "colab": {
          "base_uri": "https://localhost:8080/"
        },
        "id": "y6c1mOGaBmWP",
        "outputId": "5ef536e6-53d5-4b03-f787-f2d8e844bfdb"
      },
      "execution_count": null,
      "outputs": [
        {
          "output_type": "execute_result",
          "data": {
            "text/plain": [
              "array(['female', 'male'], dtype=object)"
            ]
          },
          "metadata": {},
          "execution_count": 40
        }
      ]
    },
    {
      "cell_type": "code",
      "source": [
        "# 반대로 확인하고싶다면\n",
        "\n",
        "le.inverse_transform([0, 1, 1, 0, 0, 1, 1])"
      ],
      "metadata": {
        "colab": {
          "base_uri": "https://localhost:8080/"
        },
        "id": "tDX-n5eJB3Wp",
        "outputId": "5b0ef3c1-41a4-4730-fd4f-e93305830317"
      },
      "execution_count": null,
      "outputs": [
        {
          "output_type": "execute_result",
          "data": {
            "text/plain": [
              "array(['female', 'male', 'male', 'female', 'female', 'male', 'male'],\n",
              "      dtype=object)"
            ]
          },
          "metadata": {},
          "execution_count": 41
        }
      ]
    },
    {
      "cell_type": "code",
      "source": [
        "# 탑승항구 알파벳이 숫자로 바꿔주고싶으면\n",
        "\n",
        "le.fit_transform(train['Embarked'])"
      ],
      "metadata": {
        "colab": {
          "base_uri": "https://localhost:8080/"
        },
        "id": "IwH9dMD4CNlq",
        "outputId": "6dd2c39f-2910-478e-ceb9-cb32101d295a"
      },
      "execution_count": null,
      "outputs": [
        {
          "output_type": "execute_result",
          "data": {
            "text/plain": [
              "array([2, 0, 2, 2, 2, 1, 2, 2, 2, 0, 2, 2, 2, 2, 2, 2, 1, 2, 2, 0, 2, 2,\n",
              "       1, 2, 2, 2, 0, 2, 1, 2, 0, 0, 1, 2, 0, 2, 0, 2, 2, 0, 2, 2, 0, 0,\n",
              "       1, 2, 1, 1, 0, 2, 2, 2, 0, 2, 0, 2, 2, 0, 2, 2, 0, 2, 2, 2, 0, 0,\n",
              "       2, 2, 2, 2, 2, 2, 2, 0, 2, 2, 2, 2, 2, 2, 2, 2, 1, 2, 2, 2, 2, 2,\n",
              "       2, 2, 2, 2, 2, 2, 2, 2, 0, 0, 2, 2, 2, 2, 2, 2, 2, 2, 2, 2, 2, 1,\n",
              "       2, 0, 2, 2, 0, 2, 1, 2, 0, 2, 2, 2, 0, 2, 2, 0, 1, 2, 0, 2, 0, 2,\n",
              "       2, 2, 2, 0, 2, 2, 2, 0, 0, 2, 2, 1, 2, 2, 2, 2, 2, 2, 2, 2, 2, 2,\n",
              "       2, 0, 1, 2, 2, 2, 2, 2, 2, 2, 2, 2, 2, 2, 2, 2, 2, 1, 2, 2, 0, 2,\n",
              "       2, 0, 2, 2, 2, 0, 2, 2, 2, 2, 1, 2, 1, 2, 2, 2, 2, 2, 0, 0, 1, 2,\n",
              "       1, 2, 2, 2, 2, 0, 2, 2, 2, 0, 1, 0, 2, 2, 2, 2, 1, 0, 2, 2, 0, 2,\n",
              "       2, 2, 2, 2, 2, 2, 2, 2, 2, 2, 2, 2, 2, 2, 2, 2, 2, 2, 2, 2, 0, 1,\n",
              "       2, 2, 0, 1, 2, 2, 2, 2, 2, 2, 2, 2, 2, 0, 0, 2, 0, 2, 1, 2, 2, 2,\n",
              "       1, 2, 2, 2, 2, 2, 2, 2, 2, 0, 1, 2, 2, 2, 1, 2, 1, 2, 2, 2, 2, 0,\n",
              "       2, 2, 2, 1, 2, 0, 0, 2, 2, 0, 0, 2, 2, 0, 1, 1, 2, 1, 2, 2, 0, 0,\n",
              "       0, 0, 0, 0, 2, 2, 2, 2, 2, 2, 2, 0, 2, 2, 1, 2, 2, 0, 2, 2, 2, 0,\n",
              "       1, 2, 2, 2, 2, 2, 2, 0, 2, 2, 2, 2, 2, 2, 2, 2, 2, 2, 2, 2, 2, 2,\n",
              "       0, 2, 0, 2, 2, 2, 1, 1, 2, 0, 0, 2, 1, 2, 0, 0, 1, 0, 0, 2, 2, 0,\n",
              "       2, 0, 2, 0, 0, 2, 0, 0, 2, 2, 2, 2, 2, 2, 1, 0, 2, 2, 2, 0, 2, 2,\n",
              "       2, 2, 2, 2, 2, 2, 2, 2, 2, 2, 2, 2, 2, 2, 2, 1, 1, 2, 2, 2, 2, 2,\n",
              "       2, 2, 0, 1, 2, 2, 2, 2, 2, 2, 1, 2, 2, 2, 2, 2, 2, 2, 2, 2, 2, 2,\n",
              "       2, 2, 2, 2, 2, 2, 2, 2, 0, 2, 2, 2, 0, 0, 2, 0, 2, 2, 2, 1, 2, 2,\n",
              "       2, 2, 2, 2, 2, 2, 1, 0, 2, 2, 2, 0, 2, 2, 2, 2, 2, 2, 2, 2, 2, 2,\n",
              "       0, 2, 2, 0, 2, 2, 2, 2, 2, 0, 2, 0, 0, 2, 2, 2, 2, 1, 1, 2, 2, 0,\n",
              "       2, 2, 2, 2, 1, 2, 2, 0, 2, 2, 2, 1, 2, 2, 2, 2, 0, 0, 0, 1, 2, 2,\n",
              "       2, 2, 2, 0, 0, 0, 2, 2, 2, 0, 2, 0, 2, 2, 2, 2, 0, 2, 2, 0, 2, 2,\n",
              "       0, 2, 1, 0, 2, 2, 0, 0, 2, 2, 1, 2, 2, 2, 2, 2, 2, 2, 0, 2, 2, 2,\n",
              "       2, 1, 2, 2, 2, 2, 0, 2, 2, 0, 2, 0, 0, 2, 2, 0, 2, 2, 2, 0, 2, 1,\n",
              "       2, 2, 2, 2, 0, 0, 2, 2, 2, 2, 0, 2, 2, 2, 0, 2, 2, 2, 1, 1, 2, 2,\n",
              "       2, 2, 2, 2, 0, 2, 0, 2, 2, 2, 1, 2, 2, 1, 2, 2, 0, 2, 2, 2, 2, 2,\n",
              "       2, 2, 2, 0, 2, 2, 0, 0, 2, 0, 2, 2, 2, 2, 2, 1, 1, 2, 2, 1, 2, 0,\n",
              "       2, 0, 2, 2, 2, 2, 2, 2, 2, 2, 2, 2, 2, 2, 2, 2, 2, 2, 2, 0, 1, 0,\n",
              "       2, 2, 2, 0, 2, 2, 2, 2, 2, 0, 2, 0, 2, 2, 2, 1, 0, 2, 0, 2, 0, 1,\n",
              "       2, 2, 2, 2, 2, 0, 0, 2, 2, 2, 2, 2, 0, 2, 1, 2, 2, 2, 2, 2, 2, 2,\n",
              "       2, 1, 2, 2, 2, 0, 2, 2, 2, 2, 2, 0, 2, 2, 2, 2, 0, 2, 2, 2, 2, 2,\n",
              "       2, 1, 2, 2, 2, 2, 2, 2, 2, 2, 2, 2, 2, 2, 0, 2, 2, 2, 0, 1, 1, 2,\n",
              "       2, 2, 2, 0, 2, 2, 1, 2, 1, 2, 0, 2, 2, 2, 2, 2, 2, 1, 2, 0, 1, 2,\n",
              "       2, 0, 2, 2, 2, 2, 0, 2, 2, 2, 2, 0, 2, 2, 2, 2, 2, 2, 2, 2, 2, 2,\n",
              "       2, 2, 2, 0, 2, 2, 2, 2, 2, 2, 2, 1, 2, 0, 1, 2, 0, 2, 0, 2, 2, 0,\n",
              "       2, 2, 2, 0, 2, 2, 0, 0, 2, 2, 2, 0, 2, 0, 2, 2, 0, 2, 2, 2, 2, 2,\n",
              "       0, 0, 2, 2, 2, 2, 2, 2, 0, 2, 2, 2, 2, 2, 2, 2, 0, 0, 2, 2, 2, 0,\n",
              "       2, 2, 2, 2, 2, 1, 2, 2, 2, 0, 1])"
            ]
          },
          "metadata": {},
          "execution_count": 42
        }
      ]
    },
    {
      "cell_type": "code",
      "source": [
        "le.classes_"
      ],
      "metadata": {
        "colab": {
          "base_uri": "https://localhost:8080/"
        },
        "id": "cMS1hhbGChvP",
        "outputId": "0fbae1ff-1f5e-4958-f11c-ca005fc9a3f3"
      },
      "execution_count": null,
      "outputs": [
        {
          "output_type": "execute_result",
          "data": {
            "text/plain": [
              "array(['C', 'Q', 'S'], dtype=object)"
            ]
          },
          "metadata": {},
          "execution_count": 43
        }
      ]
    },
    {
      "cell_type": "markdown",
      "source": [
        "# 5. One Hot Encoding"
      ],
      "metadata": {
        "id": "B6qdsHBtDF03"
      }
    },
    {
      "cell_type": "code",
      "source": [
        "# 위에서 값이 변했기때문에 깨끗한 데이터를 가져오기\n",
        "\n",
        "train = pd.read_csv('http://bit.ly/fc-ml-titanic')"
      ],
      "metadata": {
        "id": "CUkn7u5qC5kA"
      },
      "execution_count": null,
      "outputs": []
    },
    {
      "cell_type": "code",
      "source": [
        "train.head()"
      ],
      "metadata": {
        "colab": {
          "base_uri": "https://localhost:8080/",
          "height": 250
        },
        "id": "j_xY4kEdDWko",
        "outputId": "07e8054a-9126-48f2-f1a1-f18d3db11aec"
      },
      "execution_count": null,
      "outputs": [
        {
          "output_type": "execute_result",
          "data": {
            "text/plain": [
              "   PassengerId  Survived  Pclass  \\\n",
              "0            1         0       3   \n",
              "1            2         1       1   \n",
              "2            3         1       3   \n",
              "3            4         1       1   \n",
              "4            5         0       3   \n",
              "\n",
              "                                                Name     Sex   Age  SibSp  \\\n",
              "0                            Braund, Mr. Owen Harris    male  22.0      1   \n",
              "1  Cumings, Mrs. John Bradley (Florence Briggs Th...  female  38.0      1   \n",
              "2                             Heikkinen, Miss. Laina  female  26.0      0   \n",
              "3       Futrelle, Mrs. Jacques Heath (Lily May Peel)  female  35.0      1   \n",
              "4                           Allen, Mr. William Henry    male  35.0      0   \n",
              "\n",
              "   Parch            Ticket     Fare Cabin Embarked  \n",
              "0      0         A/5 21171   7.2500   NaN        S  \n",
              "1      0          PC 17599  71.2833   C85        C  \n",
              "2      0  STON/O2. 3101282   7.9250   NaN        S  \n",
              "3      0            113803  53.1000  C123        S  \n",
              "4      0            373450   8.0500   NaN        S  "
            ],
            "text/html": [
              "\n",
              "  <div id=\"df-24f3f4e9-631a-4269-90b8-656be6f62407\">\n",
              "    <div class=\"colab-df-container\">\n",
              "      <div>\n",
              "<style scoped>\n",
              "    .dataframe tbody tr th:only-of-type {\n",
              "        vertical-align: middle;\n",
              "    }\n",
              "\n",
              "    .dataframe tbody tr th {\n",
              "        vertical-align: top;\n",
              "    }\n",
              "\n",
              "    .dataframe thead th {\n",
              "        text-align: right;\n",
              "    }\n",
              "</style>\n",
              "<table border=\"1\" class=\"dataframe\">\n",
              "  <thead>\n",
              "    <tr style=\"text-align: right;\">\n",
              "      <th></th>\n",
              "      <th>PassengerId</th>\n",
              "      <th>Survived</th>\n",
              "      <th>Pclass</th>\n",
              "      <th>Name</th>\n",
              "      <th>Sex</th>\n",
              "      <th>Age</th>\n",
              "      <th>SibSp</th>\n",
              "      <th>Parch</th>\n",
              "      <th>Ticket</th>\n",
              "      <th>Fare</th>\n",
              "      <th>Cabin</th>\n",
              "      <th>Embarked</th>\n",
              "    </tr>\n",
              "  </thead>\n",
              "  <tbody>\n",
              "    <tr>\n",
              "      <th>0</th>\n",
              "      <td>1</td>\n",
              "      <td>0</td>\n",
              "      <td>3</td>\n",
              "      <td>Braund, Mr. Owen Harris</td>\n",
              "      <td>male</td>\n",
              "      <td>22.0</td>\n",
              "      <td>1</td>\n",
              "      <td>0</td>\n",
              "      <td>A/5 21171</td>\n",
              "      <td>7.2500</td>\n",
              "      <td>NaN</td>\n",
              "      <td>S</td>\n",
              "    </tr>\n",
              "    <tr>\n",
              "      <th>1</th>\n",
              "      <td>2</td>\n",
              "      <td>1</td>\n",
              "      <td>1</td>\n",
              "      <td>Cumings, Mrs. John Bradley (Florence Briggs Th...</td>\n",
              "      <td>female</td>\n",
              "      <td>38.0</td>\n",
              "      <td>1</td>\n",
              "      <td>0</td>\n",
              "      <td>PC 17599</td>\n",
              "      <td>71.2833</td>\n",
              "      <td>C85</td>\n",
              "      <td>C</td>\n",
              "    </tr>\n",
              "    <tr>\n",
              "      <th>2</th>\n",
              "      <td>3</td>\n",
              "      <td>1</td>\n",
              "      <td>3</td>\n",
              "      <td>Heikkinen, Miss. Laina</td>\n",
              "      <td>female</td>\n",
              "      <td>26.0</td>\n",
              "      <td>0</td>\n",
              "      <td>0</td>\n",
              "      <td>STON/O2. 3101282</td>\n",
              "      <td>7.9250</td>\n",
              "      <td>NaN</td>\n",
              "      <td>S</td>\n",
              "    </tr>\n",
              "    <tr>\n",
              "      <th>3</th>\n",
              "      <td>4</td>\n",
              "      <td>1</td>\n",
              "      <td>1</td>\n",
              "      <td>Futrelle, Mrs. Jacques Heath (Lily May Peel)</td>\n",
              "      <td>female</td>\n",
              "      <td>35.0</td>\n",
              "      <td>1</td>\n",
              "      <td>0</td>\n",
              "      <td>113803</td>\n",
              "      <td>53.1000</td>\n",
              "      <td>C123</td>\n",
              "      <td>S</td>\n",
              "    </tr>\n",
              "    <tr>\n",
              "      <th>4</th>\n",
              "      <td>5</td>\n",
              "      <td>0</td>\n",
              "      <td>3</td>\n",
              "      <td>Allen, Mr. William Henry</td>\n",
              "      <td>male</td>\n",
              "      <td>35.0</td>\n",
              "      <td>0</td>\n",
              "      <td>0</td>\n",
              "      <td>373450</td>\n",
              "      <td>8.0500</td>\n",
              "      <td>NaN</td>\n",
              "      <td>S</td>\n",
              "    </tr>\n",
              "  </tbody>\n",
              "</table>\n",
              "</div>\n",
              "      <button class=\"colab-df-convert\" onclick=\"convertToInteractive('df-24f3f4e9-631a-4269-90b8-656be6f62407')\"\n",
              "              title=\"Convert this dataframe to an interactive table.\"\n",
              "              style=\"display:none;\">\n",
              "        \n",
              "  <svg xmlns=\"http://www.w3.org/2000/svg\" height=\"24px\"viewBox=\"0 0 24 24\"\n",
              "       width=\"24px\">\n",
              "    <path d=\"M0 0h24v24H0V0z\" fill=\"none\"/>\n",
              "    <path d=\"M18.56 5.44l.94 2.06.94-2.06 2.06-.94-2.06-.94-.94-2.06-.94 2.06-2.06.94zm-11 1L8.5 8.5l.94-2.06 2.06-.94-2.06-.94L8.5 2.5l-.94 2.06-2.06.94zm10 10l.94 2.06.94-2.06 2.06-.94-2.06-.94-.94-2.06-.94 2.06-2.06.94z\"/><path d=\"M17.41 7.96l-1.37-1.37c-.4-.4-.92-.59-1.43-.59-.52 0-1.04.2-1.43.59L10.3 9.45l-7.72 7.72c-.78.78-.78 2.05 0 2.83L4 21.41c.39.39.9.59 1.41.59.51 0 1.02-.2 1.41-.59l7.78-7.78 2.81-2.81c.8-.78.8-2.07 0-2.86zM5.41 20L4 18.59l7.72-7.72 1.47 1.35L5.41 20z\"/>\n",
              "  </svg>\n",
              "      </button>\n",
              "      \n",
              "  <style>\n",
              "    .colab-df-container {\n",
              "      display:flex;\n",
              "      flex-wrap:wrap;\n",
              "      gap: 12px;\n",
              "    }\n",
              "\n",
              "    .colab-df-convert {\n",
              "      background-color: #E8F0FE;\n",
              "      border: none;\n",
              "      border-radius: 50%;\n",
              "      cursor: pointer;\n",
              "      display: none;\n",
              "      fill: #1967D2;\n",
              "      height: 32px;\n",
              "      padding: 0 0 0 0;\n",
              "      width: 32px;\n",
              "    }\n",
              "\n",
              "    .colab-df-convert:hover {\n",
              "      background-color: #E2EBFA;\n",
              "      box-shadow: 0px 1px 2px rgba(60, 64, 67, 0.3), 0px 1px 3px 1px rgba(60, 64, 67, 0.15);\n",
              "      fill: #174EA6;\n",
              "    }\n",
              "\n",
              "    [theme=dark] .colab-df-convert {\n",
              "      background-color: #3B4455;\n",
              "      fill: #D2E3FC;\n",
              "    }\n",
              "\n",
              "    [theme=dark] .colab-df-convert:hover {\n",
              "      background-color: #434B5C;\n",
              "      box-shadow: 0px 1px 3px 1px rgba(0, 0, 0, 0.15);\n",
              "      filter: drop-shadow(0px 1px 2px rgba(0, 0, 0, 0.3));\n",
              "      fill: #FFFFFF;\n",
              "    }\n",
              "  </style>\n",
              "\n",
              "      <script>\n",
              "        const buttonEl =\n",
              "          document.querySelector('#df-24f3f4e9-631a-4269-90b8-656be6f62407 button.colab-df-convert');\n",
              "        buttonEl.style.display =\n",
              "          google.colab.kernel.accessAllowed ? 'block' : 'none';\n",
              "\n",
              "        async function convertToInteractive(key) {\n",
              "          const element = document.querySelector('#df-24f3f4e9-631a-4269-90b8-656be6f62407');\n",
              "          const dataTable =\n",
              "            await google.colab.kernel.invokeFunction('convertToInteractive',\n",
              "                                                     [key], {});\n",
              "          if (!dataTable) return;\n",
              "\n",
              "          const docLinkHtml = 'Like what you see? Visit the ' +\n",
              "            '<a target=\"_blank\" href=https://colab.research.google.com/notebooks/data_table.ipynb>data table notebook</a>'\n",
              "            + ' to learn more about interactive tables.';\n",
              "          element.innerHTML = '';\n",
              "          dataTable['output_type'] = 'display_data';\n",
              "          await google.colab.output.renderOutput(dataTable, element);\n",
              "          const docLink = document.createElement('div');\n",
              "          docLink.innerHTML = docLinkHtml;\n",
              "          element.appendChild(docLink);\n",
              "        }\n",
              "      </script>\n",
              "    </div>\n",
              "  </div>\n",
              "  "
            ]
          },
          "metadata": {},
          "execution_count": 45
        }
      ]
    },
    {
      "cell_type": "code",
      "source": [
        "# 탑승항구를 가지고 값이 몇개가 있는지 확인하기\n",
        "\n",
        "train['Embarked'].value_counts()"
      ],
      "metadata": {
        "colab": {
          "base_uri": "https://localhost:8080/"
        },
        "id": "VojqwttVDY_c",
        "outputId": "50ad0221-b5b5-4e0d-de85-16ce2b4ddad2"
      },
      "execution_count": null,
      "outputs": [
        {
          "output_type": "execute_result",
          "data": {
            "text/plain": [
              "S    644\n",
              "C    168\n",
              "Q     77\n",
              "Name: Embarked, dtype: int64"
            ]
          },
          "metadata": {},
          "execution_count": 46
        }
      ]
    },
    {
      "cell_type": "code",
      "source": [
        "train.info()"
      ],
      "metadata": {
        "colab": {
          "base_uri": "https://localhost:8080/"
        },
        "id": "-MOaym9IDeKl",
        "outputId": "fe8d766a-af9f-464a-cc4d-10f5cb60ac22"
      },
      "execution_count": null,
      "outputs": [
        {
          "output_type": "stream",
          "name": "stdout",
          "text": [
            "<class 'pandas.core.frame.DataFrame'>\n",
            "RangeIndex: 891 entries, 0 to 890\n",
            "Data columns (total 12 columns):\n",
            " #   Column       Non-Null Count  Dtype  \n",
            "---  ------       --------------  -----  \n",
            " 0   PassengerId  891 non-null    int64  \n",
            " 1   Survived     891 non-null    int64  \n",
            " 2   Pclass       891 non-null    int64  \n",
            " 3   Name         891 non-null    object \n",
            " 4   Sex          891 non-null    object \n",
            " 5   Age          714 non-null    float64\n",
            " 6   SibSp        891 non-null    int64  \n",
            " 7   Parch        891 non-null    int64  \n",
            " 8   Ticket       891 non-null    object \n",
            " 9   Fare         891 non-null    float64\n",
            " 10  Cabin        204 non-null    object \n",
            " 11  Embarked     889 non-null    object \n",
            "dtypes: float64(2), int64(5), object(5)\n",
            "memory usage: 83.7+ KB\n"
          ]
        }
      ]
    },
    {
      "cell_type": "code",
      "source": [
        "# Nan 값을 'S'로 변환\n",
        "\n",
        "train['Embarked'] = train['Embarked'].fillna('S')"
      ],
      "metadata": {
        "id": "e1KqIXZ4EfPw"
      },
      "execution_count": null,
      "outputs": []
    },
    {
      "cell_type": "code",
      "source": [
        "from sklearn.preprocessing import LabelEncoder\n",
        "\n",
        "\n",
        "\n",
        "# 탑승항구를 라벨인코딩하기\n",
        "\n",
        "train['Embarked_num'] = LabelEncoder().fit_transform(train['Embarked'])\n",
        "# 라벨인코더 변수안만들고 쓰는방법 : LabelEncoder()를 쓴다"
      ],
      "metadata": {
        "id": "f_SdxGhtDig9"
      },
      "execution_count": null,
      "outputs": []
    },
    {
      "cell_type": "code",
      "source": [
        "train['Embarked_num'].value_counts()"
      ],
      "metadata": {
        "colab": {
          "base_uri": "https://localhost:8080/"
        },
        "id": "ND6o5Dj3ELwP",
        "outputId": "6aedd06e-af63-4989-acff-e18b3c055b14"
      },
      "execution_count": null,
      "outputs": [
        {
          "output_type": "execute_result",
          "data": {
            "text/plain": [
              "2    646\n",
              "0    168\n",
              "1     77\n",
              "Name: Embarked_num, dtype: int64"
            ]
          },
          "metadata": {},
          "execution_count": 50
        }
      ]
    },
    {
      "cell_type": "code",
      "source": [
        "# 'S' = 2, 'Q' = 1, 'C' = 0\n",
        "# 머신러닝은 위 데이터의 관계성을 찾아서 Q + Q = S 라고 학습을 할 수 있음\n",
        "# 따라서 독립적인 데이터는 별도의 column으로 분리하고 각각의 컬럼에 해당 값에만 True, 나머지를 False값을 같게하는 기술을 적용(원 핫 인코딩)\n",
        "# 관계성을 갖지않게끔 행렬로 만들어서 처리\n",
        "# 수식이 아니라 카테고리컬하게 만드는 것이 원핫인코딩\n",
        "\n",
        "pd.get_dummies(train['Embarked_num'])[:5]"
      ],
      "metadata": {
        "colab": {
          "base_uri": "https://localhost:8080/",
          "height": 206
        },
        "id": "FTJNf0EJEVSZ",
        "outputId": "3b6dff9a-fb45-40fe-fff1-245a45e947b0"
      },
      "execution_count": null,
      "outputs": [
        {
          "output_type": "execute_result",
          "data": {
            "text/plain": [
              "   0  1  2\n",
              "0  0  0  1\n",
              "1  1  0  0\n",
              "2  0  0  1\n",
              "3  0  0  1\n",
              "4  0  0  1"
            ],
            "text/html": [
              "\n",
              "  <div id=\"df-bb5d4264-fb62-4161-a5c8-f300b9dfcda9\">\n",
              "    <div class=\"colab-df-container\">\n",
              "      <div>\n",
              "<style scoped>\n",
              "    .dataframe tbody tr th:only-of-type {\n",
              "        vertical-align: middle;\n",
              "    }\n",
              "\n",
              "    .dataframe tbody tr th {\n",
              "        vertical-align: top;\n",
              "    }\n",
              "\n",
              "    .dataframe thead th {\n",
              "        text-align: right;\n",
              "    }\n",
              "</style>\n",
              "<table border=\"1\" class=\"dataframe\">\n",
              "  <thead>\n",
              "    <tr style=\"text-align: right;\">\n",
              "      <th></th>\n",
              "      <th>0</th>\n",
              "      <th>1</th>\n",
              "      <th>2</th>\n",
              "    </tr>\n",
              "  </thead>\n",
              "  <tbody>\n",
              "    <tr>\n",
              "      <th>0</th>\n",
              "      <td>0</td>\n",
              "      <td>0</td>\n",
              "      <td>1</td>\n",
              "    </tr>\n",
              "    <tr>\n",
              "      <th>1</th>\n",
              "      <td>1</td>\n",
              "      <td>0</td>\n",
              "      <td>0</td>\n",
              "    </tr>\n",
              "    <tr>\n",
              "      <th>2</th>\n",
              "      <td>0</td>\n",
              "      <td>0</td>\n",
              "      <td>1</td>\n",
              "    </tr>\n",
              "    <tr>\n",
              "      <th>3</th>\n",
              "      <td>0</td>\n",
              "      <td>0</td>\n",
              "      <td>1</td>\n",
              "    </tr>\n",
              "    <tr>\n",
              "      <th>4</th>\n",
              "      <td>0</td>\n",
              "      <td>0</td>\n",
              "      <td>1</td>\n",
              "    </tr>\n",
              "  </tbody>\n",
              "</table>\n",
              "</div>\n",
              "      <button class=\"colab-df-convert\" onclick=\"convertToInteractive('df-bb5d4264-fb62-4161-a5c8-f300b9dfcda9')\"\n",
              "              title=\"Convert this dataframe to an interactive table.\"\n",
              "              style=\"display:none;\">\n",
              "        \n",
              "  <svg xmlns=\"http://www.w3.org/2000/svg\" height=\"24px\"viewBox=\"0 0 24 24\"\n",
              "       width=\"24px\">\n",
              "    <path d=\"M0 0h24v24H0V0z\" fill=\"none\"/>\n",
              "    <path d=\"M18.56 5.44l.94 2.06.94-2.06 2.06-.94-2.06-.94-.94-2.06-.94 2.06-2.06.94zm-11 1L8.5 8.5l.94-2.06 2.06-.94-2.06-.94L8.5 2.5l-.94 2.06-2.06.94zm10 10l.94 2.06.94-2.06 2.06-.94-2.06-.94-.94-2.06-.94 2.06-2.06.94z\"/><path d=\"M17.41 7.96l-1.37-1.37c-.4-.4-.92-.59-1.43-.59-.52 0-1.04.2-1.43.59L10.3 9.45l-7.72 7.72c-.78.78-.78 2.05 0 2.83L4 21.41c.39.39.9.59 1.41.59.51 0 1.02-.2 1.41-.59l7.78-7.78 2.81-2.81c.8-.78.8-2.07 0-2.86zM5.41 20L4 18.59l7.72-7.72 1.47 1.35L5.41 20z\"/>\n",
              "  </svg>\n",
              "      </button>\n",
              "      \n",
              "  <style>\n",
              "    .colab-df-container {\n",
              "      display:flex;\n",
              "      flex-wrap:wrap;\n",
              "      gap: 12px;\n",
              "    }\n",
              "\n",
              "    .colab-df-convert {\n",
              "      background-color: #E8F0FE;\n",
              "      border: none;\n",
              "      border-radius: 50%;\n",
              "      cursor: pointer;\n",
              "      display: none;\n",
              "      fill: #1967D2;\n",
              "      height: 32px;\n",
              "      padding: 0 0 0 0;\n",
              "      width: 32px;\n",
              "    }\n",
              "\n",
              "    .colab-df-convert:hover {\n",
              "      background-color: #E2EBFA;\n",
              "      box-shadow: 0px 1px 2px rgba(60, 64, 67, 0.3), 0px 1px 3px 1px rgba(60, 64, 67, 0.15);\n",
              "      fill: #174EA6;\n",
              "    }\n",
              "\n",
              "    [theme=dark] .colab-df-convert {\n",
              "      background-color: #3B4455;\n",
              "      fill: #D2E3FC;\n",
              "    }\n",
              "\n",
              "    [theme=dark] .colab-df-convert:hover {\n",
              "      background-color: #434B5C;\n",
              "      box-shadow: 0px 1px 3px 1px rgba(0, 0, 0, 0.15);\n",
              "      filter: drop-shadow(0px 1px 2px rgba(0, 0, 0, 0.3));\n",
              "      fill: #FFFFFF;\n",
              "    }\n",
              "  </style>\n",
              "\n",
              "      <script>\n",
              "        const buttonEl =\n",
              "          document.querySelector('#df-bb5d4264-fb62-4161-a5c8-f300b9dfcda9 button.colab-df-convert');\n",
              "        buttonEl.style.display =\n",
              "          google.colab.kernel.accessAllowed ? 'block' : 'none';\n",
              "\n",
              "        async function convertToInteractive(key) {\n",
              "          const element = document.querySelector('#df-bb5d4264-fb62-4161-a5c8-f300b9dfcda9');\n",
              "          const dataTable =\n",
              "            await google.colab.kernel.invokeFunction('convertToInteractive',\n",
              "                                                     [key], {});\n",
              "          if (!dataTable) return;\n",
              "\n",
              "          const docLinkHtml = 'Like what you see? Visit the ' +\n",
              "            '<a target=\"_blank\" href=https://colab.research.google.com/notebooks/data_table.ipynb>data table notebook</a>'\n",
              "            + ' to learn more about interactive tables.';\n",
              "          element.innerHTML = '';\n",
              "          dataTable['output_type'] = 'display_data';\n",
              "          await google.colab.output.renderOutput(dataTable, element);\n",
              "          const docLink = document.createElement('div');\n",
              "          docLink.innerHTML = docLinkHtml;\n",
              "          element.appendChild(docLink);\n",
              "        }\n",
              "      </script>\n",
              "    </div>\n",
              "  </div>\n",
              "  "
            ]
          },
          "metadata": {},
          "execution_count": 51
        }
      ]
    },
    {
      "cell_type": "code",
      "source": [
        "pd.get_dummies(train['Embarked_num'])"
      ],
      "metadata": {
        "id": "2qVGT05qGI8L",
        "colab": {
          "base_uri": "https://localhost:8080/",
          "height": 424
        },
        "outputId": "0eac81ed-c043-4079-cab2-14879e714b79"
      },
      "execution_count": null,
      "outputs": [
        {
          "output_type": "execute_result",
          "data": {
            "text/plain": [
              "     0  1  2\n",
              "0    0  0  1\n",
              "1    1  0  0\n",
              "2    0  0  1\n",
              "3    0  0  1\n",
              "4    0  0  1\n",
              "..  .. .. ..\n",
              "886  0  0  1\n",
              "887  0  0  1\n",
              "888  0  0  1\n",
              "889  1  0  0\n",
              "890  0  1  0\n",
              "\n",
              "[891 rows x 3 columns]"
            ],
            "text/html": [
              "\n",
              "  <div id=\"df-c35cc33c-5c3c-47ac-b385-2fb6c0cf937d\">\n",
              "    <div class=\"colab-df-container\">\n",
              "      <div>\n",
              "<style scoped>\n",
              "    .dataframe tbody tr th:only-of-type {\n",
              "        vertical-align: middle;\n",
              "    }\n",
              "\n",
              "    .dataframe tbody tr th {\n",
              "        vertical-align: top;\n",
              "    }\n",
              "\n",
              "    .dataframe thead th {\n",
              "        text-align: right;\n",
              "    }\n",
              "</style>\n",
              "<table border=\"1\" class=\"dataframe\">\n",
              "  <thead>\n",
              "    <tr style=\"text-align: right;\">\n",
              "      <th></th>\n",
              "      <th>0</th>\n",
              "      <th>1</th>\n",
              "      <th>2</th>\n",
              "    </tr>\n",
              "  </thead>\n",
              "  <tbody>\n",
              "    <tr>\n",
              "      <th>0</th>\n",
              "      <td>0</td>\n",
              "      <td>0</td>\n",
              "      <td>1</td>\n",
              "    </tr>\n",
              "    <tr>\n",
              "      <th>1</th>\n",
              "      <td>1</td>\n",
              "      <td>0</td>\n",
              "      <td>0</td>\n",
              "    </tr>\n",
              "    <tr>\n",
              "      <th>2</th>\n",
              "      <td>0</td>\n",
              "      <td>0</td>\n",
              "      <td>1</td>\n",
              "    </tr>\n",
              "    <tr>\n",
              "      <th>3</th>\n",
              "      <td>0</td>\n",
              "      <td>0</td>\n",
              "      <td>1</td>\n",
              "    </tr>\n",
              "    <tr>\n",
              "      <th>4</th>\n",
              "      <td>0</td>\n",
              "      <td>0</td>\n",
              "      <td>1</td>\n",
              "    </tr>\n",
              "    <tr>\n",
              "      <th>...</th>\n",
              "      <td>...</td>\n",
              "      <td>...</td>\n",
              "      <td>...</td>\n",
              "    </tr>\n",
              "    <tr>\n",
              "      <th>886</th>\n",
              "      <td>0</td>\n",
              "      <td>0</td>\n",
              "      <td>1</td>\n",
              "    </tr>\n",
              "    <tr>\n",
              "      <th>887</th>\n",
              "      <td>0</td>\n",
              "      <td>0</td>\n",
              "      <td>1</td>\n",
              "    </tr>\n",
              "    <tr>\n",
              "      <th>888</th>\n",
              "      <td>0</td>\n",
              "      <td>0</td>\n",
              "      <td>1</td>\n",
              "    </tr>\n",
              "    <tr>\n",
              "      <th>889</th>\n",
              "      <td>1</td>\n",
              "      <td>0</td>\n",
              "      <td>0</td>\n",
              "    </tr>\n",
              "    <tr>\n",
              "      <th>890</th>\n",
              "      <td>0</td>\n",
              "      <td>1</td>\n",
              "      <td>0</td>\n",
              "    </tr>\n",
              "  </tbody>\n",
              "</table>\n",
              "<p>891 rows × 3 columns</p>\n",
              "</div>\n",
              "      <button class=\"colab-df-convert\" onclick=\"convertToInteractive('df-c35cc33c-5c3c-47ac-b385-2fb6c0cf937d')\"\n",
              "              title=\"Convert this dataframe to an interactive table.\"\n",
              "              style=\"display:none;\">\n",
              "        \n",
              "  <svg xmlns=\"http://www.w3.org/2000/svg\" height=\"24px\"viewBox=\"0 0 24 24\"\n",
              "       width=\"24px\">\n",
              "    <path d=\"M0 0h24v24H0V0z\" fill=\"none\"/>\n",
              "    <path d=\"M18.56 5.44l.94 2.06.94-2.06 2.06-.94-2.06-.94-.94-2.06-.94 2.06-2.06.94zm-11 1L8.5 8.5l.94-2.06 2.06-.94-2.06-.94L8.5 2.5l-.94 2.06-2.06.94zm10 10l.94 2.06.94-2.06 2.06-.94-2.06-.94-.94-2.06-.94 2.06-2.06.94z\"/><path d=\"M17.41 7.96l-1.37-1.37c-.4-.4-.92-.59-1.43-.59-.52 0-1.04.2-1.43.59L10.3 9.45l-7.72 7.72c-.78.78-.78 2.05 0 2.83L4 21.41c.39.39.9.59 1.41.59.51 0 1.02-.2 1.41-.59l7.78-7.78 2.81-2.81c.8-.78.8-2.07 0-2.86zM5.41 20L4 18.59l7.72-7.72 1.47 1.35L5.41 20z\"/>\n",
              "  </svg>\n",
              "      </button>\n",
              "      \n",
              "  <style>\n",
              "    .colab-df-container {\n",
              "      display:flex;\n",
              "      flex-wrap:wrap;\n",
              "      gap: 12px;\n",
              "    }\n",
              "\n",
              "    .colab-df-convert {\n",
              "      background-color: #E8F0FE;\n",
              "      border: none;\n",
              "      border-radius: 50%;\n",
              "      cursor: pointer;\n",
              "      display: none;\n",
              "      fill: #1967D2;\n",
              "      height: 32px;\n",
              "      padding: 0 0 0 0;\n",
              "      width: 32px;\n",
              "    }\n",
              "\n",
              "    .colab-df-convert:hover {\n",
              "      background-color: #E2EBFA;\n",
              "      box-shadow: 0px 1px 2px rgba(60, 64, 67, 0.3), 0px 1px 3px 1px rgba(60, 64, 67, 0.15);\n",
              "      fill: #174EA6;\n",
              "    }\n",
              "\n",
              "    [theme=dark] .colab-df-convert {\n",
              "      background-color: #3B4455;\n",
              "      fill: #D2E3FC;\n",
              "    }\n",
              "\n",
              "    [theme=dark] .colab-df-convert:hover {\n",
              "      background-color: #434B5C;\n",
              "      box-shadow: 0px 1px 3px 1px rgba(0, 0, 0, 0.15);\n",
              "      filter: drop-shadow(0px 1px 2px rgba(0, 0, 0, 0.3));\n",
              "      fill: #FFFFFF;\n",
              "    }\n",
              "  </style>\n",
              "\n",
              "      <script>\n",
              "        const buttonEl =\n",
              "          document.querySelector('#df-c35cc33c-5c3c-47ac-b385-2fb6c0cf937d button.colab-df-convert');\n",
              "        buttonEl.style.display =\n",
              "          google.colab.kernel.accessAllowed ? 'block' : 'none';\n",
              "\n",
              "        async function convertToInteractive(key) {\n",
              "          const element = document.querySelector('#df-c35cc33c-5c3c-47ac-b385-2fb6c0cf937d');\n",
              "          const dataTable =\n",
              "            await google.colab.kernel.invokeFunction('convertToInteractive',\n",
              "                                                     [key], {});\n",
              "          if (!dataTable) return;\n",
              "\n",
              "          const docLinkHtml = 'Like what you see? Visit the ' +\n",
              "            '<a target=\"_blank\" href=https://colab.research.google.com/notebooks/data_table.ipynb>data table notebook</a>'\n",
              "            + ' to learn more about interactive tables.';\n",
              "          element.innerHTML = '';\n",
              "          dataTable['output_type'] = 'display_data';\n",
              "          await google.colab.output.renderOutput(dataTable, element);\n",
              "          const docLink = document.createElement('div');\n",
              "          docLink.innerHTML = docLinkHtml;\n",
              "          element.appendChild(docLink);\n",
              "        }\n",
              "      </script>\n",
              "    </div>\n",
              "  </div>\n",
              "  "
            ]
          },
          "metadata": {},
          "execution_count": 55
        }
      ]
    },
    {
      "cell_type": "code",
      "source": [],
      "metadata": {
        "id": "JQifD2QsuKDa"
      },
      "execution_count": null,
      "outputs": []
    }
  ]
}