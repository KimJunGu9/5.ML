{
  "nbformat": 4,
  "nbformat_minor": 0,
  "metadata": {
    "colab": {
      "provenance": [],
      "toc_visible": true,
      "authorship_tag": "ABX9TyN8UO8InHp2fW75tRQLLurp",
      "include_colab_link": true
    },
    "kernelspec": {
      "name": "python3",
      "display_name": "Python 3"
    },
    "language_info": {
      "name": "python"
    }
  },
  "cells": [
    {
      "cell_type": "markdown",
      "metadata": {
        "id": "view-in-github",
        "colab_type": "text"
      },
      "source": [
        "<a href=\"https://colab.research.google.com/github/KimJunGu9/5.ML-DL/blob/main/5_%ED%85%90%EC%84%9C%ED%94%8C%EB%A1%9C%EC%9A%B0.ipynb\" target=\"_parent\"><img src=\"https://colab.research.google.com/assets/colab-badge.svg\" alt=\"Open In Colab\"/></a>"
      ]
    },
    {
      "cell_type": "markdown",
      "source": [
        "# 1. 텐서플로우(TensorFlow)"
      ],
      "metadata": {
        "id": "2bPDaakNTFth"
      }
    },
    {
      "cell_type": "markdown",
      "source": [
        "* 텐서플로우는 ML모델을 개발하고 학습시키는데 도움이 되는 핵심 오픈 소스 라이브러리\n",
        "* 텐서플로우 2.x에서는 케라스를 딥러닝 공식 API로 채택하였고, 텐서플로우 내의 하나의 프레임워크로 개발되고 있음"
      ],
      "metadata": {
        "id": "HgvqrxAuTJfn"
      }
    },
    {
      "cell_type": "code",
      "source": [
        "import tensorflow as tf\n"
      ],
      "metadata": {
        "id": "UhrH-BFbUSu-"
      },
      "execution_count": null,
      "outputs": []
    },
    {
      "cell_type": "code",
      "source": [
        "print(tf.__version__)"
      ],
      "metadata": {
        "colab": {
          "base_uri": "https://localhost:8080/"
        },
        "id": "9al4ZKRDU1Dw",
        "outputId": "c1e31164-5bb7-42c5-e851-a0ce014d7bfe"
      },
      "execution_count": null,
      "outputs": [
        {
          "output_type": "stream",
          "name": "stdout",
          "text": [
            "2.11.0\n"
          ]
        }
      ]
    },
    {
      "cell_type": "markdown",
      "source": [
        "### 1-1. Tensor\n",
        "* Tensor는 multi-dimensional array를 나타내는 말\n",
        "* Tensorflow의 기본 data type"
      ],
      "metadata": {
        "id": "4QmeZJfNVGlU"
      }
    },
    {
      "cell_type": "code",
      "source": [
        "hello = tf.constant([3, 3], dtype=tf.float32) # 3,3짜리 리스트를 만들어서 상수를 만들겠다.  \n",
        "\n",
        "# constant는 상수라는 뜻 -> 데이터를 변형할 수 없는 저장공간을 말함\n",
        "\n",
        "print(hello) # shape=(2,) : 2행짜리 데이터, dtype=float32 : 소수점을 가짐\n",
        "\n",
        "hello = tf.constant('Hello Tensor')\n",
        "print(hello)"
      ],
      "metadata": {
        "colab": {
          "base_uri": "https://localhost:8080/"
        },
        "id": "i4YmfHe6U6jM",
        "outputId": "106ec8e9-6cb1-40be-d95c-b44679d00090"
      },
      "execution_count": null,
      "outputs": [
        {
          "output_type": "stream",
          "name": "stdout",
          "text": [
            "tf.Tensor([3. 3.], shape=(2,), dtype=float32)\n",
            "tf.Tensor(b'Hello Tensor', shape=(), dtype=string)\n"
          ]
        }
      ]
    },
    {
      "cell_type": "code",
      "source": [
        "x = tf.constant([[1.0, 2.0], [3.0, 4.0]])\n",
        "print(x)\n",
        "print(type(x))"
      ],
      "metadata": {
        "colab": {
          "base_uri": "https://localhost:8080/"
        },
        "id": "TRMh21i-Vcl7",
        "outputId": "58ec4631-946c-4e04-84a5-b35f5d993467"
      },
      "execution_count": null,
      "outputs": [
        {
          "output_type": "stream",
          "name": "stdout",
          "text": [
            "tf.Tensor(\n",
            "[[1. 2.]\n",
            " [3. 4.]], shape=(2, 2), dtype=float32)\n",
            "<class 'tensorflow.python.framework.ops.EagerTensor'>\n"
          ]
        }
      ]
    },
    {
      "cell_type": "code",
      "source": [
        "x = tf.constant([[1.0], [2.0], [3.0], [4.0]])\n",
        "print(x)\n",
        "print(type(x))"
      ],
      "metadata": {
        "colab": {
          "base_uri": "https://localhost:8080/"
        },
        "id": "wmQMdmSN2f1B",
        "outputId": "68669d78-e8bf-448d-e56d-ff0ecdb123c2"
      },
      "execution_count": null,
      "outputs": [
        {
          "output_type": "stream",
          "name": "stdout",
          "text": [
            "tf.Tensor(\n",
            "[[1.]\n",
            " [2.]\n",
            " [3.]\n",
            " [4.]], shape=(4, 1), dtype=float32)\n",
            "<class 'tensorflow.python.framework.ops.EagerTensor'>\n"
          ]
        }
      ]
    },
    {
      "cell_type": "code",
      "source": [
        "import numpy as np"
      ],
      "metadata": {
        "id": "daJydIXiWdbm"
      },
      "execution_count": null,
      "outputs": []
    },
    {
      "cell_type": "code",
      "source": [
        "x_np = np.array([[1.0, 2.0], \n",
        "                 [3.0, 4.0]])\n",
        "x_list = [[1.0, 2.0], \n",
        "            [3.0, 4.0]]\n",
        "    \n",
        "print(type(x_np))\n",
        "print(type(x_list))"
      ],
      "metadata": {
        "colab": {
          "base_uri": "https://localhost:8080/"
        },
        "id": "d-3sgJidW-JC",
        "outputId": "ecb8109d-de2e-464c-d7ae-96fb8c794c9a"
      },
      "execution_count": null,
      "outputs": [
        {
          "output_type": "stream",
          "name": "stdout",
          "text": [
            "<class 'numpy.ndarray'>\n",
            "<class 'list'>\n"
          ]
        }
      ]
    },
    {
      "cell_type": "code",
      "source": [
        "# ndarray를 tensor로 변환    # tf.convert_to_tensor 사용\n",
        "\n",
        "x_np_tf = tf.convert_to_tensor(x_np)\n",
        "\n",
        "\n",
        "# list를 tensor로 변환   # tf.convert_to_tensor 사용\n",
        "x_list_tf = tf.convert_to_tensor(x_list)\n",
        "\n",
        "print(type(x_np_tf))\n",
        "print(type(x_list_tf))"
      ],
      "metadata": {
        "colab": {
          "base_uri": "https://localhost:8080/"
        },
        "id": "_ilvxk7XXKEe",
        "outputId": "c6aadb75-00c8-4ce0-ff9d-3efb92811daf"
      },
      "execution_count": null,
      "outputs": [
        {
          "output_type": "stream",
          "name": "stdout",
          "text": [
            "<class 'tensorflow.python.framework.ops.EagerTensor'>\n",
            "<class 'tensorflow.python.framework.ops.EagerTensor'>\n"
          ]
        }
      ]
    },
    {
      "cell_type": "code",
      "source": [
        "# tensor를 numpy의 ndarray로 변환\n",
        "\n",
        "print(x_np_tf.numpy())\n",
        "print(type(x_np_tf.numpy()))"
      ],
      "metadata": {
        "colab": {
          "base_uri": "https://localhost:8080/"
        },
        "id": "3sUbktkEXf98",
        "outputId": "154d4bf5-8764-45e7-9090-5ce329b894ec"
      },
      "execution_count": null,
      "outputs": [
        {
          "output_type": "stream",
          "name": "stdout",
          "text": [
            "[[1. 2.]\n",
            " [3. 4.]]\n",
            "<class 'numpy.ndarray'>\n"
          ]
        }
      ]
    },
    {
      "cell_type": "markdown",
      "source": [
        "### 1-2. 텐서플로우 함수"
      ],
      "metadata": {
        "id": "jN0gr8iRYlSs"
      }
    },
    {
      "cell_type": "code",
      "source": [
        "a = tf.ones((2, 3))\n",
        "print(a)\n",
        "\n",
        "print('-------')\n",
        "\n",
        "b = tf.zeros(2, 3)\n",
        "print(b)\n",
        "\n",
        "print('-------')\n",
        "\n",
        "c = tf.fill((2,3), 2)\n",
        "print(c)"
      ],
      "metadata": {
        "colab": {
          "base_uri": "https://localhost:8080/"
        },
        "id": "DTF-ee9fYT4F",
        "outputId": "53014cb9-79ad-46af-ebc3-e8f752a23eb9"
      },
      "execution_count": null,
      "outputs": [
        {
          "output_type": "stream",
          "name": "stdout",
          "text": [
            "tf.Tensor(\n",
            "[[1. 1. 1.]\n",
            " [1. 1. 1.]], shape=(2, 3), dtype=float32)\n",
            "-------\n",
            "tf.Tensor([0 0], shape=(2,), dtype=int32)\n",
            "-------\n",
            "tf.Tensor(\n",
            "[[2 2 2]\n",
            " [2 2 2]], shape=(2, 3), dtype=int32)\n"
          ]
        }
      ]
    },
    {
      "cell_type": "code",
      "source": [
        "d = tf.zeros_like(c)   # c에 대한 shape랑 d 타입이 복사가 된다. # shape와 dtype만 복사(데이터는 복사하지 않음)\n",
        "print(d)\n",
        "\n",
        "e = tf.ones_like(c)\n",
        "print(e)"
      ],
      "metadata": {
        "colab": {
          "base_uri": "https://localhost:8080/"
        },
        "id": "R_V-88uNYuXV",
        "outputId": "bb8b58e0-75eb-446d-a3a3-3ed17fc57d58"
      },
      "execution_count": null,
      "outputs": [
        {
          "output_type": "stream",
          "name": "stdout",
          "text": [
            "tf.Tensor(\n",
            "[[0 0 0]\n",
            " [0 0 0]], shape=(2, 3), dtype=int32)\n",
            "tf.Tensor(\n",
            "[[1 1 1]\n",
            " [1 1 1]], shape=(2, 3), dtype=int32)\n"
          ]
        }
      ]
    },
    {
      "cell_type": "code",
      "source": [
        "g = tf.range(10)\n",
        "print(g)"
      ],
      "metadata": {
        "colab": {
          "base_uri": "https://localhost:8080/"
        },
        "id": "H3phUgHI0BZJ",
        "outputId": "0a786655-942d-4fa5-ee15-adec6b35140e"
      },
      "execution_count": null,
      "outputs": [
        {
          "output_type": "stream",
          "name": "stdout",
          "text": [
            "tf.Tensor([0 1 2 3 4 5 6 7 8 9], shape=(10,), dtype=int32)\n"
          ]
        }
      ]
    },
    {
      "cell_type": "code",
      "source": [
        "h = tf.random.uniform((2, 2)) # 0 < 1의 랜덤함 값을 2행 2열로 추출  # uniform : 양수쪽만 데이터가 나옴\n",
        "print(h)\n",
        "\n",
        "i = tf.random.normal((2, 2))                                       # normal : 양수 뿐만아니라 음수도 나옴\n",
        "print(i)"
      ],
      "metadata": {
        "colab": {
          "base_uri": "https://localhost:8080/"
        },
        "id": "gO55v6Lu0rNF",
        "outputId": "52ee3409-998e-4fd4-c9a3-702d6407c950"
      },
      "execution_count": null,
      "outputs": [
        {
          "output_type": "stream",
          "name": "stdout",
          "text": [
            "tf.Tensor(\n",
            "[[0.4166714  0.7255293 ]\n",
            " [0.7265959  0.24187565]], shape=(2, 2), dtype=float32)\n",
            "tf.Tensor(\n",
            "[[-0.8529285   0.5726851 ]\n",
            " [-0.9612614   0.09551449]], shape=(2, 2), dtype=float32)\n"
          ]
        }
      ]
    },
    {
      "cell_type": "markdown",
      "source": [
        "### 1-3. Tensor의 속성"
      ],
      "metadata": {
        "id": "uPXYROlj1_Yv"
      }
    },
    {
      "cell_type": "code",
      "source": [
        "tensor = tf.random.normal((3, 4))\n",
        "print(f'shape : {tensor.shape}')\n",
        "print(f'Datatype : {tensor.dtype}')"
      ],
      "metadata": {
        "colab": {
          "base_uri": "https://localhost:8080/"
        },
        "id": "aaWCaQPW1V8m",
        "outputId": "6ef20b7b-7acc-4530-d3ff-277363a2d79a"
      },
      "execution_count": null,
      "outputs": [
        {
          "output_type": "stream",
          "name": "stdout",
          "text": [
            "shape : (3, 4)\n",
            "Datatype : <dtype: 'float32'>\n"
          ]
        }
      ]
    },
    {
      "cell_type": "code",
      "source": [
        "tensor = tf.reshape(tensor, (4, 3))  # reshape : shape를 ( , )로 바꿔주는것\n",
        "tensor = tf.cast(tensor, tf.int32)\n",
        "print(f'shape : {tensor.shape}')\n",
        "print(f'Datatype : {tensor.dtype}')"
      ],
      "metadata": {
        "colab": {
          "base_uri": "https://localhost:8080/"
        },
        "id": "93RGBACt2OGP",
        "outputId": "c1c94e5b-8549-4f76-ed34-741fb2cd83ac"
      },
      "execution_count": null,
      "outputs": [
        {
          "output_type": "stream",
          "name": "stdout",
          "text": [
            "shape : (4, 3)\n",
            "Datatype : <dtype: 'int32'>\n"
          ]
        }
      ]
    },
    {
      "cell_type": "markdown",
      "source": [
        "### 1-4. Variable\n",
        "* Variable은 변할 수 있는 상태를 저장하는데 사용되는 특별한 텐서 \n",
        "* 딥러닝에서는 학습해야 하는 가중치(weight, bias)(기울기)들을 Variable로 생성\n"
      ],
      "metadata": {
        "id": "KgHyEApm2i4U"
      }
    },
    {
      "cell_type": "code",
      "source": [
        "tensor = tf.ones((3,4))\n",
        "print(tensor)\n",
        "\n",
        "# tensor[0,0] = 100  # TypeError: 'tensorflow.python.framework.ops.EagerTensor' object does not support item assignment\n",
        "\n",
        "# 텐서에 있는 함수로 만들면 전부 constant로 만들기 때문에 수정할 수 없다.\n",
        "\n"
      ],
      "metadata": {
        "colab": {
          "base_uri": "https://localhost:8080/"
        },
        "id": "QywPyDYf2UfD",
        "outputId": "0e9c46bd-eacb-47f1-e66e-614e74dc9106"
      },
      "execution_count": null,
      "outputs": [
        {
          "output_type": "stream",
          "name": "stdout",
          "text": [
            "tf.Tensor(\n",
            "[[1. 1. 1. 1.]\n",
            " [1. 1. 1. 1.]\n",
            " [1. 1. 1. 1.]], shape=(3, 4), dtype=float32)\n"
          ]
        }
      ]
    },
    {
      "cell_type": "code",
      "source": [
        "# assign() : 값 설정\n",
        "# assign_add() : 값 더하기\n",
        "# assign_sub() : 값 빼기\n",
        "\n",
        "var = tf.Variable(tensor)  # 데이터를 바꾸고싶으면 Variable로 바꿔주고\n",
        "print(var)\n",
        "\n",
        "var[0,0].assign(100) # 그 다음에 assign()함수를 이용해서 데이터를 넣어라\n",
        "print(var)"
      ],
      "metadata": {
        "colab": {
          "base_uri": "https://localhost:8080/"
        },
        "id": "OGUobEVo4D5n",
        "outputId": "2e9a735b-7f63-4594-d353-242b2f9d153e"
      },
      "execution_count": null,
      "outputs": [
        {
          "output_type": "stream",
          "name": "stdout",
          "text": [
            "<tf.Variable 'Variable:0' shape=(3, 4) dtype=float32, numpy=\n",
            "array([[1., 1., 1., 1.],\n",
            "       [1., 1., 1., 1.],\n",
            "       [1., 1., 1., 1.]], dtype=float32)>\n",
            "<tf.Variable 'Variable:0' shape=(3, 4) dtype=float32, numpy=\n",
            "array([[100.,   1.,   1.,   1.],\n",
            "       [  1.,   1.,   1.,   1.],\n",
            "       [  1.,   1.,   1.,   1.]], dtype=float32)>\n"
          ]
        }
      ]
    },
    {
      "cell_type": "code",
      "source": [
        "value1 = tf.random.normal(shape=(2, 2))\n",
        "value1 = tf.Variable(value1)\n",
        "print(value1)\n",
        "value2 = tf.random.normal(shape=(2, 2))\n",
        "print(value2)\n",
        "value1.assign(value2)\n",
        "print(value1)\n",
        "\n",
        "value3 = tf.ones(shape=(2,2))\n",
        "value1.assign_add(value3)\n",
        "print(value1)"
      ],
      "metadata": {
        "colab": {
          "base_uri": "https://localhost:8080/"
        },
        "id": "gWmSqKZb4SZ0",
        "outputId": "5db6b211-14a0-409e-ea54-a93547829919"
      },
      "execution_count": null,
      "outputs": [
        {
          "output_type": "stream",
          "name": "stdout",
          "text": [
            "<tf.Variable 'Variable:0' shape=(2, 2) dtype=float32, numpy=\n",
            "array([[ 0.7963745 , -0.50937843],\n",
            "       [-1.2951556 ,  0.9157805 ]], dtype=float32)>\n",
            "tf.Tensor(\n",
            "[[-1.7437518  1.1711036]\n",
            " [-1.2387648 -2.2141495]], shape=(2, 2), dtype=float32)\n",
            "<tf.Variable 'Variable:0' shape=(2, 2) dtype=float32, numpy=\n",
            "array([[-1.7437518,  1.1711036],\n",
            "       [-1.2387648, -2.2141495]], dtype=float32)>\n",
            "<tf.Variable 'Variable:0' shape=(2, 2) dtype=float32, numpy=\n",
            "array([[-0.74375176,  2.1711035 ],\n",
            "       [-0.23876476, -1.2141495 ]], dtype=float32)>\n"
          ]
        }
      ]
    },
    {
      "cell_type": "markdown",
      "source": [
        "### 1-5. indexing과 slicing"
      ],
      "metadata": {
        "id": "h6CEQLn6GtvS"
      }
    },
    {
      "cell_type": "code",
      "source": [
        "a = tf.range(1, 13)\n",
        "print(a)\n",
        "\n",
        "a = tf.reshape(a, (3, 4)) # a를 가져다가 3행 4열로 만든다\n",
        "print(a)"
      ],
      "metadata": {
        "colab": {
          "base_uri": "https://localhost:8080/"
        },
        "id": "w1Dnh_o-GBuh",
        "outputId": "abea1eb7-e1a9-4817-951b-b20412f5df0c"
      },
      "execution_count": null,
      "outputs": [
        {
          "output_type": "stream",
          "name": "stdout",
          "text": [
            "tf.Tensor([ 1  2  3  4  5  6  7  8  9 10 11 12], shape=(12,), dtype=int32)\n",
            "tf.Tensor(\n",
            "[[ 1  2  3  4]\n",
            " [ 5  6  7  8]\n",
            " [ 9 10 11 12]], shape=(3, 4), dtype=int32)\n"
          ]
        }
      ]
    },
    {
      "cell_type": "code",
      "source": [
        "# indexing을 하면 차원이 감소하게 됨\n",
        "print(a[1])\n",
        "print(a[0,-1])"
      ],
      "metadata": {
        "colab": {
          "base_uri": "https://localhost:8080/"
        },
        "id": "FAw-lgbGGz8N",
        "outputId": "3c11981a-d351-4e8a-8e67-ce7db3510dfb"
      },
      "execution_count": null,
      "outputs": [
        {
          "output_type": "stream",
          "name": "stdout",
          "text": [
            "tf.Tensor([5 6 7 8], shape=(4,), dtype=int32)\n",
            "tf.Tensor(4, shape=(), dtype=int32)\n"
          ]
        }
      ]
    },
    {
      "cell_type": "code",
      "source": [
        "# slicing은 차원이 유지됨\n",
        "print(a[1:-1])\n",
        "print(a[:2, 2:])"
      ],
      "metadata": {
        "colab": {
          "base_uri": "https://localhost:8080/"
        },
        "id": "XlsrVJ--HB8x",
        "outputId": "e201951a-cb87-4eec-d308-cbb90c55f61b"
      },
      "execution_count": null,
      "outputs": [
        {
          "output_type": "stream",
          "name": "stdout",
          "text": [
            "tf.Tensor([[5 6 7 8]], shape=(1, 4), dtype=int32)\n",
            "tf.Tensor(\n",
            "[[3 4]\n",
            " [7 8]], shape=(2, 2), dtype=int32)\n"
          ]
        }
      ]
    },
    {
      "cell_type": "markdown",
      "source": [
        "### 1-6. 차원 바꾸기"
      ],
      "metadata": {
        "id": "4Q8_XnvQHuAU"
      }
    },
    {
      "cell_type": "code",
      "source": [
        "a = tf.range(16)\n",
        "print(a)\n",
        "a = tf.reshape(a, (2, 2, -1))  # -1 은 자동으로 만들라는 뜻 # (2,2,4)랑 같음 # 2면 2행 4열\n",
        "print(a)"
      ],
      "metadata": {
        "colab": {
          "base_uri": "https://localhost:8080/"
        },
        "id": "1YOx8oH7Hbz-",
        "outputId": "5e0e562d-d756-4f92-88b6-34c44615d1d6"
      },
      "execution_count": null,
      "outputs": [
        {
          "output_type": "stream",
          "name": "stdout",
          "text": [
            "tf.Tensor([ 0  1  2  3  4  5  6  7  8  9 10 11 12 13 14 15], shape=(16,), dtype=int32)\n",
            "tf.Tensor(\n",
            "[[[ 0  1  2  3]\n",
            "  [ 4  5  6  7]]\n",
            "\n",
            " [[ 8  9 10 11]\n",
            "  [12 13 14 15]]], shape=(2, 2, 4), dtype=int32)\n"
          ]
        }
      ]
    },
    {
      "cell_type": "code",
      "source": [
        "# transpose : 행렬의 차원을 인덱스로 변환\n",
        "b = tf.transpose(a, (2, 0, 1))\n",
        "print(b)"
      ],
      "metadata": {
        "colab": {
          "base_uri": "https://localhost:8080/"
        },
        "id": "6IZdxYOaHzfR",
        "outputId": "735403f4-0398-4ca3-a082-6e68cce023ae"
      },
      "execution_count": null,
      "outputs": [
        {
          "output_type": "stream",
          "name": "stdout",
          "text": [
            "tf.Tensor(\n",
            "[[[ 0  4]\n",
            "  [ 8 12]]\n",
            "\n",
            " [[ 1  5]\n",
            "  [ 9 13]]\n",
            "\n",
            " [[ 2  6]\n",
            "  [10 14]]\n",
            "\n",
            " [[ 3  7]\n",
            "  [11 15]]], shape=(4, 2, 2), dtype=int32)\n"
          ]
        }
      ]
    },
    {
      "cell_type": "markdown",
      "source": [
        "![1.png](data:image/png;base64,iVBORw0KGgoAAAANSUhEUgAAASgAAAEXCAYAAAAeK9lhAAAAAXNSR0IArs4c6QAAAARnQU1BAACxjwv8YQUAAAAJcEhZcwAADsMAAA7DAcdvqGQAANGjSURBVHhe7F0FgBxF2n3jsx53xUKCS0hwd+eQQ47DCe4uhwY/XA79cbfDDjv0cEKwkARJICSBeLI2Pv97X03vzG42yQYiu8m82drurq6qLvm+119VV1f7nnnmmazP58PEiRPx5JNPIhAI4KabbsLxxx+PbDYLnevYsSNWW201vPPOO/D7/eZ3xBFH4M4777QwHuTvIZ1OY6uttsLaa6+NH374Ab/++itGjRqFAw44ALFYDI8//jgymYzFP/fcc3H55ZcjEongnHPOwccff4z+/fvj7bffxo8//oitt94aq6yyioX97rvvzF9xBV1T+8rX4MGDLfzs2bPt+srjvffea/n4/PPPMWXKFKy55prYcsstzb+2thYbb7wxNthgAwv/888/49///jeuvvpqqw8Pt956q11nt912w3PPPWf5KCx3EUUUsXjg22STTbKhUMgOkskk9t57b7z44ou27+Hss8/Gdddd16CY7du3R58+fTBy5EgjBymv/LWVE1nICfF43PxEfCKm8vJy1NfX2/nevXvjqKOOwsUXX2zng8EgDj74YCM+IZVKWfqlpaUWR2HkvOsJ2noEJZIRyema2o9Go+avMF5aiUQCZWVldk5p6pzSVHidF1T2wvIo7AUXXIDLLrvMzhVev4giilh88G2++ebUNaeMUmKRlUc6hYroHUvhPSX1/L34zcGLLxLQvkcmgo6175GOyEPnRVTaijQK9xXWy4OXhs5515Cf9uUK81VIQAqjNLUVkQkKo3NyKr93rcJzgufnXc/bFlFEEYsHpnFSQkGK25zSeed1zlNywfNfEBROcZtTbKUnQhA5CUpbfgqjfW0V3yMxQX6KI9c0Le+4cOv5e/kQEXvkJHhhC6+nrZzietC+l5YXp4giilh8cEzTBFJQjwy8rQdPMQv9m4YphHeuabxCBS8kgcWBpuk3Ry7Kl1yReIooovXA7ylmU7e00TQfrSlvRRRRxJJBsxZUEUUUUURrQJGgiiiiiFaLIkEVUUQRrRZFgiqiiCJaLYoEVUQRRbRaFAmqiCKKaLUoElQRRRTRalEkqCKKKKLVYpknKB9/3v/5YcEhWi8a51wlWfiytOXyNwdXnkInND12mHvyb9PjIpYWlgMLyhNIFXVegkdxzrowi/elm8UD7+UcH/Pvz/qtLF5JXendz4UsdA4Wlocujo+7cm0c1p6eK4Tz83y1Z+9X2j6d6q/hbBFLG8swQYlqsvZTMbPZgG3zyumpoCewOk9h5d00q/A8kqK6OJ5rnYLbUBLu+KmYUjE7Nj8ei7CoeELWR2VUQIuVYRiWVrvm59DWCUqtWVADtidIFiQVqo+STBCRVAThdBhB7qvAjpxYT0ZuRbQGOKldxpAXLymmIx4fFZD000A1zjlVtPAUUAluUMqs4zYE5ddzHhzJsnQk3AxPZKz8qg/nrxCqD5FU2sjJnXPpOHJvi3BltP+OrM0F6IKuTlgfUZLSWhWrYouum2CTbhuiXboCQT+tT1/A6srVRxGtAb4ttthimWwNp6z876eSZkxV4eO+dK+5AjtLywm0O7bDRoHzlkfrg7LqunfunpNiXl1+RTaCVDaXf/dn/zT8on1/wMWzumIdqMZcTeThqsZLr3XCy7OVrwHO15XJh0HRFTB838tRUdqBflm8+c0r+Of7NyOOFEM565k01ZBWEUsPyyxBeUIZYdetKlUGf6oUK/RcEaGcAntI+1P4etK3qA3Wcj9tBOVU2VFWY7CL0ErvriqtyEkkpSPl07pzRih5sgnSRChJhxg2rKMcGaURC9QjEUiYhSGLw6s/h1xdKM02YF0p525UKQ/ZhqUIoyxViW36bYcjtz+yoRg/zf4WJzx9OupQzyJ6Xf0iQbUGtCmC8pQwD6c4shScMPE/Pahi7KoFEM6EUJUox3n7noVQupIEtQL8suELkA1m8NVvX+HmZ27G7OwcJJGgcGcQD8Rp6uuOKki8pZpS+pyytio4QlW5zYriT3/IplkPfpY9hAC7OOrmlKaD2Ger3dCn6wo8Hzb/DMONnDgSz3zyLOqCcZZTSlpoKbly+7RWlpW/9YuMbjROKtSx8yHCcq9c2htHbH8CBnVe086Tn5EJJnDlY5fj/ZmfIJ6NWd2pdK31RrS8oc0QlEcrntzo2FSRCpgNUDXTPJJyUvDal7THgKoVsHHfjbD1+jsAyVxsxZUTx2krby9hIhVI464n7kK1byY+mPIRagJz4A/6kVHaRlsaYHZRWw+cIhppsHLcKBuMYsLsrvX0dcYaFWtglZ6DsPNWu8OX5pnG3ONcIIt7X7sV//n+DcyhJZUOJJHK5qwvEpMbw3JXa13lbx7KowjbxzKUZkNYrXJVXPy3qxBNlTSUvz5bjxtevA7/m/ge4kHdjJzdZa7VtfPyiTZFUCInpyQOUpUAJaldtgzHbHs8upX3oY8P5aVl6NG+OwIp3iJFToWRiEw4SULT7ZOeKn2aTlvpdkjeaXwz9Xtc/uRlmBqYyLg8YZYbr8hzrQsqsRTLT4svbzWEWbaeid646IALsEJ7WUuOuBrKWlAf3nGWSvr95O8RC83B8CcvwawQu30aZOd5WVD+NrLaqKsBca4P0UwE/UN9cOnfLkO7cGfKA08Es6gP1eCyR67Cl1O/QIzde28ulMfdRYJqHQj069fvotx+q4bEJydDDZAAlWZL8Pf198d2g/ZA52hXdC7pjKpwFfzJ3DiK4shoiKQwetJoTKifgAv+dQFe//B19FixO6ZXT0PHdh3hNxJiWN5IfRk/upZ1QvcOPfHVd1+Sn1KOy+x5fOsSW5G0s2kCtqZ6iBmtSkawUdchOGXn09GfliSZy2megomnwrSIQhmMmzoedYk6VJZW2nlfyo+OZZ3RtaInOnYrw8ejP0OKypzJWVKC+996ofzJ3g1QWNippeU0CFcdcQ3KUu0cOTPAlJlTcP4t52BM5kcSVYz15rp11rI8L3IqonWgDQ6Sy3DPIkTrqCQTRcdYB9x16r3wiZCcdOa7cCSUbCaNL3/+Gv/5+gV8MuEz1LL7kvFJGxUkg2g6gg07bYDKdBccc8DRCCZyRJUT1J9+/wFvjn8Fz335AuqD+U9xtQaYUlm3TgjQYsiwHBEcuskB2GO1A0k4rBMppbiaBqPq4+epP+LJd55GzJfEN9O/RXmmEsMPvAxdSOwWVmDYD8e/jateuR7VkRqksxowbhtaq1zK+Vkpsp7O3vpcbNxvs/wJIpGJY8ysUTj/8YtRG6ktGGssorWhzRGUjJiSdBjrdlwLm/bZHNsO2UnP1O2clHX8lPGoDszCrMB03PHw7WYp1GWTSATSNq6iAWE3KdPU2wZLI/yl2QWqTJbg7D1PxtrdN7b0PHs/U5LCATceiN9DUxqEvDXAlcAhzYrx0XrqlGqPf+x5PtbuvK5ZgyqqHgS88OVTeOSdx0iyMXbbUqyrADL0F1e3S1binL3OwsAOayDiiziCGvchCepqVEerkTULStdq/aJi69Yzu2XpUqxVtQYuPvhS+GMsENstQTlI1idQFi2jFQl8N+c7nPvAuZgVnpWLXURrg2yNNoMIyaRLsgJX7n0lztv7Imy7wc5ujEn6Q935buIoXPTvi3Hh05fi8qeuxe8lMzE1MgezeZesD8aRtP4b1cyXtnEmWVIp3mpr/XFaVrWYFp6O6569GelgwTgT0/bTWquMV6KUQr+0IX4sdOrOiHA1NSAaiaJ3+95YueMAx1wMoLLc8969uO+DhzCzZA5qwjHUB+KIB2KsjRTJKoGZoVm4/OkrMa1mmkuUZV6j5+rowu6e4IiwNZKTMqt8aUa8D+mMLOYUu3NR7L/O33D01sfBH3fkJKL+LjYKYyaNcVHYxNFsmPWnm1URrRVtiqDUHTvv7+dg9c7rIJIhWchCkPBRBjORNEZOGYFf/RMwKzQTcRJSyp9GKqtAYjCRjtRMXaK0/ZfLPZvjOXFdGjOC1bj95TswZsJo1zVSDTHqNeddba9FLE2oqPagIOcclEGZSayORBJVkUqUhVg3KjIjjJ48Fi+OegX14TgyOV30abyNcJZRluVOYnaoGolgncVR3PJwBSpC5Tzrfq0Tyqzy5lwkGET7TAfstMou2G/oPujVoZcCmWX9w6wxuOyBi2lJx100wuaKWUUV0VrRpgjKnw6RmMqdPErIpHAy1aeMpQUwHE99+hQC7OoEaRUFaR0Zv2Td0yc594i8sbK54VEKqWm8D/FQHP8e/xyufP4KpCJJdy0i7Ash5M9peKuCKoKO5dVgth60WRmVb2b36defRZIWYiKtz7lbhCagiiouyfnRVx51Y1U5eJ/58vlbq5h4BcpY+0ZjPvx1nb/iqG2OgT/DPKtqKB+TEz9j+DOXIyZyUpQcQeVqrohWjDZFUMlgkhbBt7QEUsiE0vhy0qc45b5huODZs/G/KR9gDi0Amfn6Tqdc1h7HqIjzd/of0BwqKqO6gUl2i6aUTsHz7z3LMwSF2giuNT/eYR71SXp7ZUVKyE06mMC4aaN5GLMg6Qy7tXOxlDpHKlcW434bR4JSN9gOLRl707/Jh09bD5RDZTbAG0gYgyID8Zehe8Gvbj+tXs1zuvqpK3DMPcfh1+TvSGtwSq875arAlVzxi2itkG62GcT9Kdz71qM478lzcd7T5+Pi54bju/ofMdM/AzF/wt4/04uemhMk16BpC3SCthRXERXjqmuYzNCC8iyKVivHIg9ajIEgIpEoi6FxNUcydcFa1ISrobnheu1lbqhQAVobegLoN2fzpbwqaXVo2ghqqSCiNJOq4qU4YY9TEUiG3Cluhj82HO/99iHmhOtpRaZab7GKmCfaFEFpjGhWoBYfz/gcH039CNPDM2m2s+vCrgyNH8ITQU+QW37ndzHVDbQhZxKVKI7VoyGsHJp2D5c2vFJa1zVNk4EW0qhfR+H1Ea/ii8kjcMVDV6ImGLNaaJxzHeWdyqxXZNw7eK1ZJFQSlTrnmOdwNoTy+lIcue1R6NW+H/3kz2YLZvDdrO9QR3JK81hU5uKrzB4K94tojWhTBOUEyg1wSz41wU7EJBWTv8+c9hWuJcKnsLK23EiUg2jIjckUWh2tUZQ1bKZpFyJTzSZXKWaHZuPGj2/GWS+fg49njUA8kKC/+zmoJJ5T+RTPbeVj8IK2KuRbSbcODfSH+WuXKMfFf78IQ/puli8WracX3n8JCVnVtIIDQbvlWFxDo/I1lLqIVog2RlDNwZM2bQslzztekBNct05bqWuKu9ZFNIuCUDB2nexl2VYHj2AcBYlYU/6kdWk0+O3p7LyRP9uw1xqLaaV0TnAz5sM4fbfTMKhqHZSFcw9PSE4ffv8BHvj8HsQjSRtXzJCk9Ky2kKYddNTYp4jWhWWAoOYHTwDn5fLwdFIVEkr70THRGVuss4Xz4Em96lJgY7Qy0LpQ1nLZa81j+X8GuonYrYTWUygdxvADr8C6vTYAEjxJjs5Gs3jm86dx3Rv/RHW4BsksT9BfDzf8GpvUS4UFWEaraZnCMk5QLYME1RPdIHfKk0Fs1XsLdC3p5k4wQIrWkzqXRSw9uC5eFuFUBGu0XxcrVQ609wclxZNm/ooTrzkWD3zyAGZGZ5r1KHbSEIDaV09hHYsVaaktYRknKCfQeTc3JK4SYo1nhTJBVCZKsc1KG+OI3Y8E4jypaKyl2x+6Cwk9HVvKsDHgBTiHwvIW7jcEyCE//mZrJOmgUZCm4ZcUaPUwP65T5jlNBwE6+zvhzD3PtGN5Z8NZvDbqFfxSOgnVoTlIp5zlVETbxzJLUFK7uR39s3pCV+DYXdB65dFsEAPLV8ROfXbCcTuelVsNgQgCE2b/ipFTv0IsoAXNlh7EHS117r+zIjyfPDyFp/qr/FoFwR/A6ius5p5aKooUX05hLOyShCMn5oz7eogR4C+EcDZK67YMG/ZbD+2DFS6fbKZYtg6j635CnV4EVyxfkHl3z1wbl7yZchijSw0au7nkZInXQRHCMktQTrU8NcyLpo0lFTiFCmZD6DS7C87b80IcvusxtJz07gwDc5MIp3Dlc8MxOzQdmYBel1kWoNrwHIUg4cfg7uvj8D2PcBrtvLmvgWXNLdN/d6qxwi8uuKvYxFju6t3JQNqHARiIGw+8GcO2P9a1D5EO1+GKhy7E1z9/iXTWrTbhZb8xmvedFxS60BWYpkUsQSzDBNU8TOCocJ7gBdMhDChZDbecdAu6lnZzFoRqhd2GX+snYNgNw/BTfCwSmVoKaU4rliGoDspQiiFdhiKSKXHlp+e0xETUZGaTH0Th+XIr/JKBrqmraVHCLCozEVx73FXoW9kX/jgbiMSV8iVx01M34pvqb5Hxaz11731LNeCSy2kRiw/LMEHNLaB60qUxjEBGQu/2y5MlOG/fc1GFSns9wh5Tj/0Qwx+4BJc+cSEmhsfRgkgwLsWe4ds+GhdCr76EWejthu7M8rPOJBHBDK547CJMqJtowe1dRu4sSZU3WtTgIBFJB7DzetsgpFniOQJFBJji+x3/+/VT1JCctIyOSE30pBIu2dwWsbiwjBNUXkgltDoSyYiY9LROgr92v9XQOdTBwqg2Rk4YievevB4fxUdgfOJXpDMpir1TFnUJ2zac6nr9I42sBLIBZEVMIgOVLwB8O3kMfqqfioTWi7Iya37YkhMV2bceJWr8pyQdRa9wz3y3LpvCxz+9hxP/dSKqg9XWpuqBaQ1NZddvE3aLWBawDBOUu5MauXCb9vmRCgQQ9+lDlWlEeCfeeYVtcdau58GXZjVQoj8c8wEufv4izAnPRF2gFkl9hioYMkVx2uvGYtomWB969E4nugnSnCzNBNG9vhPO3uVs2FrdUvRABs+8+SS0epbI2b4laDWw5EpuV+JlZQ9FMyF0zXbGhgO2chYu/euzMfzzhRsxwz/H2shuHA1jRB65FbEsYBkmKKdWbusUrIRdhJ7xzti1/y7YfYU9MGynExGJ6QVbKkMogU8mvmerK6b90laqB5U4ya6DDahbOm0Vyrm6qK6bqvfuookQNuoyFPeccQ/W7bueU36BZbYuLUss4dBqBkseajFdP4uB7QbgppNvQVm4nTVCJpTCRz+/h9nBGrYLM838ugm0HoWqzT2yKqKtY5klKN1FBZGLugxlyTJs338LXPe3a3DS1qfhsG1OgD8WMVnOhlO47OHz8db3byMQ0EctvYfKUk6PmjzXFuGU1pvnpG/hrdtjXZyy59kI15Y5clJ10aX9GSRE0Dbg5p7iLelSu/WnnB20xcAtEYrn8hgEXvn437jjzVvtE2FBy9/SINAilhSWSYKioWDM5PMFEMj42ZWpwjY9dsaJO56J7hV9KezGWk4ho2nc9N+b8PnMr1CbrUc2TYHPsltHhdBnixqcghtxOepqe/Cx2G4cLchu00Z9t0AU+SWMZ9fOwshxn+GR/92Hr+Z8Y0sBLx2QEtkEmgVlc6HojIPYAPrysz4HNg1zzMotflxz2UebJyjRhUcZmj6gI200dBJJBtAl3gG79t4JJ+x6NPz6uIJ3w2XP7u2f38SJD56I18a8jvoAFTKg+AqgQVYbos3/PF2QwrQZKK/5/Jqu0+kLw9tssJ0bd9JpWiYXPX4Brn7tCjz9xbOo89ea8oskvPj67/YWP1TVzmnCJZkpd/FEug6jxn8JX1i2lULwnE2idPDaqDCvhfuWpndAKLyVkNumblGh8PpFLDzaIEF5Te4RB/ezgbyvZkazWBGEMLB8Jdx+7C0YttMw6FPo9oiayvjR+I9w7A1H4fpXrsd3daMQ98dtvCkvl829dafUhUUovYsNXm24/65GuE9lLk9VYZOemyEQl01oJ/HVL19hXOoXTPVPR4x1EfLpi3KsU4b3FrKzT6pLeV2sxQjVL7t3tHy7Z3pgi/W2bCjO579+iFm+WfbSr25GFlJWIU+KeE0U6OfuQV47eSOROu/SbjjFHSMsVU4TZ2lpm3Pm30IoSSedLlLjPGmvIQNFLAALUe2tAc7k95xbgtepn8TBwPYPsIvWIdkOZ+9zLtqnurl36iQXIaC+pBZXvHk1xkR+QnW41qKImgpFJi/Shcj5Lcrb62KCU458GaTsqq+SbARDuw3FKbuf4mkM0uEMHvngceiL6OFAhEROctKn3qnxIiWRU5DO6rsgzcUJtWZ5phSXH/QPlCVLzE9PIK97+jZbsDDg512GWXHLyWS5VfdVx855ROTW8+I++/xq08atrHD855FPznmExPtco2M7vxDQEJ4TFTdKZnmlhztyOdHli5g/FrLaWx8kdn4JopQoE0IJBXuFkv64ddit6BLo6aRApeR2fPUPOOrWw2wKQZrmlD0FygmL55YFSDE8HnW04p7edYxX4cz9TkEoRabWedbLlLrf8Ft6ko05pTP63k0GKVNsBwWTEwnkklzsCGaCGNBhFfTq0KehUcb9Ph7+ErZxwI90mhYus1io4FrvSf+NANwgpPkbGFBkZC7npR2rJ+569dVwbAH+DChT/owbZkhTJtNhhDP6NJjOeVdYNFda1tHmCUpjJXGSjX5VVMBLd70YV/9lOKrQMS+N1Md/Pnst/vHUP6iMU5Awk4riYbfGJWUXLEmoRDlWViVw1y/riIoSStP6EOhXF5yJyx+6ABNrx5OU4jY/TB8WKLRGGqwSF2uJIESLb+NB66un7cC8fjLmI3tyZ68pyeVONYIySTcvKm3WdzEUTHYdqRQdUmW4dJd/4J6/3YsNohsinCph3sNsC3WhRaCL4eLLGCTFbQiydtSojRs25A+hS7o7jt3qWKzbfR1UBdo74ZYUh7K47/V78O60d/FrZpKtlkn5zp3MifkyJifq2ri5QQ5+9t/K6stRmqg0K9PDjY9ej1+SP9vkTFWCYnmjb6pnZ5M4Z7XO6loSVaUuno0Z6sKEPgLxXc0Y1POXNeto0cEkSl3AnJP1VXhc6FoKjYOqq7zhSkOwbt8N0LOkJ4Yfdjn2XHlP9PR1Rlh3AFGYrH5PBotoFm2MoKQkFBZzTm30qkZVrBIX7vkPbDVoCyfUHvcEM7j56Rvw1NhnUBeuo5CxwD6Z2m7qgIrvpgPSqQtDr0Il1LbQtRWwdlh+UVQGAXYt2qfb4bqjrsRFh10obW8oUDyQQoJdER8tFo3n2Ycs6VQzSsN9gVnrs7NaC+pl8YMWklm3BC+ayMTw8c+fNVmPK9dYOWjPOS+XLsPuuMCv0YZlpLxoLqrnct+ecMfcZtMMQ5fRlxcsYmPnktI5RuDWrkdB00OGZJK78qajgYqjtzoKVx54ETrH2qMsWWnTPVjdFk8bk+tcOkU4tD2C4i/tS1EQMtCbV1XJchy36bFYvfMAZzWpfSk1WVpO9791P16f8iaSYXYCUxQeCr0vTYVUF4HCrXWGUrzbufEVOY+stHVi0sgpXW5bO6Q07gVfH0rSJTh7/zPQN9wfnau6uieZhAg+nmFnl1qoG7o+2eXqQAPO+mCEbCnvt2SVRvm3sSS3w5uKD+W+UpRny1GWrTBXqn3I8ZfVuZxDCV3UxiJLM1Hn0lH7KrX8Apq2kIPIu9Titcs7VJorQ5Xb57XkdM2STBnTkSvNuRKUsNsWtQ/KBlGaiti1SjNhElMGn4z7FJNmTXLlUPWxonuEB+D/TnocB6/9d4ZnfqyAPB3I17uEOFf0Rm55hG+LLbZoCzqXg2sqH7WsEhFs3H1DHLL5MHTWMim6xeeCpKMxXProFRg5/WtU+2aTkNKOnEg8pnayLqRzfjcS0JwASEHc3S0P7xKtHcqmBmRFvO0SVbjigEswoGoNN+9JtyTq6Ne//w+XvHgNpmK2dTW8CvAoyTty3uqO8MhIbPGjnIp79EaHYZd1/mKEmuXFp9dOd/limZSvRtBhYdvY6ZynotB5BllVuArhbNjqQQ9KZsVmI+NGrx0aGp1xZaWbiaXjXAK5NBtg4RWOG3VLeTzql5F44JX7rb46lXXGZScMRzhW5tLx8sksTKn9DZc+eRF+SIxDLBPnFVwA1bp7Qp1HW7k5Lmq0OYJSs+mjBtv22RIn7XIKQvH8bOhsMI3Pxn2Cf714OyaGf0csSI3MyJJQR87uyU4EGgmhUqTF1KQW2j5B0e4hIbdLVuHy/S7CwPZrmbLPis/EiN8/xr9eux2z9EFLKmFeP7UjBcnSotJ0Dfmxi8e01CVeUkoigjpyw0Ox23p7O1KVUeHVvctiYxT6efuFWw9KR88IPD9tPeehaTrecSEKwwuFcewGQCufVrueEr/23muon5VAvw79sf6QdVmdzICEUGC82kg1rnnySnz2+yfWhU2LECWTRYIyeLeFVg81l0hD47kVVLr9hhyMUILk1CAUwGe/fIRr/nMFJkWnIKZXNdjYvtwYin1xmPs6ViR3n8oirCcqjWVhGYAqxZXTBncL2HfCjAm45bXbUMtucigZRmmC3Z9E2F4e9rYlSXaHeC6aiiKQDlvdLckxKHV1YoE6Xq/OEQqtDduqd6at2jvX5o22cl44PQvQvreVUzoePLnR+ULnhfX2C9PWvlyhv+cnp/S1JZsE4lGEaDXtvN6e2Hv7/bDqCivhhpuuwKxZMxoRWll9Bc7Y9QysHOyLSJL17WPiZt4XIbQdC4q51OcXK+JlOHGLU7DlGlu6uyvb8/faabj0iUswLvED0oEUUineKiUEZhrosTmJiRpms4/p73f9O4aRXaUxJypFExPK7C16ScGVlOI6f8ZhBJnv3nfnWiNURo2ltYtXYfhfL8aqHWlBsb5+mz0Jr4182e7ugp7cuddamkI+AYyr+RmfT/48t6yJyqsSL95S6yFGWSaK47c/AmXJcrZBwOhWdrDLl6Cc5Nomd6T/zsbWrUf/NdmUO+anSachDOyxKtqXtjevukwdvvrpc1ouMQXKwdWL7G6P5JWOL/dUUUMF+lkC/NNZ1/XVXgBrrrA2KkOVXtQ8XIYabwUjNLpwGve8chde+/FVzPTPtptCISSjjX2WD7RSgqJ4yPrhT90UqYWfBNM12RHn7HYO1ui9Lnzqg0hOSjI44vZj8Uv2FypRvZGHiCyTzikTg6mL4vXpNeBq8mGExL0caakr2ACaVKa4FFbr3vCntCoyIVQmSxFJV6AuWI3acC3q7KVa3VJbF2QtagZ5p3g7XLHfJVix0xpO91RWrdYn5KogVzWNYF48H08nMDM9Baf+63RMD892Kx00gjRx0UMkVZqO2KTNPAk0zmgu+7m9QuTDSc9di/sQRQRnbH8G1uuzvhHDrzU/4dz7LkB1qMYFtLJ4qbo0JC/OCnWkp61uax7k5+pPufOjfUl7hDXXKZXFRgMGY/+tDoU/wYt5da9LeFuRk/Zzl8yya/hr+ieceseZrOtZ7noNsCu53eUIrZCgXEPYPYqCoYFerUogy+mYLYZhuwE7NZCNAr330TsYG/uB5JR/+15n60MxfPLlJ0Yw6uIo1YCW8UhTkBjA7+ddmSSYzqRtX928TI6kTOUosJr8qcQ0qDpkjSGoTJfigB33pdJEePetxaWPXYLPZ3/JdJTb1gWVRNZDBbtre6/7Fxyw0eEIJFV+nshVn0H7hceFcNVh3Z3//vgf3PDqrVRmdrsaQYG8gK0XKmIJCeofW1+EDXoNNXIYXzsWp99/NmZGZucI0JVD9SayEbRgn57ICe7/giEq09O5UnaRq+KdcNq+p2L1XgN5gr66+SV58/AHzaq3SzqjzeQ5UxrDQVcdgt/Kcg8FGqB9zy0/aLUEpWb29oPs3Pes7477zrgXvhpqi2THy7UXVChQtEw4g9n1M3MC5kmAgojwGNAco+u1Cfrra7XeZDy98hEMhxBP1sMf1FdsaTmFOziB8pLi7pNfPIa7vroLyZwAtxYwaywYrTp7epmh5VeB7frsjmG7Hw6/TRJsAjMzvAoVVDF0Kpa8Axn8d8wruPG12zEnVG8h8lCAwritEyr1vAhqRmQOiyuL21ntCi0LzuKJUGy985aV0mIzoK1hTxlL8abXGe2xQrA34rT6dSN0YSJYe9DG+OtWu7k2MRHKorpkJo649hhMjciC8q7o1bHXIMsP2gRB+W1p2i64+4y7EY2X5xpzPvCiy3nw/FqKwjR0PW8rfxkikRSuev5qvPnbG85Ka3VwFoAVIxtAlFZfSG8EWx14+ZU6ar9phWoiaxD7bbw3upZ0Qq2/Dne/eTeq2YWem98UvzWWvzGU7eYJ6lxaUCQo1oGsKK+xbeqFymUE5crXklLqOhogcEMUIj3VcZDHoVyaKUtHt10NRlRmSnDQdvuhKlVultoD7z+JiempSATyXWmXLzfsoakPLcnHsoJWS1CuobWXsS5UBbtXOw7YHsN2GEbVo3Ugq6VBWSgKmrzJqL50VLMOG+tc0xIWHktm5tbPPPIZMaHWpZNU2NNuOw2/ZCeiJlDLrLQuoVFeZOy5roooyI2aSGHc2cLcOopqDOdTmozSdg0jGcyi1ldrvs7CKETT9FonlOvmCeqcBgsqXxYRlBqbckj5WBgLyoOzfiTH2vrZHhrHVMpKywmc1uUKZgJ24wjxpzzW2+x+zabNC6XSytf6wuSi7aPVDpKrYb2xpqxfEwV9KEtEUZmu4H6+O+YaXQqpu5YGQkuwxw57I8Q7VrNtyTD5xs7HnxcsCQkv46WDGTz1n2cQwxwK9QzEg3pimEIg4ISvtUB5yROU4P33BF0hXI5FXs3mnYrprbKV0Psf8tIYiu0VIp9W60LjPKnVI+xWXbTtxRjSc0iOoEabBTUjUp0jKI8UGJoyZvW1kF08D1YrrCx19VRn9gSyofJkXUm+WZ8MqG6fXrUSNCbqPTEuglXWOgnKtaUjKK+xeB/JmbpNoXBN7+yNBxgLIZPpj8PS5aXsrkZBckQp1/j6SxuFpff2ZRNYFRZAVdzEaz5oru4Uu+UpLBnMnScRTimt8H9s+w8M7ruBFWVc7Xc44/7zCsagRCaKp7bUdBLuMZxHUC1HoSy4fZe2oP/587Jq/1ybLNv4c9q6ONGInAS3r4ae68cWnutH82FuJ8tC837yTv5N/ebnCp/2eFZc43y2Hih3RUF30MJ7nQMd0bmyk/NgxaR4g7H5RsYQzrm2laM1xfb2/BfeeXDHeQnRsWeteRZbEfNC6yWoP6H0WtRMBCf+aOqaIk8yRSzLUIetU1kH9OrW03nQnMwGHUE5CZC8OefoRDIk9cj7L5wrYlGgFRPUH4ebpCks70LDMueKro3ZB7IKpJT0MCN1OYGGAULZILciHuf3wXfvIxF0ixe6GtKpppWi44V1RSwqtF6Cyt3ZCl3zcELhKdzypnjNQyNyeiFDg72qDK8GHXE7p59nLSxraL5MblA6d47y9Z+PXkLC7xHUvODV2OJDodx62SvCodUSlCmQjfkUODszt9mdV7q8W55h9ERJ97MirIasq+JqxZ7a8VjP7uSz7I6CNCMnJkdepdjwtNtvFrI0M7kB8sVXU0q5OVeEQ+u1oOaLvNAV0RycmNsqoawjO6L1oLk9eg3PHn2zu6NjR1XLaj3m5SRXI/L0qqeFKAzY4khFLCK0UYIqYn6QImoelO75ZneKqHhsc220rxnJ/iZKuxxC1FVE60aRoJZJONqR09K4nZOd0THeAR1TXdAx2QWdkh1RFgsiQKLKNnRhlj8sv9TcdrDcEdS8hNJT6AW5tgB12bTGkxblP2qLw/HEMY/gmROexOPHPIzHj3sMT5zwBI4YtC/6BTsi4lM3r9CWmJ9d0VZqYAFQEemKA9KtH8sNQXkEE7D3CtjFyabY/UkhmU3CFiOjxEpg7csmduSegxX+2o48a4A8iB6JMuy6+mbcZ94T9NPnzhM8y3O7bnoIbht2A3rFKhCwdwn1xI+ltCddWoPJm8Dq0mv7XUEfkil9rJXlsInh9pZnmy/Vso7lhqCkZ1KzaDqKIVVDcdgah2HznpugROu0alkSCqt9CYUSq3AWXvsFrq3cci2X7LrV++rx2Q+fIOuvB8JJtrYVztYm1zsc4XhXbNhvEwSzIZtp7UqngoqeXZk1oO5Gs9pG2eeFtD+N6b6Z+KV6PFKVMXw2+WPUZ+OuuEW0WrTad/EWC1jSjqlOeGDYAyjNltiC9cf/61j8mpnIm6pIqkBFTWEbK6Xut+59wNYN5VqrgQYCQbSPlaJXoj1JKIx2mW44/5TLHUGJc2hQ1YVrcO7DZ+OH6h9JaAkbSNdLwRkqryupV16lKkuzKXS+9deJ8h/I+NE10wllvhJM883CbF8tLar8e3ayqVQSldRz8svD8y1iSWH5GoPSU6y0H6X+ElPQsmQF9lljP5SmKuDLUPl43omjunc5g4PO27YV0VQZ0ixBKp3GrGAdRkd/wzclv+Lj8q9w3oPnoiZZ41qeZSpNlePav12HdvqQpHXvWAf2rbysI22GkWK7flFemdsi1F39LTAd3wcmYJp/TiNyKqJ1YvkiKMJRUI5taEnsNHQX7LvJX1CSitgcIT3ZCpOsvC6PKqhwK9faoby65dACRjSxQJIugRpfNb6Of4Uz7z3TLaOugKyOYCKCM7Y9Cx0T7RhLH4/U+JxG3YLokChDnzp9tNKRtiNq/mujSPkzSOW69G2hLZd3BPr163dRbn+Zh6kVLYSVe6yIHu16wpdbarXMV4oe0R6YMOEX1NLikOYqrO64GnaSIOtY+21hGEpZtGyKTBryyw6rz2+LodWgFjN/n47Bqw42i0nhurXvjopwOUaNH436QAwhktOeq+6Gi/b/B/beaB+su/IG+HzUCNRlay1xl6zViqXd+uFl2o0vimybg841Lo2OvDI2PlPE4se82mmZRV2gHlf/+zrUJqsbZG/Fzitjr6F7Y5+N9uNhwO6y1sXh+QbHmnJPtNoQcvnVWJrbpe3D8iYicbw25XWMqR3lvv+mk3TbrbUj2sc7IuAPIUorcu819kFFfSf4Y5UYVLouuvi7W0pmfWg2uiluW4Hy6ly+GfN+nn/+XCHMdnS7RSxRLEcEJSHMIMCuTdxXi5c/eRmZQNrJnTuFUMDP7p17muc89T/306N4TU9oC2D3tKnToL++FKxubDadQX0mjjMfOgfvjX+HHrl4rBv7wFY2hUQmjc9HfJo/R2gdbTdQzjCsN61bHrApGm0F8yOhIlojliOC0p1fAppB3J/EgyMfxKPvP0Rvaaydxg7rboh10lFEcv04rZgZDIRYSc7yENrC+lFzvWSdc1qqXU61kEYK1YFafPTNJ0bOVgd0f9ljH/sWnT7F9daIF0laeuRHUFLS0Oe8U3ZOhGfD5kVtL2IxYhknKGlPofPbBw6kkbWhWjwz6jk888kTDbXgS7XDjmv8HVt12hplqVIjo3Q6ZeM42m8D3DQfqPwNPFTwn/46lTux6aqbYe3oOvCnArQ06/MExXM7DN4aFclSIyfVoZ6CNX4MX0QRixZ+Qv+WGaePcwZ4h8+TUqFjGCqXunCaIzQjOAuPfPo4val9Op0NY5ON9sOpe5+LKv5kXOmUTeDUQUbqrIBtA/l6CRTUDY8DtAzpF/AHkQgmkCmhLZSrskgqguGHXW6f+qoOJZAK5Alqp/W3R2WqgnXBrh4tsrzp1fbhrGtB5SHtsjuvz00VOneTyjvdsZx8OPGRc8vctB0Zae0I9O3b96KmFd/2nWRHglbQdzEB1An5UuDMkqJCsku3dpc10al9Z/VhDPqSR310NkZN+MZialwmEMxZUxJDvS6zALjrtwwt/YpHS9P00svXh+dYZnOewgGTZk3EzPh0rNd/fSoWLSOeVvlH1YzG2Dk/ol/n/uhX0d/S84V9eOb950lctQymytJ13LVaVoLWB0mF7EF9c05VE7CvJPAYbnxN003cTU1jePl9nrWfpWCFp3QxrkuNvrqhaatKXgCKX3GZNwJ9+vRZ6gSV0jtSJIz5OUFhve38HLXPBrV50MjpnJ4+WZicS7Ob8vl3I7DT0J1t7MXDmv3K8doHr2JqKINkNkV1dJ9f0pM8G83KpdOcE7ztokRL0yzMy4JcKpvGz1N+wS/TfsFGq24Evx5Xpn2I+uvxyZjPUJqpxJD+Qxxxhfx47n/PoiZcQ7V0BOV+jaF0vW3rdsykRMuyq3G1EMKZCNpn2qFDrALtkhWoTJajiq4yWcZtmXVxK1LlKOW2LFPKbnCaTq/MaFIrZVWJqkJayDnN56voPOdbd911Wyb1ixHKyPywUHcYJmWfMdf+XJrTWHa8q0bSEbx22itUxgrnoQBUwpf+9yL+9dZTmBCeCATTSCeT1n3Mpd4sCq2XlmJRW1AtQq4udPvPsktSki3F/UfeixWrVjRL8vdZv+LSey/EIXsfgfX7bGThs6UZ7HXhnphc/juDUICsHmSDzI1FmtfFgVz2NDdMyKSzNpN+79X3wnG7H0uiyt+scjVFeJXmok+bNR1n3XUOxibGIhmI0dNN7lUPzx9o2dPNVl9PSxm+VVZZZanXkD582RJ4jelZVM1DIiIJcYLXFG4KQR4SpnAygg8vfAtl2XbOU0mE6ZJAXbYGG168JWLBOumyg2/+s5Dnn7/WA5VB5JhhJYQyITx92uMYUDnQyq2eyiWXnoYLL74ciEdd4Aiw46nb4eeyCfbJJlsZgKpaOC3DQ1vptpgFaCTNbjytx7sPvAsbrrixs6yaorBIKi6Pk+Ux7HTyTpgenomkZuAHaUWJvpmegmjsb35oK7KytDD/2ltC8LpxLXXzh1MWN2fJmYme0yBDluKjc248hn7c2LgB734NUBJSUp4rjZTh0J33R1k6xC5g/nUPi2tbujYKjZm4L95yy/KcffE5rlxSRG30Dp5XLypnAjjhwOPsIMAK8rPr68hJEdoGIc0NyUKK5ckilA3jf59+NO+iqKhyQi5MqD6KB894CCdvcTx2W2snBJNaqiaPQvlrzhUxfxRo5dJDcw3XnGs53FhT3mnmc46QdJyTNNGVEJC/Bjy18YRT/Kb9tA/HbHY0SlECvaHmPjqgZPRPac5NsG0GLIMGh4MZEg6tiGp/LZIRLRilc0ClrysLJ1MyB/pp7SwGN3JTV9rPeJ6TJeK5tgJr5gDzzHbuluiEUR99baLQAJbVnAevaJ5fCuhW1QMHb3U4LtvvCgztPgSBFLuHspz8rCsGURfaTZjV/h+V6eUTrYKg/ggWrASeZHlC4IhJTj9RjeRGW42nzCV43jElLJIsQUWyjD0cCZwzrdTJk1NKbReuflQDmoBZE5qDeq0dlau2k847veHJpkH+uTEbVZB+GnVZUEu0ZkgiQoko/rLWXnjh+pdw763/58rsFUpbOU8umsI7R7Hwxf248aSb0DXeFUF2F30aOFdi9nLyvBIoYn5YhgmKcmN3KM81ht71j6TDqEiVoJzOXpotFERtvUtQ2J678Rm0T1TQ2nLCJgtCwt1c2m0JRtZ69zCQRjxSj1vvvcUpqCTDK39hnbCe9JhdpzTfJ/c0vc1C2S8LlGGHdbZDKBYB9Jk8M6voZEnpXUWNl9OQTIdTSEeSdNyGSepBBiysJ9ZbNB7F5UdcgpJ0FEGrKzdXSldSMEfrc/+KaB5LmKBMwgvcH8cf6U64q5KaskGUJEtpjm+AM7c6HqdtfSzCWUliAQqzx/3InEr887jrUU5rihc1xQwsA8Ll6oQkReJNZBM2O9ykwvomCkHMo4ia6+MFaatdF/bu7EHIC5+/hEyIZZcY0GXDGTz2xn144I07cP+bd+Dut67HxucNxeDzBmODcwdjk3M2wkV3XUjyKiir6olJrD9wAwzqujqtqCgC7CJL3ryllLUUc97pU2CFDFdEUyzUUzxVo6tKRfH23H7TRDQIrQl/uQMqQO44J8Du6YaOFSYXbiEQCgaRTlEaGNXmnrQAjk78CKdD6FDfHq/c+CKisXIVorFTdiikLz7zAnbZc1enrHLheux8xvYYXzLVVjfw0Ja7ea7l6Ei60XQE+6z0F5y79z9sXMbqQVCQHP7z7Ss47bkzaXXJklR3VyloXMo6zS4QsTA3jqUBL3faakJmNFtiN62grSZKuWKbJrJzkAnIUqYpRTOoNhAj/6Rt7C2ajGLHftvhsiOutK5dQ4IUhXQ0hWE3HIMR0z5FwhezcxnGkdVeWJduMmfGnoZq0KCIubGQs/Jlf+htf9Z5jhQ8OXSWRN7pbICNq0HYgD2WTyEU0iPtOIJqb/rYawEMpyg2+EzhUH7cy626iDvZ8LNzbMwAVaHhVYuWQwokQbB3yPxSLl5Db3IUJmXXJOi/xlpr4MVnX3R+clTgI3c4ktwVNAL2UnQ10TbhxtLYChmWhO6zLz/Ab7N+ydeD4JWfzt1PNMVAoyt6Cjj3zaktIJ9nloMyVeOrx/TIDEwO/4bfI1MwNTINc6Ix1ITjqA3FSE5xa2nr3JpoBhFJl8FXuAaPEuWhBsn33VgvXUcYRx9LDaOS5Ncp0Q7RTAmiqSiqEuX2FoPTgLYsQYsXfp/PPvORO1wQFE53F21lCVGLyVZmGOm0fGUtZVJIpWPIpONIp9lnpwuGg0hmEghF/LbV99hM1hVHP0sj9xNBmTi4VAsoyq6XYp71RRaHluadIUVuJKeUP4W6khhuffp2JEIsv2cNNRTCub79+mGXvXZxd1RllGbT7lsfhE7JTghlIwzCQCJKnWuj0BrkpmNsRF/Qj5mBWagPTHZ14tWHnafjjaXGX8O610wf97JLmmGc9dT2oDw7SeN/yoVWeHAS6KQ8xUKnKJjydRNTWUc8DmWCqMpU4rxjzmcCucYvrABG3nbwdihPVpCMytE+0RH/d849+M/1L2Gjbhti33X3xivcP/eAcxAhiXlyXsTc8K2/YZ/snBmUPrL8/KG7h+6XWq9ax36071CJ9p0r8cPonynftCror8fswWAIqwzsjilTf8PUSbXs2rG/zS7DqoNWxi8TxqO6upZmdZiN7ZjB7uBqJBKI7udqYXdn9t598j7RTaXwJ9B/zV6YOn4GYrP04J8QwdqtfQHIWV0iujSvX8I7Wa/6Tnj56tecJSUUJqNs8fj5V57C7tvv7YSQx6MnfIcj7xyGGRF29fShAS9gG4S1GUvAFkI4E4KfCtch1Q5vXPlf+ON6KTgXkEV8/P3HcMOrN2BmaCb1UmTvTklpPYvaQ2vv4i08VB7ZOxlUkXjuOP5WrN1liGOy5viFZP7ce08hHkxihY4rYvCADeYKlw1ksM81e+Prum9zPkU0hX/1DQaZVbFgkDDYRrJuRCJpJFHZuwJ91uuJdFBKSjGXVcTzgWAG/VbviU79KuH3k35S6t6lsN6QNVBVWUFhDlErSIhUCEl+gNf3+dMoqQxh/8P3wqEn7Y9DTt6P27/i8BMPwk57bA2woX1MS+tlD1p3BZRW8c4jYqJzz0daAJKdjZfwF2Q3sSQTwL3X3enOKQmPZ7QVcoRUHuqArJkKPKZbte9AvPjPp3hnjJrAtmW42wBrkI2rbmuKN4Cpoak47dHTkNKnqoRcPbz2wWuo0xIsVt1mT9hPKz0UPrRY9sjJg97dpLxRjgK0fERCVjfNgf57bLY39tt4fwxeheSkG6CZnHQSGZ73+TUVwRO2IpqDX8N+7pWFBUMNoz61lFxWVMqfRCpYjWSoHvFALZJBbeuQCNQjHUrDX0IyiKQRD9eyLz8b1b7ZtIBoMPtyYxdMQ5fWeMagtVfF6uutglHjv8Zn336BEd+MxMhvP8eIUZ9gUvUErL356ui1cjcjqJQ/jgyvbV1BzRoUFqAT7rTUUXsB+Eg4Q/qsh46ZbnamQdB0upBz6L/1NlvRW5nN+VHIKus7Ymj/oTyQlHon2h5U/xpT9GheCpNkvb717duYPOs3Vy85l9KgOI0q1btNzszFtYZc5sEaMj3xU/bTqPfX5q3u5qCgIiNxvHf/96pJW96bv/rtK0xNTHN+jaAAIi4bqbX/y0MNNwfffqfumP34lW8QTpfkvOYH1ro1ko8klMKKa3fDxtutjkCsEgHGj4TDSKXYItTZTLQW06ZOQ8dwLwQifpJUDTLpNN54+h1MGl/NRtNyFgxKYU8yzbSvFimSWzpINWDfQVRCRjRFUCOlyYhlvnJ2QTLY4ZDNMOK/32Lm+BgJKuju2srWfKDmNgNIisW0g7Sehq1/NE7Y6SQnTMTr77yBIRtugMpIZZ6kJBlNjSSFp3vk3ftx3dvXoo7WoevueJnQQS5QK4dyqrrWU6ZQ2k2c0JrsYbbPI8c9jNU6r+EUkRU4s3QKdjpzd8yMzGJ9y5JwKch6XvbBmuKfhhwirJvOqfZ4bvgL7B2oF+AQzAbJOzxWvVAH6jPO2tQs9Yg/4ixLVpVu3sdfcyK+mDkC1eE5lH/2DnSuAWoFd5z31S3E+7/8wLfNARtmx30x2Z44eI//m39dQ2a8BrbVlQsjSSum/9o90HvVHnj9qXcQTpWxTfSIlpUdzWDbvTfG+HE/Y8z/Jtkj62zJHOy9/x744O0v8dsPM9lQeh1ATwR1N+Y1swmEy/3oN7AfSiqivMPQSqOVE/KFMG3SdIz/gelQgZKoxQ4Hb4oRb3+LGePrzc/W8FlAu7kRLP63x71pmuhBHDP4KJywPQmKSJUkceotp+LbX77BlQddgcGr0jrSnU/pSkrcDc0d5x4AZsJx7HHqzhhXOYX1wXppUFRZVdLq1q+4Kpqcqz4VUNCnt0LoVdMdL93wCnz1ubEonr7iiSvxwNhHGZ7tLFmw37IPRxmOLtQd1tpQesFan4cXyij/O66wPc4//EI2PcOxB7j1mZsi5ktgSKehuPTo4SiLllk9vj7qdZz89Fn2sMcJWWM5KbxWIVxdLw+1nYf/x88nsbLzd4F5wupLleO6AlZR/PNR0QOZKBurlHdgugyJisdZ3k0ymlPiE/HpcSuPJeE5U0f3XXvix8bO0Jrp3Kc99j14d/hSfox871t8/tqX+OLNbzDq0+/Rb4We2HGfzZGN1Oe6FSRSERsb94+MAVkpmA/LiSsMN2l8/eMXmBacijMePh0HnLiPm0Gs83S7n7Ubtjp/K/z1bPqLf1gUP0n90eufs3k0EjKz+togvFw78dcRS8I7elpdaCmgtT3B3TUHroF0hparjVs6WVjeINlJ+dOoC9ajPhgzp68FJXwpZCWguUoJZ6O4/6x78c9TbkRZCclJ4I3w2geHI+6PMQ0Nd7RNmVlS8IcRJWe4O6fMzPnPAmbN23gD+Z2WSColi8tNbEvTcpLTu2o+NlIwGESPHl2x6WarY9PN18AmmwxFRXmlYtrPpcafTdj0IxwNIZaN4/ea33lnqWfj1Zm1VJ+sxq/TfmVGQ7S0QjbvJMAoq60zABtusS5WX38A1eSPkVQDVKxcuZPMwyz/TNQG55CgcoMHvN7s8ExMDk/GpMBEfPPD5+anm1+Yt8qonn4xEeXCiI+C2hasJ0Gl9lzhnsF2c9qmfZZXMuL3a/wpa1aEmwm9vILymxt/E5GHeEO2eVFqeorAZQdfjhXbDXJGUk6Uav2zUB2oMZ3Tz9Vvro6LmAv+FJnczWhhJVPoFkhQMh80TZ+qGY2UkogCiJRTUSvSiFZmUdqe7ROsQUlJGF+N+AKff/I/fPzRO/jgvfdRX0OTlg1oDaOGNOtJsp/FxJ+n44Xn3sB6GwzBEccejiNOOxjDzjwMBx96EKqqOuPFp95Aqo5x1Fdnl/Hb777GW+++gRFffMI8/UkyYJFVaimf1uxWDpum6FlHMX8Co3/9ssG6CvqC2HerPW0lSld3sipkTbV9qAOn6jZoy6bffPAm6FfajZZyAPb1F7Mel094VWPzqPST0EiVcjev9VbaAL54LlQYmJWdhaMuOQGxiPUlNMKR61AsC9KyeODvu3p31mVyAcREmO6pIq1qkU5mMHbU9xj19dcYsPrKWHFQH6y0ek+sMKAHVlmtHz5+/3+YObGOpNIOmXhHNkYZHYU5rdni6kI4VdYNWMNRyVQANVPS+M8jb+KuWx/CZ998jh9+/R733fkQPnrtC6Rq1JpUfSXBxvcnQoikKmzsy14haCHmVUqVTEuJ6H0plU9dUj21NFgk5pvn9VA+SdOcAcxfA6CdYh1Qzu5tmGFCWrok4567tFmxUz1L6awb3LjGSuNhrFDTwV609oMW7XJMUB60EqfG7LbZZCuru4aG11bVE8zi6befxHYX7YQv6kahnkaB2Ml17+Ryt0MTQrfbFI1bYfmB/6dvJlDQWiJkblzC3SLqEaIeZ+Jp/DDqZ1pK3+HLEWPw9YifMWrERHz36UT8MnoG/En2u9lwqTgbIyWV1+P9IFOi4ispdhXUZ8+WVCNbMROpsulIV8yGr10SpaVhtnUcwQ4J9FqtEzbeaX3sf+heWHud1Wz8yWdPRUrY3dAE04VvPns8LuSEIj/WIlLSxMUUzXWWVQPi9Nf8F731Xx+K47bX/s+EzoIy2sHbH4k+oR42r8ryYum0XWg+lGwCqY09nVQ5c2XypaK47fLHUBbpwB5wkFZUjsSXcUhcPCeIW8yqZl2Vxctw58l3YKNVNnNc0xCIjvvvffsernnzWtSGZrMq47yBSbYowwVGgbthO2ediyY/z2d5gz+QpaK3iKAI1o9IysYgGCvsj6JvjxWw2sA1eEQiSviQjgfYACUI6U3ulCZhsjMoNmML+LMhuiD0cq99DomxxAv9e/fHmquthYMOOgjrrb8+Vu03CDUT0pgythYr9RrAu1MUY7/+EU8++ixGjhgJLTCnlzr/SHN5cXL61gBZRk5eTC1ZGhKfrINcV07QQHraF0N1qAa3vngd0kGyl+JQSe+95P9QlmjHQ8axdBSp6VXaCBqyzYJ4+4VFSYRxxo6noTRVafy9PCFfDW7MUZ21EvYOKhLtc+1OeFsF5r4GwzXulCAxqfNvpM893Qh0G7COSSN4tNT4tzyCt7+FKThrkt0erRCoD+9IgVdecQBWXnklEg4To1lCxmM4NhvDqN79YiBew+8L48EHHsfkib/zpsNGYVdIdyGNZv0ydjJGfz0e9XXA99+Ow+jPf8TYzydh9CcTMOaz8Zjw3UTM/GUO0rVMJxPGnGlJ1Myq52WySDc7JWLhoUFLyy/z3c5XhXtv0MJlTnJk5dmidmQw3TXVxbv3gwfx1DtPWQ3KlaeqcPi2R6EyScvCuokqdRuF2s5zrvkaF4aG5c7r7oJVuw1EwK8nwHNp2DKHfAldRbBq6PyI8ka8xZpbYoVuK7pTCugF1jEt7erEHJtKowdKqYCftrlLw+Y+Wa+kiHnBn9EkMfWHqXwLHIcyuDC2vG06hUQ8xjrmflb3UqmxuoCONKyLrWOmm07xzkFLQ9fQE0D3NQ21sjjST6JxXUjr8rH1M2mlQSJUON5pbEoBg/tpnb3z0reYNZXXY4P76BxL/AkwXVll4tZoKoKDN/wbKtHRFZXnPv1+JDu1mrOi/NNSZD7raD29Neo99wqjwjE7B299EM7Z5UyUZrUAHv0MrV8AlcPCXCrvIZJshDcVv7pwagq6V19+0Y2pKDDDXHvBpbQeHLEXovWXuKXI14zXnLpFpTQISqiOutZ3wIUHnW03NoMCeqROgYqXzMT1j15JudE3FSXLkn93884lXcR84P/bMX/F3w45EJ06dWzB11XyzWTrObFR0sm0LasSCgZIQLw32Jv/LpzVv8aLrFnVPIrDdvMF3d3ZBqF5lpaQxoR8qTRKbTqBum+MZ7dvppIbuLYUuB/MPdZXYl6OWgLlQum5mILSth2a3SkbVlqhtDcO3eFo+0CABC0byuKUu09EPFJj+RS8Z3wfTv4I25+5I+pIXyqa4mw3eDt2DjXnxZXNudYLL4eeUxvpyWSAbXDV5VciFVNF2Ak8+c0zuP7JfzqS4nGEbRFqMgblldbbtl14NeLg7enNhmBATy/9qMxW4tYzb0VIixh6pCRnUbOYGf8Vh111BKaVaLY4T+iPToa5nIIWMX8Exv3y00Vff/4t6mo1LV9WDKvNKnh+jv+0pWxqcLlP/57o0q0T+q7QF/1W7IO+K/ZCnxV7c9sbvVfqid4r9uR+T/Tr3xvtO7TH5N8mGSG4/gMJg2mp4SvKStF/xRXQo28Pm5zZX/FW6MU0e1ma/Vak/4rd6Lqje6+umPz7JCStX0/Lhmk0OMti7i6Vgzuiy3lKUAb3XB9DVxpqfplADC+88BLuvvJ+hCVwSiScxd3P3op3p3xoH2ds9AkhJqB3EZP+BNpFK7BWn7VNSDXzfa0Ba+HVT/+DOM+5uvKosXXB1QnLpDxqPIQbPTDRTUATZg/Z6G/oEO5iIdWjf+DjR9C1U1dsstImVj+BdACTpv+Kr6d+y0O2glnFbItWV9J5I1cDtvWcFY6y6erDOZ3R/Db1AKIIoUOyAlf87Qqs3WddBnWxDNzV+6ePvPcAzrvrPPyS/M099TWBosUvWVCPQJfIXc1ERFvPKWgRBt/KA1b6w9WhiCKadDBG64ldMCqwW8hN0FnPqeLVXQvw7hxFJqVH9rKsaAexy2QWFgVCL6PqFZpUgNYMrRU972tkIxmhybymyGg9pkwAAX+Y13YWmQcTKo0pFUalk+JYN1JpUqiOGzwMJ+9wkkuyNIsXX3geu+y4R8OTu5rgdPzlnN3xS3gm88T8Mppie6kJQV5Hwvri+a+gKtjBSEqvY+0/fG98lxyLGLuC9lDAgi+cxbe4IWvJyIQVFmQGU+yyaxkcLbCmZVf+ffLz6F3R2yym90a8i7OfOg+dMhX4v7MeRPtydoGJ/37zKs5/9gzMDsZZpdaSqlrWlUramkrbPBz5NIbIVrPo9fBI7SZrXSWRfGqJnh6+Lrj++H9iYJd1naUtKCF26ebUz8G7P76BC568jFaT1i2TQFgitnaWhimslrgvkc2dLWIeoOFC6mihc4qZd/pJoMOpCkTT7RBKVCKSak/Xjq6KTsfOhemCVGRfIgJ/mkqQ0XrN3M86IRD3qOsWSZejVCsPMp0Q0wmnOuQc95Ptue1Ip205onqtJhFEWHGZBntj5jSWJHmZK/+5sS/tm6XIP5MQFafeh122Iznl+E8P8c659UJMjmjtI0dOgiu1t5UyZlDnr8XRFx+ATCju0mLYu86+Ex3jWk7Yu4DDXHnKwRsDXFJOedRWWciwa51O0RLlTcZylMqw66ZcM1Au+8nwDKRDdagOcBudZfUj4tpq8FZYw78igrS43Lih3QZU1bxh8Rakp7VLwTWt53m55sDbCcvAmx/rR3saI9Wa9e3THXD0Zodi+F+vxMCOJCfdyIyY6Ch4tz51Pfb75944/+mLKBdxlKWjqEiXcltCuY5o1pgFV4U6o8vVf3P5Kjrn/E0Fd94uV7GkfY0Rek6D5dkUz/P20PDkR9aLNa0sG03m81yAQkzxpSJIGZyTYjAddhc0idNPQfcrDPfll7+WVjTgcSrkHI9TvKasE322OkvlkIKYo/UlV5h/W7fc9iUXUiBXAXOB12LGMSH5Iz6b9DEPbcomS+OcKV8jx5uoP42fgpPw8JsPW1dIaZSjA/bcdH9EUMLySgr5x2sW5klOkEJp/G9JOk+RTR25YW1YHvWvNBHF4escjF7taT3l4Msk6VKYFqnB/pcc7pTSsh9Cj+hA3iCiTllZX/YdQndyqUFla1rXzbnmYJJLOdZNTyTF2yl6BHrhveHv4bjtzsC6qxS8SE4XRz2Ovf4wPDziYUxKTOa5DPoHe+H9K9/Hx1d8jk+v+AKfX/UB+vm7ME3KNdNPMd2kySmFn/XVXN6KTjrXYkh6eV/xBwsEXYOpdPQLyp/JeeuM29b2PafYUgr2w/UyHZ1WOdBDOL1eYuuXe46euvu6YN620MmP15fTgKXCS+l40sWfB/kYdJcXsboKMHhB3SlkaYIdfdGRqA3WmBmubmEhq/Nfg7NjXq+W1tOjrz5Cfc0lws22A7fD2TuchXLeSWUlijwZei5nT0SXtMsphbrdgWCI9UZLNCir1o/KQCWO3vdEKhpzx/qWMs4OxxFjW8X8GdSwC24KKpKiFfGP8y9nW7DebQzK0Tarl9dxCrgkncqkbZp3NU/I5+X4z3FME3/VjeWfN9pQJozVygfg/069D5FYSf6zVIIaj0W+5V83YsIvE1BKq75DogM27rQx7jvrYYTiufCaOB4rwwn7HG89Dj1X0E3BT52Rqeluc0U0B9/a66ylNmoBnDrJgrLG9Xy4690tbe2m+dS1Gt0t2JIzUxhP0wc8i0uwGd1uz/7nZ9t6W5cPkwxu3esCOuvFE5ia5cWl6cHZPBbL8nLkWkfg+K2OdUnnktUyrA+8/hDu/exOdmeqWVYJEE/l0lJckZYDU+SBXprVAnrt68rx8LkPoqt/BSfEjKjPF93wxvV4ZsTTqEEd5VHpOMVQ1nWksZulAeVdJJKSJavH4NSckmQE9517N1aPuEF/5bUmNgXbX7E7podqkGKmK9l1PWqNw3H0gUfCp6VFSFQPjLwF1z11KwmMbcqbRTgSdm1gV1ryaO4GpTpvCpMvnRApqXUZTTFl6ZQlS9An3AP3XngfgnNKXX3kLOSGgomkeVPKaBFFebL8wRStSb2D55raOe6/P/Y/OPupSzEnUosgSRS+EONQhnjOS66IxvANGjSouXabByRw7u7o4NV+C5Og0CikKKpAy5uBC+VQuD8fMIiXC4W2sSZuC8nUIyg3TcCPweVDcOuxt6A0UmJL+Nz36B2oi0zBoyOfQ33Q3YE1OGblVXqOjQ3yMm/+E0FpaX2RbMdkR1xzwD+xzorrOoGm8H3/2/c49o6j2D2aTrnVwIVIjqEZ13JpEppLeAnDWQ16QKF3CANolyjD/519F1YpWdMVMFKPs4bvjzfrf8JMkrCyqcX+VmjXD/eceDu6Z9gNZLg3Pn4EF750FctYT2IKIEiSao4klhZUFDWHtoLLmbNdJBVyKXbFg7TGw8kAqpJlOHPf0zGk70ZoX9olR9aESMdLyCue/ATPT9um53nje3PUv3H+k8NRHaqnWPEmyXa3h0W5m2wRc2OhvounGtddsfF36FpX5TYQUk458gTlrBZZXCIGPf2LpksQToQplD437cmXQiaQoBWgKRe8NTKckvHKqxRcKnk4ytaP/rSOtIBee5r5z537LDqVdGjoCk1Ofo99L90fUzXAzLAZ3qGVknLpXrjVUeO0lwRMn0jCaRbUBoITFbjvzH9hlbK1TBHf/uZ1XPzvszElW4eUqxJFQDQTwbMXPIYVAwPck6xQGrsN3wVjUz8yDGujkYwsHTQiSO42V8Pectcac5JRU56KYKeVt8dlf7+C7UJzySMmxk+leXMxEmvs3+CaKfLs+CwkQ7Mwy1+Ngy4+FDXBWiRtrmCQVhcj8aJ2w24uchHwDRgwoMU14wldaxC+eWFed22THwqjRCFAYbRVOHkXkyHnyZqK5X1ctDkYPTVzt3OziHPX5fW10mL3ZA9cc8hVWKsPFZ2XSvpiOO3+k/Dq5P+yN8E07GKKQ1KjBebQ/HUXJ5QDj6CiiKAqRgvqrDuxcgUtKOrRG9+9jlOfPd3WyZKlZ6rEf/r00gGD/oLz9r9ATwksoV2u3A1jMmNVIt7ILPmlhuZk1cpqe2xHq/6AEZS6cxXszq1cNgB/2+FAbLvOtgjEQ87yYaQsu3DPvPc4Rvww0sJXlVXyhE7SWdORknOXkSio26hrqa4+/eZDzEhMRa2vHvVRLWedskxYT0Rp277FtP9FNMZCWlBtHBIIbUgI9iyFBxIlKadZQDnIr/DYQ3MEJeGSQOq9LItppwO06IO4eIcLsfe6+7hAtD7ue+P/cOt7t2FOcBZ1XaaVwHgNBLXkYVemSanXd0Ss6uLdd+YdGFC+jhHUq2NexSnPnEouZxeWCu2eq9CKoHb1r+6J5695Hv5U2BI68caT8cHMD1ET1YJsHu0vHWigvBDWTjnnwBZmkLJUOVao7I/TDjoFQ3pv5KxBtaEc22xW3Sx8OvljnP/QuWb9aKRKpKJ6kJS4gPl0deRGLd2YliXCY/vuXiqNYEjz9xRbZ4u204IQ6Nix40W5/WUeTlz034mWCSl3HOk4xdO+yEkhmv48FPq5nz76IPrSSYkeFZlb/xwfdt54J9fNI9ZeZW10DnfBiO8/o1fSwuvJl4unf26Tv9Lih12L5GRGIC0JLZ8Sm1mDLdbd0p6y3v7cHRhdO8bCsUTcqp4cTZUmIjhgxwPgT7PLw0LsuOEOmD1jBr6e8TX0nqb8TJlVwIL9uR3rrkWuMA7z3ODXOJx5EmoZ9z//07Hm3kXSIfSp7IUzdz0D5+53PnqV9LFVMK0xxCm0mibOmYhjbjseD418EjV+dv9pabqJvqwLmoiqA8GTGFeb7rycjlRT9hRY45R2E1Md5nKlbr4OipgnlisLysmCE9PCQlOs+T8vbkJzcuPONK4uJ2y8XxrJcY8SJ9HV+IWWAu7n64OHz30EpdESN7GPwp+JJrDvhXtjbGw8ElQEfYBAd1KlY5NM6WT+L0kbRIpiXV97v455T0fMM6b1toN1LI9UUJpLqJjMYyQVwgED98cZfznbiFYZfmX0yzjr32chnY3Raa5axpZ/Vr2ZIquQBXBPaeUWBEUUmTNsQRpN4+dPac9ZL6IM1WvWF2JXNYsO2XKsEe6PO/9xH3xxldOCuSd0tKBi4Vqccc/JGPHTV6gOxVgHKZZFC+nI6sldixt3rQYfQ/76ztdRudsrREEReKbxuSLyWL66eDlIOOYudKHIeGhZ1TROz+gJfpKTvoITToexYbdNcOtxNzuCEutQb2oxB+fcfQ7emfQ+EoG4WWCCFElOU5CWJEEJrgakcF6JCkvVGDojvxVquuGx859CZUln809FUvjPqFfwj0fPQV3AHqKTzDQorD9ZDRasAbJYW66glgLTcKTgLF/POXh04CBrVq2RRQktphXDA3HIrgejQ7gdNhy0AXwJMRKh6Iz4S+0PeOo/T2BiYhLe+vFdclXCtQMtIJVEN47Ca7UMXs0tbLwihOWqi7fkIEtE01apsP4EJtZMxjaDt0b7aAdTMCGcjWCTjYbi2deeQJwEZaqck2VtZGksPZFu+ZVD7PZsuf4G6FTGLhKjqRu4SseVEW8fwxejv7LCuFUpeMbOu/J5TmhqVc2NHDHxAt7kX3GTomkw3jvr/UIko/JUmZFSmJZgRbYKA8tXxqMXPMy8rYLeHXrbnC8DbxrJYAK/1o3H368+GB9P/xhjZ/5g0y6UL7tGzhWx5LFcWlCLG1IhtySM5rpQ1Nn9qUIldlttN5y595nwJ2lCsdbT4Tj2PnVnjC+fjPoAu3kaq1D8XIssnYZRDoSWXV1znjrE2+Hy3S7HFhts6cbbWLxHPnkE1z9/HeIRdfVkI0nFRVSN05UVJHKePxzxaL6Z4it0QI/72R3VWuAB/ryX1NXVPPbg42yd+Ai9VPel4fbYYNBQ+JK5sqnnp6R4mMomcMk9l+DFcS+xDeptoq6YSUSr64hUFUupqxvfcmuviEWBIkEtBkiZ9MUTTcDTsxxTQH8EoVQQa0UH4sGzH6RmOGWZlvgFe92wL6akZtorEGoMGy+xs0sDypeccuDlQlvaLy7LjbppRjkJH3pluuHfF/wblUE9ggfeH/Eezv73+ZgWncYAqgGXhgcbOqKfBpvzK2DMCx5BiVnSNmepV7Qbuvi74IidjsLGa23FjChBuiArUclpwLsQIk5dnkn8Ovtn3Pzs9fjk+88QC6RRk4lxG4c+lxZg4YwGc9lVWbWrMUHBJqpoX575HSIXoIhFCrVFEYsBJuR0psAUXi1zXB+sw0+p7/Hprx+6uzgDdKzqjV0G7oGIHtXzWOMrEvYlKe6aO6YJuIFcH9MMFRKHZjrLatDTK7eUiqwK+Tkn60RTD3whP2aHauwdRpcAsMmQTVEZLmNoJmZx0zmC07UUz21tvI5p6JuHAdDqtHOqCLc6qwbB9Q0+MYamOpQny7ByaiXcNuxO3H3uA9h4NVpt9UyWJGnzseq4H9MxnUhK437aF1jnz370DA646gC8Oe4tTA9Nx8zQLMRo5fmClk1l3W4o7iGFm4KifRGsWVBWFjptVR5FWqKttXyhaEEtBohe9N04wb4GI4UzoU7ZcjCdY53w1pUfuBdJpXvRDP5+5d/xVc039pVaqYBTicUPIwpe0QaAqWcae8nohWse6x09N+2C0GoU3twilccylyNS/tPM8lVmrYAn/vkU45IoWPxpJb/jwIsOwsTkZHal9Gkzl66pOEmpNBZA2BemMclOmmNFqyPt9e3cB9m08qZVwRRH89Z82H/b/bHjuru6d92UB89pvFsBGTnDbtqM6hmIxdhls3wSPDd52q849d7TMb10uuVDa16luOM9oMhtLKwrqSufPSnMXa4pdL7ZE0UsEhQJahFDIi2htffzqFBScC1+lqZF4CmnJgd+NPxDBOtLnITT1WXqcea95+Ddye/Yon3qGC4Jyde8MJsbxm6WlgDJ+kUSJAZaUBqf0Rv9+oy9DU4zmJYfcQSq3Kl8sjdUNj9KsmW4eLd/YNe1dnflIsZUf4ujrj8KsRS7UPrxOirZ0PU3xJ6rbM6ucClJImyrKFgk1lcwE8aGa27MC8iP0OXUDZS1IrNFxzqlra4TTOO/H72Kr7//DgmSU02wBp//+hl+n/67EbAguk+R/LQ0jt6LswUWGd+7gaitvCTN0c9LvjHkK+iMSsRj85o7ZBF/HkWCWsTQKzTuCV4IyRStBn2Qgk7ia6NRVOggrZEBwX64btgNWKFqFZ7hWf6laF4dMfwojIh9xh5LjHKfs1gWI0ROtI1IRiRRWkh+f4hWFDMTCiJtky1ZHnXjMvSlpFgnL2eWSDm91Sc0f0rvla2dXgP/Ou9+RMM58g0B/7x6OE49+wwG4oE3FqStnJISMxQWVec9qdS+oOMmfiKca5+8Bv8e+SyzmUKaDJpkflKs7wxvCPkIyidplGX0qxDm424kzrplkiSoRpeyAxGqtjr24tlZOgXIEZTgIhSxiFEkqIWAE8k8PFF1gqozEns/uzslKEtU2pKv9aEaWkQxsxDSVJwUFUgzmcMpPyqTFThgo7/huD2Od+MkTOLXuonY/dq9UOufw0N3BaWqk3nlKIQ7p7OesuRDebltGicPz4LSwnyZZBolwTANkhBK6itx1H4nomNpJxKqOMRZMNJTl6qXJrem3OooAn2qeqN/t5W8bDUK1nCs3q8IScdNiakQ5LxsMEXCETm6GtZSPbNTc3DHE3dhVmIW3h37Lmb7Z+k9bZ4XfbIWeA0XujG01I/K4WY1uTqzn5WrcQx3S3FWleDsPitqI3h1XiSoxYMiQbUQnvh5eianfas8aW1OQPXYu3+0Px689FFaIimcNPx4jJz5BU+rK6GuHlVDYalFGphul2yPS/a+DNuuvbWRVCaSwU2v34SH3nnAZnHTLtAFeJ3cFXN38tyVuRExNMqNHTv9d3mSJeb2hPxeA5gPdUnbx9phQOcVcdaxp2LFylUQSJa6gWYPHpl4WWgK+Rcmr32v3+Qhp/FmkXB/Vt1szKqdlYtXkAAtoOrsHJx31XnsliUaip1mF63WX4/Z4VpmLclwJBhabnoCpzcsbXqAuqpNyqnoaQ3A04pytaPLK5x3VRde/43kckdeKi4ktw3172Ahzavx9YpYNCgSVAshvZJYe4tMavxCkMBqDEYvQkhIK5MlOGfH07H30INMcGdkZmDrS7ZBHcmmQcOZhntFQ698hbBu13Vw90l3IVQXtSD2VZBP78N1/74JNRo0p2I5KI7XXEpLCkT7h+QiEvK6W7LQ9PTJlqzNiHyUZ4a1dHhxEqQpsXYZNuALoTQdwRnbn4HdN901f5lcdhWlwTUHL0seFM6rMJ3Tvrb0v/O+W1ETqEGMBJRhBkdN/w7fTR/N7pdeRi68gBsb0k8rXHpw9Z3LOy/g+MIlrlrwjtxeY8hSyp9117L/cwWWrzvfGPNKuYjFBd+qq67aZmq84WXQFsCtt73oIEVwD77dvVlKr61TIq1ISaKgAlQlynD+judgjw33MQWdk5mDzS/dErXBeob38u4sGpVFkwyj6TBWKOmHu065F+0DHa0LNH7ONzjk6iPwe2g2MgERkToouadqZq2xfLymox6XF+XE7WnVgaw9SewcbI8Vq/ogkglb3Ib5PKpLbktSFTj98LPQo3N3GS15UhIYVqFmzJ6O6lQtxk/4BclU0wlGcyPOsn4+7gOct9eFCMb1dYU8jrvkSHyeHWHjbWrKpI92kD7pFWDnS08NvSpaCLiyu62g/aYWlCvL3LBQc52Qb5P4BpdyEUsOvoEDBy5UjbeEIBrfCReMlpLOosbC5tM+0EABNWLJZVmTDG09Sj3pIilWJErxj53Ox24b/mW+BCXo2FSB3iXZCIb/5UpsP2hnOxdL1GHEuE9x2cNXYbL/N8RDdSSXFK0jn3UjS1NliKRLjOBEkt67e6KrSCaIlbqsiP12/Ss6RNpjtRUGwZ+mfSEybSiyy4utRJCbNGqWjqBDct/t/74DP1ePw/iff8KkOVNy5LagttJAdRLxQB22HLA5dl5hF2yz7rYuTUZ97KNHcPnblyHJelOzuzpRzlkXbA9PFvRf++oG84T5tRzsxLlkGiFf9jyaL9LcNzcnK8qjOy5iycAIamEUtaVksjjSXBh4129J2i3Jq5eKszsYx9LNxWPXSraQxjfaJcpx7nZnY5eN8gS15eVbG0EptouRJyhLkcShQfRetT3w8g2vw19PdpChogdjwTTuevkufPb9ZzaXSE8JwySVK8+5iqRW4r6oQwtLBCUFVNczqlnsqVB+/Mh7oOUVU1vv2GXBQZO09NSR/k++/Ryue/UazInMyqmruoheAvODwjA/IiDurjK7H5685BlEQuy+Em+MfB2XPn0xpkdnmfXkBrddvWiSpmpS+4rrrWQq+9FdW66lcGTX0P6M6hWzEJbiXCeav5amWTTjXcRihG+ttdZqEwS1MOkJLc2n0JK0pTiC/afyKY4949G4jqwoJlHCrlqPZCfccfK/0LW0VwNB7XDdTqgzgrLIjJfLG+MJNjWBBNW+vgJ/XWd/HLLz0e5CcurFiWAE7TeFkijMfi7pBuicGMaxzNzQeVco3PfcHfhtzi82V+iFsf91g/SZJKMyf2QSlbglEInbAwG2QY/6Krx8xfPsxnZryOvnoz/FKQ+diBmls5ENZhHW5+5zGfSyr2s1EBTjqL71ebEWI9emhW1rsZsWgZ5NvZzP3L6uAIsOViYN8BfkcV5oSZhlETZIvjDjNU1XKpwXVKEtrdSWprkwKPwu2oKwoPJL4fTz+bQMrB7K68OWzLOWDKbJkqTL+AJYJ7sWHj//ERdJs8RZ/NlZdvEu3gL1AQ12M7rqRQPXNmCtcouw/OiAUlxxwBUYutJWeULyoGpUMeS8aPLznFfEwqLKn6hP1bKb9gM+nfQJ7nr0PrCn1wgiXq/rYxNEfW6cKx7QJ+X50+qPLHOU13R5nj9UT+pyJlkIbSMk7e71XfDoOU+ifWVHZ9WxGt/68A1c9MqFmB6eZfOvbMKn5UPUpKF/EmLB9dSOQX1zrAWwMnGrT0/NJVu5sjagsM4a0DSQgyavtgTKa0tkv6XhBK8cLZHnZQlGUAvDzgtTQS1Nd2lX+oLyKXE3kWcwyykVT6oiRVLe7asoJKhLt70YBw7eXyEcKFM33XMrXvjhecSp/CWZKM4cdibC9kVlJsZ0BG1K2AVau/868Gmlg6bZUTBd0F2UXT+SB7tij/znUXw3aYwuY94uNe1rzyn89LqZ+OrnL0mQtSSgtD3dK7yA6155MYVcWXPQcL5C2Fwoi5aP2zxcfF3bewm4NF2GtcvXxp2n3mUvURtI6h+NexFn3n8BpoRrc5n30lbNeoX1IKKUX2Fem4fESeS6vCnzsgjfyiuv3KbGoBYmXaElabcoTQsi04YmAO/sbg3yoBuMzegNNj8u2/YS7L/+X11XTP7aMlg6qKVUUlTOCHx6oVVozkryttJrMoLe9JC1ZccCt5dfeiHGTv8KsyNx/FYyDTODc5ClZSGS8ywh9+6Y7Ag7MoV1p/Tfcw6iHzcz3IX2Tqne7LLGSrk8twCOc0Um2mcZciQVTkexSu1K+NcFd6NDiXtSiVACB1+6Dz7OjGJYZzm5fHBPhf+DsHrw3CLE4rD0i5g/Ap06dVqoBeukzC1xC4Pm4s/LLSyaS6Opawk0RqK37KWvWhJX39oP0yIKZ0oQyZagIlWCzftuhoG9BuUVQ7pGmfanAggkQu4jlyImnZeTDnpbwYiNAQJpDL93ON786i18MuJDdO/QBR3adbIgg4cOwYoD+qLDKt3x8djPkAqpK6ZyOkvIrCGWSYQpstCEAx2p26aLeWE8p0y67pUL4/2soMqbYulQfiQckc78nKWnsPqfS1PIsMs4PTQDVb4qrNt/ffOjJ2p8CXz448fWVdY7i8qh5nF5VfRHHTOj/5aTItouihM1WwgRlCkQlb8yGcFqPQfaao363PVeG++LzTbY3C37IbYQ0QimKXNjWs1UzKqfwfTcd5b9SFKfxFwZJEhO9738BN6n0tb76lGVjGL4QZdgo0HbuvEbtRbTFwnc9PJNuP+T+1EbrGsggjyYY5GGhWTKPC/lt4OmYLkaIxdOBM6tx5+Nv4fYPBTCRWXJGFnEZsRFi1Ov0xw+6DCctfs5zjJkwnXlddjx9B0xi+RV76+3Ge3qBirun4EMMEthHm3wR1C0oJY8igTVQki5pVNlvlLssdrOOHu/c2jo0DLSI31ujZg8+dUwSwQkm5i9N3bDPTchno0jGNAidj6M++0n/DZzMoNr2qd+aXKOxkz0omsW9bQ24v4Er5empRbA4G5r49aT7kQkVuHSF1ExL+lIGrucsRt+LvnJLBT7ACj7Nxn7pJWzoDz99Dp8LQIjeaEV39JoYfTCYI4Uyae5fOil6fbxdthxhZ1xwcEXWxg9xfvoh/dwzAMnIRYi0Sos2cWtAcV9y4BHsy2DF9K2lvlFg+KY1pJHkaAWAqqosnQJTt72OPx94yPdYmhSAJkYOukpA3liz1P3wMzIDBsc16eukyQcWRF6X8yUjWSkaFJADegaqACuMbiVtZbr6mji5eoVg3DGQWehKtsZ/br0dV1FJvDz9J9x5TOX47OJHyIWTEOr2orYFM8jKJdmfrtAMFJzYZVWyxNxZVN4UiXzkiVxOjJuX90OH179CRBnRfFPT/Ue+fJRXPX0VagN1LGaaEXl4nmXc+TQsou3PKTyyLxZRheMogW15CEdKaIFkAhLYVK+BF757CUkIrViDr0dbApmiiZIhhl4enQmpkWnY054jnuVg4qpcSINp6uro4FcKazmCxWOB+VVUgm6MzXZBL6oHYUD7zgMx9x1LL7/7XtnpZGk+rbvi9uG3Y7jdzoOkVTEunoawPdSUnYWRmEXDZzlpG/shTT4LXJinvQ6kJau9EcCeP+zd530KSAtwr+uvR/ap6tYlUFapS7fmkeVzqRt4Ty9jye/lrglW9YiFieKBLUQUGWJWEbP/AEbnbUpNjh/CIactyE2PXtjHHj2fiSqvGpoFQKNMckSsvFmPe6T9hDSSRkE5kXnPkIpX11BNEhFpjI7ssnY/B8NhWuNqCmpX/HBz+9Yd8kjRV8qgC3774Ah3QejPBliNgqJbmnAXT0lQqZT11i2k5E0C1wdrMMFz1yIH38h0SogydZPMhvYa2Xr0tqQGMugn8wws3BaaOUsLOxpJS2jlrgiljyKn51qIYw6qC+u2+FHXTDOLlXcxpm0cFpltgL7brefe1JH4rjnzXt4vp7Wg5TLngHa1mmkS8/2TRu5x9Oe09iNFl/jSbumC5dFUOepUF+M/QrfTvgGK3ZfER0r3dO9qop22GHIDmgXLsenYz/NkaOdWnjMI17z3hqdU+lcft2xO7KldLmjfVdqe7ZoVqMIdtQ7H2HPHfZxXT0G2m7D7TBpymR8O22M8VGu1swJ3nZRIc97JHRrmyJaG4oE1WJQ6SjN+mV9zrpxj/Zl7wTRPtMR+22bIyhi9OjvkMymUJOspfgrrKwiS4aQouZgWiIfpZU7zf+yOtyXfqXk6gaSuNLcBnxI+JP4YdZPeO/9d7DRWhugfWUHXpfqTEtqUP/VUV9bh1ETfkAmoIEqwV3N5d5dY37O0LDjoEONC/WK9sQ6nddHOapQUz+HRKpPuLt6cAFdOcz602HOGUF5QfizT1Gxu7z9JjugPNzOunmBZBBD1h6KUT98i99mTzSituJbvefMxUUJ5of2kzWBZslr9Yc1OqyGQZWroWdVX0ydPZU2n+a9KeMiyyKJLWkUB8lbDO9u7v7b9+5y/uF0CCsl++HZq56FL5ZXpB9rf8KRVx6FmL8GdaGYvRwr60F9PamvGyanEwExMWehCbSgeBk9ydJokshK11QMnTOLhV1AEVjXYCds3HVDXHTkVQ1P9/Rk7N4PH8IdL92COLtTWgbXFJH/c1SxQDTt0Kj0FQngvjMewqD262N6zQx8NftTnHX7GZjDsslcUzaNlpQH7pvPPC6nsJpNPzi6Ae4/7wE3RUNg+FhJHTZh17mG1qkjB6aUDfIS9kkHF+7PgsmqVpS8Xr6uTJdhpa4r4Pojb0THQDekw1k8+Pm/cMOzN6M+YCFZB2odPXldRHkoYoEo3hIWAtI15/iffyIVczwgZZnVIME3cHfFihXw3yvewHtXv4MNuq9HRdDHAbTqgVM6PaOTVaJoFoXezpGYuKOB5SSdiMzsktx5d0w+8qfxW3oa/jv+Q/w0ZZzN/bF8JXw4dMMDsf/g/WzgXMyloXk72ULwMo2gL6B0TFVhYKeV4YsDnSIdsFX37XHO7ufal3wdfeu/LEVlhM7K2TyUE3UBR9Z/ie1O3RrTqqfaoL+SCbKeOld1ZZdWNSQy0Ht9KkPL878gZDOujrUaZ49MV9x/+AN44MTH0dHfzTIXoCW8ccfe6JwkLakc6jJbPS66PBSxYBQJaiEh8Wwsom6h/snBKXj92/8AUWqZnrBJN6Vb6rrEIrhx2C2459C7cetfb0C/uu7omC5BSK+B6O6cpfDTWtJESH1ZJcULZMyP522EXRaEPl6gb+fRkmCzJemXpl+SSj49NAvD7jgOY6d+767L+H52+U7a6yR0jXVFabKE8TXTytlQfwQizVgggWRQXR56qGy0qDYdsClWCfa0NaqsbqjI8CUZpGWEGA/GMbV0Gp4Z9YQWxbK0NV/s1qNvRkkibDmWJTYfrlsoqJ4LnT5w0b9rf6zca1X3grcVwkLi9n8/jplBkSPzwLpWFv54DRbxR1Ds4rUYHpd7miIFFFyXTnZOu1QFOiQ7Ypehu+OovQ7nXThERWZ41bCiOwlHVu/RJSbg6ruvp06kzDpxou8UUd3A78Z945Y68XtdRiaQSSEdSGO2P46kPiSghKk8skT0VZVu9d1wz6n/wkodVnLXJFEmSSq3Pn0jnvvkecwOV6Per+/uLRiKXigYyn6E3LTtytvg75sMw+q913DlCSVw5IX7Y0T2B9TyWuqGmTWpk5pWYIEKU2oMnVE3qyJVis8u/4j9O1l8BKvu98gEHHr5YRhfO4G1bSHpvK2Heac9L3jzntRlW7vTmrj71DtRWu2+iCzirc/W48I7zseb095FdbiGns7aUh3IgtKviCWDIkG1GB5BCRJwR1A2MmE6IwuIR+ySRZI+bN53Q1TGO+MfJ1+iV+t4PqesCivrw+LIccfWOXJKI4LSe2nfjvuaQRKmRIK+7KvJBolQDDf++y6M/G2EkZSsIo8DgyTLPuiNW46+FSt3X7FhyRctQvfN+C9x3XPXYOSsbxEPxHkdWRDumk2tAu+osa/gR8gfQofa9nj3infcmFcwiSP+cSBGYDTqaV25l4M9JfbIVX5zQ1fXOuFa3E4rPezfbU+ce9RF8nQBGP2ul27Hvz6+i2nrIwmCN9bl/jufuXPa2CeXHn1lNSkFfcevf7v+uPeEu9HN1yOfRVb32TedgZdnvo5EQJ8NYyzmz8YHmS97AtnM9YpYPCg+xfuTMNHP3ZG1kfDqy7a/zJ6EH2t+wgOv/x+mp39HKpqkEpaiPFzhtEcKYU6Rco779sSK267tuqFrVU90qeqBLpU90LWyO/d7ontZX+y+8c546NUHSTTqSjkCs24Qf7WZOrz8wcsYsPIAdCptj7DeuWF6Xaq6Y4/N9sRXI0bg18Qkdg3lzX/uby7MrYJKP6DRIOvOHbHNERZIb/k88d6zmJKdakvAGD1ZmkrVS7l5hXYh1GEVUhg75wfEp9djyOobOf5nYusNHIwp30/G1PQ01KT0XXMvniM/7yqFbm7wKurSsfsZoqUZzoQxsNsgPHbGY2jv79AQsT5RgzPvPA3vTH8PsaCupa6dTrmf5qQVsWRRtKAWGoUq4O7GeR9VpZN2jVnoSHfdMJVCg+OrdlkNnUNdsNs2O2PwamsjROLQQHCGCh+kmhrZ6JatNMQgSqCwdbzjEmDjszeyxd5kbUmJvGC6upSwLFmCtamEN5x+M6K1JEWz4oBPx/0Pxz10DKqDcXtSqPDU3lzM+UHWgwbXsugQr8JHwz/QUBPS4TQOuGh/jE6PZneSFp2IwEUoQPOKrfLaEzFeWhaK6K0d037ln6+gw5zOrlDKFi87ru4H7H3lX1ETqraaElnqSupO6qgpGl+RoZgvWbe9anrjmuOuRt/uvdEx3NGdVnTy3fE3HIOPpn6CunA9wysFLxVlQleZ+zpFLF4UCepPwoluIXTkiEbqI93XTHC5tNYPZz+lhFZNhMRlBKWXjc25p0VacXPXHXfDeqsMJqmFGpRUJGT6QkV65N+P4J3f30Z1qNaRDON5ebCr81hTEPSEcEjnwfjnUbeg1FducfVS8U3PX4PnP3zO3hGM0QpLamC7IYV5gV0xKnhZKoTNemyIm4fdYV28dCSB/S/aF2NSP9Kic4P9SqmxUDWmizxExrJsmDX+0wqYPtZTZbwCT537BPpG+ruoChbIYtPzNsHUyDSmb6VkPF3FapnbxvCuqPxoobsgu9G9UI6rD/4X1uy7vndpK3Y9LbNzbz0b7836ELWBWsZRN07nlIqXNgMqo0UsURQJ6k9CIttYbKUu3n3d3eM1jiS6krXgPsmdiyci0TluncUlZXXTFbypCILTI6ZDP0tJ53waKNcAuQtnupqD2WJMT7lolyjFrSfciLW6beysKIULZvDdr19hdngGTrvpHMzQp60KE5gH1CXsUVeJpy54GJ1LV7b0YiW12O+SPfFT7FfLT/OpzIugBEc3rra4Z3XhQ9/Kvtgpui1OPPpUl2cSypu/vYLT7zgXdb56rbzcBIVXVsk9OP+KpB87lQ3EJWc/zOzQBJW3fTAwhZOvOxnvzf4A9YG4xROpuW9wNU6zSFBLHrqPFLGI4ShKKwroiVYCKX+c1oW28hN5MIzJvhSJtEVS0qspNnOavlISvcOW8GcKXIoEkLatXrGJMxGFcypTqEjuSGeViznhBE4kCaX1Bq53MuXHwO5rY2jnrXDZIZcb6TVG4/Q8OLJlZzSb/9bdm/97GxPqpzP/OqvxJDempG1L1Fmh3bwukbfqgY7lnDJ7AkaMe4NkqlUgGJB8sXWPHXDGHqci4gsjTbKwBwQ5536FYG5ENITK16/HqriExIo0yUkBmd8xY1/CmXf83Syn+twDB5glS/YzMmqcYhFLHkWC+pNwZFDo3H/d4NlxMxciN6g7p22A3QcjMDFUrguh/yInKWihJeOph1MV/VfqLo70xxx/Loq7rucUWhQVI0HOCMzE9a9ch1QJ+2RqcQVxySCUCpvF4i7mRnf8mhRpc5k0fUFdRaNVdjmzCKGCBFfWcClFTfpJErSubOa7ung5YmgJRC+iKF3eXZtx6erYFf2hdAreHPG2W9ZGSPmw33r748bDbkIkU2rWp/LlYorD9DqyVk1Q1lhA5ivgC2CF0n646fCbZe65cis9Evy5d12Ktyd+zm5djOVgTWrciW3grFilYTnKOaugIpYwigS1CCDl8JyQP5ZQ6/5N5abES52EfFjRS/M/CyFl59Yc971fAYfl4KVY6BiLAdUV0kD2gx88iF1O2xlf/PwJ6pM1Loie2ytdKad5yMKTBjs4tdfQtSOqzvHOOHqno9GxqpOLrzCMTwOPYVk2yxhdQ3oLhrN/crOcLIqLJ4vst0AdLnvsanz+0yeYXvO7Atv7elv02xzn7Hwmtu+2DbuwFU2uxVyTmPQTgXWKd8IOvXdAj0CvBmmPpetxHruKP0XjmBNQKVnG3Iqm2p9n3osctcRRJKhFDIm2nNS8qXMqoCqn09M674ndPKAzUlqnuI3h+Td3rhBudrqWaknj15JfcPq9J2DS7LHU9FyA3JdS7FqWc/7PqhunJ3Y8wwvIBdntufLvV+Evm+3lCiIwqs+XoGUo0nSdWllSzh5y9bAgKAyNS2exyPFY+dBL0iK/SWWTcdyjx+C9MS/qhMGX9OGA9ffDtYf8E9sO2sbCK6ZKYjXKQ01c7V3SBzcfczNO2OukfAOwWOffeg5e/f0/SIQ1EdaV3wUQuG+WbRGtAWqd5R4292gRu6UJXd1TVkE2gcZ2UvwltLaRn1oq/mFAf9pnH4AIpmlvZLXyXohbWXwai9G+1pcKoktFVwzqv6rrHkmfmXimZBb+9cT1JBi9BK0uqshJzKcpAH8MyrvITvamX1MwuDczUI9rX7oT3/70jQuUI5tAIIC1B6zJ7p6edgaQSqlbyhww74O6rY7nzn8Oa/VYq6Ey4sl6nH3rKXhn9juoJ7FqpQK9o7ig7yIWsfQQ6Ny580XNKVjR/TnnDdDaY3cezw9SkKbxm3NemoUoJCNTbjkqeEhEwQORk/sajbtGWSqKPdbfCR3KuhvRtKuswhcjR2BKajoSmsck7ZfVpJOMr2tGslHsuMpO2G6tbd1yMrxYsiSBc+47B1/NGmNv+6c18m/Eohzk4Y4K8y2ffG4L/+ediMkxqI401yvmT+N/n7+HlTqviD5d+tBXJ4ABfVfFav0H4LXPX0OGUcRd/UtXwN3D7kS7VJXz0BO50GSceMOp+GD6CMwJ1Wo4K1dGl+fCepaf+Tfj7MOrRbfEXPHWQTRXMX/GeWl6kJJ7zkNzZLMgNCUyRzrOeT+Bh9Yt0yCxciHnGQmJYApzGj6UCVREqnDXuXdh3c6DEE5pMFjjP9JrjctoUJ3drXQY7RMdbc0pAze7n7g7Xh/7HpU9aU8npey6WkUqhE7xMK2yILt+AbO+QrTCAubchNWgzf9yc7WYeyPUplD12XpbtPy0TftT+DUyERc9eiFGjvvCFYqZDcQCWL/TUKxdshai6SjW6rImHrngYXQJdLZ8ClOm/Yr9Tt0VH1d/Tmus2nGWtY8CuGurugoh36auiCUP36BBg5o0zfKHlpr4IpVC4pkXtDxsKqX30tjtKVgq1iMWwUvLc/PLg84rfCNSa9hlevTXlB7t2ngOd6X4urKIw008zCDELpGMiVXbr4LHT3mCyh21OHIfj/kvTnvgbEyNVlPrmacMyUlPtZhSh2RnPHXq0+hR6ZYioUmFDc4bjDmROnesspAM22Xa4+YTh6Mi5sPvZTHEGX/45VfQsslgFq0WdQMdBbJuMjY0beNOIlJ7eqn9eUChWZkI+tjdjHfClftcgw1WG+rGlVh1Wlzu+NuPxQ3n3YDu6JnLF/9IbCddexLer34PMZKpXtVRNRqpqy30R6d9RZkfdH4+WSxiMcA3ePDgBbXLMo9FPQYhUtKsaG0LScUjI6E5gvLONYWXhpdmA+htVhS3IihNU9CoioVgHE3oVIp+PalSXkQJqQzKfSVYr9vquPJvN6I8y24Qi//jhB9x2iNn4efAOGY0TcNJ1xS9gdZTZ7x5wes2f0r4YcIYHPLIYajJEZSCRtkNfOGM59HF18XSy2XOCCRdEsP+Nx+EX6b/bC8G60vIHpFaPWhvgQPTzD3LoCRDmTD22GB3nLH92QjVhxxJqaCanqV9JcxtMpPE8CcuxWuT3kRdttYWV3CErbZwdecnaftlac6j7otYuvBtscUWas4iFgMaWTw5eIrgEVQhFkRQTSH60U/LtWhY2gbClQTTESGFg9RY7ps1l0kjTatIZBaiFVKejeDGfW5H3w4rOKWm8p71xJn4rPpTXpBdNsZTUqKPzumuePzoRxmOzBPI4Krbz8X7vi9QE0ooG5aH0nQ5Hj30YVQEci9De1kWWXF/Rvo33HL7yRjvn47x4TQCkbBZTRnmTQHcKgjNwasTnleemJYj5BDW7LgWDlr7QKzTd518MEHX5nUvevgCfFEzErXROqTUXTXCbr6Oi2idcLfEIhYLRDhNnYfCfQ8ioubcvMCzbodpiUjUnFJARVEXKpWixUWryyxEDUzlnEaM4vz/w6RRjJNPXxaWHTGMdb3ovImmjhm0TSHF7pod21XpeMEU/c/+19kYMflzfD3hczKIW3nAs2g6+LrhwhPuwB1n3I/d+m2L7jVZRJOamODSEdwYWqFPHi47roz6rFbCn8aXM7/CtOQ0J8VyAok2yd+Nz/4TI2MjaeXVkJxUYj0PzBWqiDYDr1mLaKtg98QGxAmNq3ik5fMH7MVbfZxAb+aLpGQVmWWkfX8Wj79+PxlIZGNREEmXIprWLHHNg9InyP0oT0ZxxC5/pwEjcuMpxqsN6JNaIhH9ZNmQ8PwJjI6OxTmvnI2rXjsHdz16Omliput2KX1JWrYdwjU9cPL2Z+KKAy5Ar/p2aF9fiYpEhVl1AeZZHy8Qd6srp63n9E8/lSMQ0IC7Hx2DHbD6iqvxJCEiFGSQhZjHsjmI0moM0l8fmmDKln6RpNoWAv369SuuB9WGIfLxBbKgQWGvdYifbIDcSClgW6MSEpV4TLO+I4EgacWPinQIu22yG3zpqMXbat0t8dPYcZhY/4upcFW2BIdvegS2GbCrTY4U3v/+PTz308uo98eNs2zuE0/ZkDy7mOpmxrj/c6Iaz331Bnp18yE25Wd0VFeSpGJgxMpoH+y64T7Yb+j+qP+lHuOrf7IndUzB0tJEA2cVinDpSFxa+TxEZgxlQlip04q47bCb0CGTn9VuW0YRGW266kbITJiAWKoGUxIkYZY5TavSEbgXoUhVrR1FgmrDsC4gWUfqpnfqjt3qOBw59Ahsv9oW+PSrd1EfTCIbIGmJo+yfG7SXFaEjWSa7brY7QvFSp7P0XHf1NfDdd58gXRfDmbucjs1W2d5NL+D5GaW/47qXr8PvqemM6+aLm6pzR/tKV6lnSAYxRon5k/j0248x4vvPMGL8t9h0rS3MMmuAm4yEdQatA98c4LspY9l1S5KGFIbOlybVUEgZp4TEtFJ1CgeutQ8O2eoE7LTGzqjMuM9VufIBrz5+A1ZaYy2mqYHzAFYbsCEGr7wiPv3oTVQH9QCB15Np5nJt0FERrRdFgmrDsHEtdnn8tChW6746hm0xDJ38ndGppBvWXmUQxn4zCok4LR12dTSfSdYU+cm6f9J/fQZrzoQ5GLryxtRZqir/IqEIxnzyNXbYeGdsNHBbWk4MKy2mgp99/5kYE/veSNF6lby+jVVp11zuIEeCCqSvcM0IpmjFzMBn//sMHXt0wrQ5k9CtYwfmIbfeFQlm9f5r4JN3n0EiGGMcDfm7tPT4X+84r1vRC1cfdyNW7r452gU7oyRQ4rp1Kkc2iXufvwljZnyKNVcfihI/iUvpspylJT58+r/nMYVGoq17lcuihyaHRbQyFAmqDcNZQxpyCaNXSS9sNWjThkXuOka6Y2i/tbHF2oMx+dffUDM7Zu/jpdnHs64gyUPLmmB2BkNX2oiKXOa0lf21lXsMwqCVaNXIcpIJw823P4/CK6NeQbVfHxFQUE0VaExQHmRH2dpVjKdpBUpEw9Qzw3Pwxpg3MPKHtzFl1KdYf4MtGDbsLCAmsO4q/bHxeuvifyO/QzQRRjithf2i6BAP46/r74ZeHTZj2Vg+pmsEpHgkzmsevgb/nfU2MhU+bLvu7ohmyl2G5MJ1ePHDZzAlpM6juo9CPrf5vSJaI4rTDJYB+DNBlKYiOHjwHhjcY0P06zKIngWqR52eMG0iznviPEzEBATIHGmfvsCSRedYO1x7wDXoXTXAKbyUX8iRhgjqm4nf4aLnL8Xs0DSSGuPxJ4LSVlMFCgVIUWwBvhyL6Jz29aRPi/LZYHcmwy6bH2F/Ke49+f9QWds+F1GBU+yWBpHNpPDoUw8zeAAloTD23G0vmkBBR0zE71MmYmbN13h59Jt4a/JoZjOOwcEOOO/IfwFxN7crkYzjlpeuwxtT3kY8mCV5u1dytNaWB6+4RbROFC2oZQA+WkYZXxyjfxmDWbNmYKO1NiIJkJVEMtJFbquildhw0Eb4+tMvkApWI24v+IpMMths3aHoHO3twguKo1fhuP1qwle47IXLMCM8g8qtl3HFJPqvbQ4kHeMWhi8869GALCp3MkdqJImECCSUQM9gD6zcgeSoBCy/JDN26bQE8pqD1sYaA9bEwJVXM3+z5kg0MzNT8Y9H/4HXfngVo+t+QV0gaWWpJ6n17dAL3bv2xqzITFzyfxdhxMwvUR/KfVyCYby1yfUgQZcsonWjSFDLAIwUNEmTnDSldgZSiKEuGcPvsyahS8dOVET3Fm15pAw7bbwTQuy6dY/0wirtBqB9tBwvvfNvdOvSE9W/16Fzx/w7bKmSBF787nl8Ov1TzTwgSXiUo2vqqt7W+++cO3Z7hbDYnvXC0woxbsxP6N2tJyZO/wU9O7Nrpjd+jYmI/OUcwlmMmfUNzr7nPPwSmogZoTiJzo13ach+ji+JL0Z9iTc++A+e/OQ5/OKfhFigjsVxTwSVHLnUrutcvotaROtEsYvXxiH9oo5K1WycJ8juUFoTIG1wOYMdV9oBw7Y/Df4EFV+BPStJIBHVYCYufuRcjJs+GRftcRlW7726ZjrauRtevxKvTfwvqjMJBIJBcouZOBZ1UUDZ0fds9JmtknQWQ0o6ozLeB8cOG87rN7Fv/BnMTE/BmXefi199k5BM17OrxvwwO34SmhyCrAWWPcwuYpJlTzGOLERZS1q73X5NGMneAVyEZSpi0aJIUG0csh38thqkW+oWAb+91qFOjB7Pl9Os+usG+9AdAZ/6VV5rS0+1r204jUeeuxP7734UfHEqOv2ygQzOePhEfFH/DbuDmlnkvei7aKHLiyP0LmGYFlowE+Vx1PFoAZeoa5hm3y9FK0ldTa3hrjlXPk0qtZzlXphmJHuFRk/sLF3Rk4hIZzQWVpAoUSSo1o3ltIvXWEgXBroLtya4MR1nHSh39lzPrAUqLbeyMsZM+gGffTcCq63YD5XlsjT0uD3s9FJMkPajf88BiARzXzthV/Gj39/FK6NeRb0/QT8SAZNtYtMsMthcLro4raYYiTEeiDXj4khyK+LxJocqR/qaskjIeEdkQ2elz9KqYjj5y1kNuUCK2IAmfFVEK8NyakHJ7lCxZRU41fYqQcduvMI9knZnvZ6RF7b1VJmVgkop68H2c1mzd/3obCiYnoF0AB1TJajMhNkN8mGdFTfBsN2PY9cvN97jimnDP99NGInzX7wQcyLsRqnjKIKylKTwi6P0lnP+8hSoFnD+ebgv+7r2cRl23/7T00G9euNmbaoNVWbZfGxlkZbFYIBm2MidL6K1YnHdFFshXFHN4pArkFf3TTqJsA+BDMWbJ5yCqPvEmDklEFoTOQkqgvLrKa1N3hQ5KZ8kJrcWVBapQApTIzX4MToTEypn4e0p/8G42lFaJ8UsJntqp7H0UAKPvPMw6u0jnKqPIEkgLDvF0m9OyRcNXFfMc7mSNXLqzvlkGbEtbJ4Vs24GoBGXnAtnR7S08uSTozuRaxNXROvGcmRBOdGXumrANJwJISQy0rHEV7JtXZncsf5T8C0ED21SopLJ/W9zoFKrK0QNN+dPp1GKMhy2yxGojLdnqVQvCYyZOhYvf/6afcY8mNHHEpxi6zt8IgL7JFNbrYMi2hyWqy6e6Cajl07TYayaXgXn/f0M1kACF915sY19aPH/WKAe1cF6pLNxhs7NPPaHkch6ax+JydoavCb2tp6dQgspHUSE9aFvsujdt7g/Y2Rkq4IzuPhMRpOG4VX05UZYimgVWO4IijYBSlNRPHbUQ2iXrTD/dCSOJC0DPRl65pWnMWrqaIyfOh4Zf8omZMczGcwOzaZVkaTitlWCkvXjurI6Vl24Tq1oSl1ZN36TYpgMGSkoKysnGXkBcaGLKGJJocUE5Zn1c4un59M4GRtSpZdUQJ0Cyj27SkrFhQ9r8Xyb/ZeLz7A2rsCfW1zfKY9StWGPXFpKQY+GXazcSBEtH71Xpus4uAipQBoJnyb1WA641TiKHyWpCB486l508nV2pkFhNLr6TB1q4jVI+BN2LY1nnHfnhZgZnoE4LSwtrWtXtoxxT/nx0iBkpemarQvKb5B51RMwLQysMRzVtkqgStAK4SqLQjpyKqRiV7y2SM5FtGW0iKDyASTWTYO7+7ANPUtxKfQKJaoxosm6hfoDlHgtrJ+y58MBbNx7HfSIdGVYrdno4kW4v9VG26BrRS/40yQTDf54OmGXZVxF16JG5uFyM/63n/DeyLds7k6G6Wu8CJk0xtVNwBdTv0Y2k7D8yLmXV/3oEKvC0dsfiqEDNkIYeryuhAmveLqu9DbnrQHkD35+D9e+dA1ifq3FzXR0LuBHPKuuoAvoCFSRWxtB5YuiPLrnlx68QsvfIX/Ow9w+RRSxuLFQXTwTbJoKhREktppfYiSjIxKSHvkaHZB0otkIesY7IhIvxbknnodgyi2xWFlSiUggrOWvCaWYU3ERmKfbheTk+dkF3a5B58ww4k7O3/LH/XgqhupUjYvbkGYKH47+GK+9/gLioXr420cQzpai0l+Cfxx1CcKJUkZkOKVlCeWRjWQxrX4SLrj9fBJhArOiNZgWruYZdZGcwitKuoGgmiRQRBFFLBQWgqBkrXgElY9ithIJytST22A6hJ7BPlhvhbVtvCbIrtyhO/0NAXarjLk01OFFl0Z728JcUL+zAVoiAS0xJuuKfiQudU8ELW1rWy3irzQL0/PS8vxEXoVcofPqWTLtr3/5Ev8b/SEtO327LYORX32DHXbYHaXBiBlIsv4GD1ofJencBEalo0tHyKq07j744WNc/8It7PpNtfzKT0afZ4zlL1pEEUX8EbSQoPLWgbpyhTBOUDeOYfShxo7JDrj1yNvQLlzlukiCdwUvkdyUGoMlIOfGQDRQ/dPE0XjstacwJzmbxJEwTlCXxDkSlRggk8U6K62Dv+5wAImKjCPysoC8gM6LCJVVpe1Bx8qTCKrwnOUpi+c/fQYPjHgEdeF6W8wtyHR7h3thvzX3wTbrbeviurFkhxAwcc4knPrQ6ZgenIa0zR1qrhtcRBFF/BG0iKDMPjKzQOMr7M7QghEPyHKyMSY6sUMPX3dcsOe56N+pf56cPCg6CSRLAvr42//Z4LWWpH1t5OsYO/1HpczTTFeDuGSBpAa3GTZoCu86kNoLGKkwbFqkqNcZSIyWB/qadefDil1XwWarb4ZyqPsm1gpZF6x7RQ/07b6Cy4ucxs+VT48wua0L1eD8p87F6Omj2dNLIkMLrSpTgWO2PBirdVgXvTqwbIU1xv0R40fi8jeHY0Zgms2jUkGdlVkYsIgiilhYLJCgTJel5FkttC+CicMfoALqA5CpUnSPd8WlRw8nkUQQYlepMlzp9NJ4gTsBvS6RIRnV48p/XYXZqMNvcybbomF6Tyyhd6z8c5s7noIrGfk3zqSeMpG0ctexMLkAIrhgJgR9YjvMMPpmnAbiuyY7oSpQCl+pj+SYwQWHnYEO/p5gBlxc7wLsiT73zRO46717mOeY5chP5oqkgujo74je/t647LAr6Mt4IjcXAEfdeqh9mrvOrwH5fDmKKKKIP44WWVAiA/WLpPx+0o2mCFTEq7D3kL2x10Z7IRBnX8dT1hxSZXGccNVxiIXYXUolEA/U0jqJo55dKW8sKQ+RUx46u8BMzReO0PTSg74CsnK7VfCPAy5BuT+KZ99/Co9+8TSiqTA27DEER+51NEr9bj6UxtdSgQSuf/EGvDPuPRKnFjpzedHYvfYr06XYpteWGNJvIwweOIQFJTuRq2qDM3HpYxfhy9nfIO53c9EbVUgRRRSx0FioQXIRVTgZxOrtVsWZfzkXnUNd3ZiMTBh1k0RS3M8GM7jrrTvwwtiXaSWlGE9LY8ipi6iAtH4yhaS06AnKZwvyp1Ga9GG/Vf+Cv211NBAjcUUz2OPWvVAXSSBK8uoWbIfyTEdbsFGLvsX9cfwYn4QEfyqWRzFm3zH/fs2yTvjQO90Nt518J0L1uS+iMPCMzGScdPvxmFwy06zDoiVVRBF/DtLBFiGYCaIsVYYNew7BlX+/1pGTtFYp0Mn6+PDbj/Dqdy9h/5sPwHOjXyQfxOyLG/qKbYxarJdFMuyXNSanxYNsOmsLofm1zGQq3x2TDejP0opLJ5i/OMYnf8O36dEYlfoWoxKj8EPsJ8u3Pa2U8362T8sonUIykMbPod9w6/O3IxNgWVQHTL8DuuOWE+6mhRktklMRRSwCGEFJmTTO5OYzOR+dajjiuW7xSmyI1XD2LucgUE+l9zgmmMVPVOwT7j4GN3xwPW559zZMC09DXSBO40oWk5wITLO5FWnBtpFC6MrNuaZoLoymNnRPdMAKdT3RN9UH7bIiU50hWGJZc+oEppnDOLt0mjFe79d7eCSf3HiYzovIzOX2lS+b4+T3M14ab0x4C2f/35m6oLMgiUpfFXYeuA2tM833ytdhS8q9IHjlc/+t6ZYrNMhprhYWBRrXaRGtDezibUnVo7hrXIg7OXvBjtVkepm0J3rh7N1PwYDOq1FDpaCKCdSn6/HP5/6Jz6d+gtpgPRLszs3dzpY6/8uEsedw5tsYjZXXS4Lc1ggaCiv0Usa1nmI0HUBJpgS9K/tiUO/VbQb77pvuivbRdkyD19M4kZ7YKeESYNebdyWB1lo59Bkmso4RqSMl/TdV4L6L4l3TPSWUH30ZN0trsDxZiuM2OgY7rr6LI22eGjHuI1z6+pWYHZ6jWHSKp5Tk/izcE01BzeDS9+Cu5diy8fW8vcIcKKRuG9be/Llcul8mm2KXVqG914RczML4SxKWAyMnQTc9l3OVVQ9EKrOl2HbQtghltBCf/Fk7c2VW/iwR43497muMrxvPm1LClgZWaq4+XZgiWgeMoDReoukCehSvMSMba8lmEPFF0C7WGbcfdTva+6vceBONJ9ODIHDGrWdiVPgbdomS5tUY8vF8JSnzbngnfG7fg43LN4N8MB9C7L61z1RiSN+1ccBO+6Mq24X8U07CsdN5KJKcJDCaI6hgrXk5YvojcDkRGfZi1+7/jnsQIOcZWDd/vWE/zCifTu5LMqRsxz9/55cKKbfuyuqsZhFR15vkrEmrWn3BndREL3e1plcsrGfVsd02rP2DzKtmxCtGFrXhasT86pg72tKDDcX9cyX449B1lTeXO7WbHkToF7SJtIdtegD2Xu0A94l2FUptPa/M8lxdtg7fzPwCw5+4BjPDNSxf2k2ZYWRn6Tu6KmLpwrf5FltlJZhqnAAFQN0fNXuI+z1oO52724VYtdvKjpwkGbo507T4bOInuOrf12BWcDZSumM1+2RubtpqDorZlKCsW8it7uKa/OigkAHeJbWIGrBm+Wo4f98LUBHKTQrVaQX1gntCqmMvK0ZQu9Diq+OBFK8wwsJDSlOZLMFZm52NoYM2bSDxf711C14Z86pdRySl9wObW3K25WD83Pwz7ctqUJv1C/XF+X85F73adWf6OaWytmBAaxfn1TxyJy1fRG6TCSRx7QvD8eGEj6zrm2A6IrE/U09/FqImR5V5WG6Y97I0rditjsKOA3eDDXQq0LyyKn/vXCSLf754HV799XWzovT6gFtSWDfoIkG1BhQQlF7sFUE5JuoUr8Atx96Ibr7+DcotOX7i3afw7qg38Tum0AqJIZlKIq2vacyl6IrkscL8IXlqSlCezhRCqYVTZdi55044ZMe/Ur5KEPXnXkPxhFKuhFIaSuHNb9/Dc/99AduuvBV222wvR2IeQYXqGFRC73WY/iCovKWpMAbGVsC1p9ziPi5J2a711+Dom47C7yXTKPzuI5l/hqCUU31wM5VO0kqMoktdRxyz8/FYo/+6KPWVukBquvnpVZM6boBXd4K2vAklmedrHxiOEbVf4rfALIRCAeqvKnDpQHXn7MfGcNN7aUn72+HOU29CeSIKP8nbPrXVJLTN8te7oHo9SsLEssYwB8ffdDwmV0xFvS9OL09m/1g7FbFo0SxBqWm277Qlzt7jHDYkG1pyGcpiRmA6Ln3mCnz3+ygk9GVaNnCI0qwhHt3dGmPhCMqD7TMpbZuKSJ/Svti8z9Y4ePO/OWVU8grE60uh3vv6XSRDcTz6n0eYvzhqQvo0EbDvqnvikK0OZyAeRIDd2MWrDdaYlWZdPJa76bVaDFZCJB1AN3TEeftchJWrBln+pR/3fHAXHhn1GMnJfSTzzxKUEGW3dvOVNsXJO52MCG8iVkAvWTkRlJaeYbnmbhMi5+UF9yxfy5uedhY2WSCDMXPG4Opnr8eE9C9IZvUW9dKBWsi+Tmz7DcXgVh+GkF8A7ZNRlGQjzLZWyPBCOqiYktdoKopDtzscG666sZNrFnlG4jdc/ORFGF3/vc19c1eZH9MXsaRAgtoyK2F2r6yoYbIoS5XitM1OwRYrb+naiV2Wp99+As9//xJ+809Gmi2dyqSoeOy3M4DGRnR/awxJejMK0gw8813hLRXmQ+/emtVA4ixlfrRE77XHXocevn5OsIScHI0c/xXueP02KtF4WnW8C9LScClmUcLu14ED98ZBWx1q86BAY2O3m3cjQVWbEucJSon9ATCftpQusUpqJdx2vD69bYd46IP78fDoB5Fgl0k3bftqrjv1h9E+XokL9jgX6/Qc4upB1Wzdbh6G0rj0lktRndInytVdmX/925gONVeL8gVJTqcefDq6VvZxDxRcc9BkpTUYmIODb/o7ZoXnMM2W3XQWFwrrT0Qii8dNAfEjEPAhk0wj6A8iQ/lsGtrkgm2wVvkauO6g6xDQJ7ZUnHAGtz5/DV6Z9F/KT70V21VqEUsblE31t635KKwBlCUrcNjah2DzQVu4EGzjmbWT8dzI5zAp8zuSNPPdEx41oRTT0Ytr6ULnmnnBMBpiDC3H62JK2yRkoWwYFYlKnLzFaXj45KfmJifK0Gfff4rhL12JnzAB9SHFZn506azrutlX07yEHY+opEYY2tpC/BbyD4IVoakH4vbq1O9IBac1EMbe2+5FQmnH+g3atf40ZAKwsawbbmWk483jm19GsTv7Gk576BR86vsMo0I/YXRwHMYExs/XfRf8Cd8Ex+LLwGh8Hfoexz14Ml769lnUZmax4lhhqi9uytIVOGaHI1GaZv94KcMrtpz+q+10gzEZTlGK2BYZreGj6pYgNDg1uNoqi2/mfIcb3rre6k5l1P0lyQRcmpai7RWx9KF2tTuQdDiaLMOwDY/FnhvuZZMcPYVOa6A0mGRXjlaTlIRwTVjYkJZSgWsZjCB5y9ZrKRI0JS+f8roy7NBpG9w37AFsMmDzxk9nNMWoLIsPJ76Da9++BrNKptNK0UqX7ou6CuK6A0pJA8qURDEIkTUTXnddd+d15PrHoflRektRFt/MSD3OvP0f9OUBFVtfQ2Gnw8ql7nNhbS0cFNOPdIbd6ZAPsXDM1QOJcPyMcbjq1ctx07s3YtSsb1Dvr0E96hDj/wW5OP8nkbAXs+v9McwJ1uGOt+/Dsfcdi7vevRmZMCtc1UNZiPijLGvrtCo8SllQDbsw7MlSBt4b+Z47ECRzlIWciBTRikAxp7pSyUozEey7we7YcZ1t3PhOzlJJUhle+e51eyyv9/Dc2/qLDib/uT0lHUlHsFpoVdxw1I04fp/TUeovd4GIdEka/xv3P9z71r044ppDcf0L12NmYDrznzCC8NTHiEl3TG0pdbtvv4dLg3RcH6glSelJZYF0/mm4MZ+6YAJTEzN5zDT5p9k1slGVnz9HhC6uXtKuS9fjusduxAujnscL3z6HCx87F5N8kzAnXIc0K8G66YWKpkptxqkdXb5kfYjG9anwJGpCNfg1MBn/YZtPnfG7kwNG0fpYXj7aKpR7FV/wB4POo20XaZkH9diNi1QkS7HfJnvArxFHNRrbrzo7C6fddgoe/+xJ1Pqr6Z9jrUUIqUiKXUt1yCKZMLrGO+PK/S9Hj1BfQJ/qVuZoACUjCZx66+m4+o1r8NTYxzGx9DfMCtSY4kjBdHd3Y0lO6jy50zlZMaZogTSuuu1ys7RcwnLSvD8upSImdRftwRAz4xdL5m7FyktW3WF52TX++HWUT3ZQbM2pWdFa/PN/N+GGj/6JSeFfSbg8w/Jn1FfR1UjONm+JhCyebs5ZpuQItYEOMkxflqUmLSb9/E8iN0uNyG3aNLzaV2mL1lLbgMZHaXmE+NNHpPNi+PXvX+DwOw/BWP/P7ARoQJwK4F88YqqOWIDdoZUjA/DPw29EmZZsEZQ5KtmbX72Mk//vRIwNjEF1cDbivhgS2biNJ4hPEyxFkllzLyM7wtDrKCItvUMIdo0EzfGamZxFBZSyM4JJqef+KKTY+oqtK4eWpfHS0+C5j5mxMTZ6/Rl6KoRLR1+hIbnbtTUGxrpgXakOFMJyIMLm4bwc/1tNuLxZZ9icHtGH9D6h16VTsfTPpdoGoRuXl3creO5/DlZ+d2sronXBZv75MxkKpJucaWBLff7dCMwI1tiLs/ok06JoQKVuY03m0ghQS5SqFpXrVdsL1x5yLTqVdHTSQ91IlyZx+bMX4bb378APtT8hxp+tI0VC0tQGp5AKriF21xdRVBuH8gdRnqzE5UddIV02xIJxzCnV9II0lc+VJqfKCwEpaqHz4kvBnTMvWX3MX4zXcjnzwhbG9fxaCuU53xLOYlR8jYHpiWfOP+fr/Z+fUw40Pmb5I7mG02F0i3fC3UfciS6V3XnWgtFC00C/QrcVSBZULucEyR1LQpdiSZIMon2HDElZ5XM17OqxiKUPJ3FUpIG9BgLxiB2aQIog7DbrOSfSfw5qev0cY1SkqrB7311x+Gp/w7WHDrcunl2KLh6ow5FXH46Ppn+M6mgd0kGSmk0fYC5EpBZO/0R2uUjm5K1xNR+i2RJ08FU1ENSnIz/F1NppZm0Uhm85mqsB+bkLaM8jD+mBXUc2KrfuNY3mFLy5NOeHwnx7cfNqOHdqnm9zTnA5Fmmns0msUrUSbjjyBrT3dTLrz04y25+O/8xeqm5r8MjJqzeVVjPPN+u1GY+dheiV33twkq+bIpY2SE1qoAzWXGkd3vLVPeExeSLhd0/EXPMtGkiN1Z1QqqXJcgzuMBQnbHUSDtzgIHQp7epubpSZbCSNa566Er+XTEadv57xvHuaU/ScndLgCnOpfb+fXRWfviDM7oqe4MlT0LVJcjlDo8H7z8LVYRPQQ36hgPdZrUV1tUUJ5cmjtgzK01EMqhiIzoFu+QKxguPBBN4Z/SYSgVjOs3XDWZCeZOShkgZ9AaxcuRJO2PVk9zDIyqmhgQT/a/0NJ6NFtA7w/q7H5HpdQA0qH2B2cjbe/uIdd7xIwZbP6l26MHZeaSecu9857ObJVMudCmfx0dhPcMNbN+CjqZ/SiiKlaRwkw0zZQIkkxxM8bZt3WnNK38LbeM0N0C7YriF9jT2lsrpLNk5hccGXCSDNIriuhafxrQmkJlZGKB1Ch1R77LvKfhi20zH5rEaBl799GUffOQyJ0NKbRf5H0NwNQRaSlsHZco0tEEjlnuJRvObUz8Zvc6Y48TLP1thWyyeon9LWEP+zpaSt1KUA4tzV7WXRQW0vMnRPifzYZLVN3IxrkQevW19SjWNvH4bhrw3Ha2PeoOUUtxnr6qrZ43pJD0nKbCladp4YzculUuyOiNQ8ky2UxdOvP87LedaYgyx6nf6jmF9cVafmO2omYDP60ioQ5g2gW7IDHh72AP6+1cFu/psqiOIwKzIdd753F35NT4QvmOtetwkonxrwd+LtCqTPuQdREi9zX+gRdC4CXHjXxRgz+yckNTaZ8/5j0HXU4IJav9C5VJ11JxRKYRHzgnXxhIa+OjcikMVRfbqC9z4V+1r678kOvv78W6y7wtpoh1K0qy9Dl1hHVKTKeY4nZWVxk2VuXbdTM4a1T2fPIZ1z/zXU6UcHdMLa/df1TiEWnYVpmG6Hgi5b6P4IVHnm7EjElyO/XIJ2actvjlhNeI2xCpwn0EsC7npqXX1avl2yAmtGV8e1R1yDsnSlmwyrICzQzzVjcfotp6I6NMfewdPbA42pvbXDlbXh/T22g16b2nTFTVCaoFwJPPHRuA8xjj8t9WzgncSGoeYL16beYIPXnXQ/j4yUSKFzsPzw0IUtYkEw3bJB64JW0brhc3/YYFHAa041Ek0n6WauLTcYOBRHbDsM955yD+4/+R48cOq9OGuPM9Ap1gmd6zqgY6w92idJX8kSlKeiiCb8dvd3qweTwJSmlI9p6alUVaIK6628vrsGS3nhzZehLqQxFCcggjYLa9l4oqetTQ6ly9sWuYRzyKfvnVdm5OxMzi05eA8H1HMuT5fhHwdegCsOuQrdQj1dVnIzJDLROC58+HxMTk/ivcE9u8vaE68lm98/DlIpLXXdFpytzWJl/Kik/Gy08ua02iUv8szivW/eQR2t9wDDu3ZUS7nWKoTnYyGMxOhDZ3d4uwRj2zw0UynCO9HEWb4YytLgThHzhdWmWfUeIbHSAnqPzRtJXkSQqOgKUmjhszFf2BiHecqPTk+NgiSgMMklHKvAxl03xZPHP4bHT3gMT5zwOG7e/0Ycuu5BOHCdA/DXdfZG+7pKlGUq7A11fTRUc57CmTAiaT8iKT9C7Lra+1a8Ro2mS9i7eosBFEzNxg/yDq18GHhNE0DpdWsBlUJZCmVD2LLP5liz43oIJDRPTOcsBH6pHodhtw3DNF816jMpK5d7ApmTj1YOL5f5MSgRQZA3tkoct/Hx7qaVG5OsTlVj8uzfWHbeotNuGWhXUo9k8siJKJ0jPxuqyDlNmdGHQezY9MZVZn4dMwelHqB8RtO8waYjdqUi5g+/ukg2VKOjXH1KsRZ11VnD2p7fPsv03Pcv4PJnLkGmIuWISkSiTHiv2XhKo329XU/Xs6In9t5gP/x16EE4eMOj8fBJT+Dfxz6FF054AptEhqB3TQ/0pOtV18d9uy5eIGgBkshikAe7RzNdCXenVAluPPkSl29eOuVL2wdKvQmkSxspVqYmq4ZTIRy3y7HwazKZ6kTtX5rCnHZTcf5j52Jc5lfU+pPIUDZsTpmCNCh864ZXy7IWvdtRWZrl3fEQbLHGFk6+cmUeH/sBP8z4wYjEe2Iti0hN1VxrWT0UOOsJcGtHTEOLKNq0WR4G+M9PFwgEuKV1FRBRZtA73g1P8Yb7+ImPon26PW/YuRtaEc3Ct9VWW7FGgzh9yCnYcZUdrGVm+6bh6FuPwZTSGWxk3SHUDGoyNXmB0v9BSGE1GFuRKUHHZHt0qeyP9dZYG0EKifxtEievs+3G29IaitKPR0k2pNfLcFLRGCEKZFABKAzMps+mlrtT6gGeedeZGJMZbe/iaYljj6yaS2reUN7cMznVggbAK9MV2Gv9vXkcQkUyjJ032I7ByiyfI38bgYufvxizIzUsc6qA+P98Hf4RaK5PeaIcf1nlLzhsm8Pd6pPSD9bdsBuPwNTQdNQF6pFkHzClJ6FUKCmc41YN9GvCR9uBcquarmKZT9/hJGzSb1tHUCpzOIX9bzgQ00qm0ytpVmKuoBZLbVwoG9r3rP9CyEudQ30stl0ywnRC6N6uB4YO3ID1R2nxeibaMNEd190BlYEOdvzq+H/jxlduQ32wbT0hXZLwbbnlVlktUXH60NOxwyrbW8VN903FsFuPxfSSmaxTNZW8/7xoKgVnbehHkVcD0iUyFCUKjd1l0iRECoo+hFBJwerg7whfwo9zDz0HvTv2ZyzGVCIuW24roVPikkYdSwA9QRRJcZsJJfDa6Nfw0KsP8RSvx1ul5Yc/TUBs2TpHyrWcZm275K898Sr0jw9yVp48NI6TW3b2kQ8exMPfP4I6X9zSd1+IcTXpLEreYTXep4E0FYv+ixpKUzlW17PSV4ENO2+KU3c7xerdTrIgVz12Jd6b8w6q2Q3W3V4n3LIlrk4U392mFkcOFzeyqExW4MztTsXG/bd08sAiPvvCk3hxwn8wLTAVaVqLbolfVz79z+od1YLiqt007CHC1p+eemu6jOpRY7bBTBS3nHUlopkIIqly3iAL5t956XjyKRmhrHww+k1c/doNmB2u0dkimoF9uDPECj5tyGnYfsCOVokzfNNxlAgqOtOEUg2ohrBG/JN3USllXtC9FpR/PlX5yrmXgOXcExhTKjZw/y79MXiVISSxEpSmothlCPOtFlfjK6LIyYPn19QJ2tJaGDt1DL77cZQpZdNxg0LojLoOHjmpO7D1kO0QohXlTioUkVOC+z+6D/ePedg8vEu6IKzT3J4E3yOtQjQ9/sNgfsPUiJVK++O8vS5Ej1Bvlz8rO/DppI9wyUuXos5fZ9M61OW3yayawNWGofqT3MhSrkxW4txtT8XQ/ps1lgc25IgfPsevs342S0dtr+a3tlI/zUNOJtRND/BmIjkMoAQ7brgTZS0XTuEVTOl7jadT2tdWTgSVQ9afwbs/voV/vnID5oSKBDUvGEHppdozhp6GHValopPdqzMzcfhtR2FKyRQ2ctB9mskabuneRWUty+KQOR1IudUL9EJuOBWk8PhRHoiiS7wKV598i1PCplktFBwPEhqxjYeWFs8TPjmPEL24TLM+OxvH/esojC+ZzDzqnUGNWOhiqkMJuQI7yfWS8iAeLjxeWLhUeTVNSuW1SjIV2Ln7bhi2xzFu7pkSZzsnSufgkGsOw+TwFFWsWU+6UXgD4y4P+Xy2JbhcqzR+VJGgztn2ZBLUFnmCUgA5tZ3GP+VcgR0Ki1voL3jnCi13bb10vfPakgTTtKD9JUH2FPT1I81YT/KGEMOwa0/BbH10xCfzu4jmYAQV8AVx+uCTscPAnZ3gUoqvfOJCfFL9OeK8a+irHqp51bdX90sDMrldm9PQ5r66n9ZVs4z50C5dhmsOuQwrhdYy4UkHk/jvV6+jJlGPbdbfChVBWjpKIWcF+my9dR43JbP5FdIi5pwXR/uewaF9Cuyv6VE48c7TMDNSY5ZWVk8UmVGjeIvrWM3RU2P8WYISLBtMRN3lCiroUyc8B7/G5XKYWDsOVz19BX6IjbNvw6n+nPXo6lOWq9Q7D6U4d15bK5Rz5VZbPdndsv8mOG3nk7mvpXd4R/Isn8IiCl7EppC/F9ZLWFtVqcY/cx/GeG/k+5gem2FfnJ48ZRK+GPUF6UgPHHJy6tcAQwoJHteF4naucT0XUQgjqGQqhdM3OQl7rLl3g7LGyqfj0Kv+hqmRGAmLd3w9iVCEpVSZ1hHipS0PbGlNxpR1oA8+uCdkPntCcv0h16JjpIfF+eCHd3Dtu8NRw3BdEx1srXW9BuOntaCJohF2zc4/9kJ0LuuQF76WwFWEcyIm7x1a7cuF0jj0loMxKfI74uoe8ycr1XXlXA1qdVKxrKvVXHK5PCwKglLKstwimQi6xbvi3uP/L3eGWQzHcfD1B2BaeDYVRUvpFF5tWSEoV7PuzQV2c9NhdKmrRGm6nJZ2Oxy404EYPHA9FkmVzXJ6W4Gy0SyaNgp7FolAHKdffjrqAzVIZxKYwjqtL0kgSWtJ1w/k0vJkVwKiZXI0pucZ7k2TLSIPIyjN1G6XrMKhGx6C3dbY1U5kw7U46upD8XOF1l+SBnpv63mmwpKGmpeqTu1Rw+q7cGpYCaAenStve/TbDcdtdZILS493fnwDw9+50oxqPQJ2SqdXHkgW2mdaSkMTF1sChXY/B3Uvuya7486T7nKD5Moir/vFryNw8QsXozo8RzkusEyciGrfrRTBKMyD+zWGd40/ClF4mNbhwJJVceFfL0F7PTliOfUi9hUPXoRPaj+zuWHWCbS85K6Yy4j3jb18PvJ5bwlcbBfHxVC9zV3OxQU1qbuWazVVfSQTotXs1rvX+L+62e6hgMuX91CgKdRGCqOgWoFL6anL7uxwPfHkzYY3PTWz6NC975m7um1Elxq71IH2XJ3oUDfZIuYNkyN976yWd4D/fPSia1nWtya3IR1ipYuYqNSsUSm1mmjpwDWrru4aVxKmzJqKoQwRlGaiOmFZzFAR73mBVkOKwsFgIgnNA9LcpFg2iTp2Y+v99TY4XBOsbZHTmt1zgjH7zHt9IIYShHHd2Ve4DCkrvG69vxqXPn8J5nDr5c4EkZLqSuCc9wTTU9nCc3J/Fmqzzsl2uOKoy9A+lLMQ2XwJ5n9KZAotO3U1qCyWN1lRbqKhlE+1rLt8mkSudZL0lEofHhWROSerdf5Olq14z7qZqgWmL0ttUZStJXC1qq3IgeCFNSctToun1ldr3y2sCbBdA3WoZlupvdzx3K46WJNzDMv6qwkyDcmBrw51WjwxwC6bOmusRys3L6gxczldX3lxdaoRBVeHbsqGJKSI+cHaTjWYVj9ZlhIrzmo0FcYOQ3clMbkmloBKyBaN+vwZ6PoSdKf+yqpmcJfGyrD/rge4EtG98MVLmFUyi4SksR6XZyMDlcfK4nw9gmgZXGgpXkk2hCHdN0BFTXvXLSaSwQSOu/44s5yyYnTC5dbLgQdLJZfa4kGWXVmNt0SypY48BXY9/++Fu/H9tHGIZ0gk/DnKkDUgEtJWd3hVolMsV151UXPdVHPB+TgXxiwwU0QvJf7nTWLxlbgxvLx7aHpdPbVzT+5aShKUON7I06xXOT3lzElDgSvE3K3ufLxfES2BbnAUIld1msiHoMwnHmZ82HrwDhRbCa1ISmHUmEu/al1unZBp7acAyaI83s6+SuPh7S/+i7qQ+5CAlMS782v/j0KVJctEg/Rdk51x/F/YndSAa65ann7nKcyomGEDoksdalPNK7NF0nOgKfndd2NQRcuqnHUVJImoOtz4mKZz6L8IRvsqp7qxcrmpFeYXQNgXbnDug69NnbO6JTMiQaHQWiyiiJaCVqjualKoLGozMYybMk5a2MACupvqnioz3aH1CJm6bRo30AD+thvsVEAWzLgmP2akaPpGlT9nXju9/UNQXRjT+Y0I7zzpXoRiJe6c0o7E8e3vX6I667p2SxOqEz0pyrAbl07HLO+WqXgIN5x8Gx456VEMG3IYVor0Rbt0OdqnytGRrhNdB5atg/zSFaiia5eRq0RVpoyu1FwZreuyZBiliRAq01FUpCINrpxOc9PK0mWIpksR0FpeZmKKKFuP7BTRNuDbYovNpc2U4QCq9JHMzY7BlmvuYE+mZqVn4YD7/oa4PmmUSZp8NSykv1TguhqCs2ake6LQMO47+D50D3U3ZcyEUjj+/hPwXfx7pBlQ70CpW6eYUhg3HiStlVOqLaEUxqBlUJoqxWFDDsTe6+zvnt4x0Uw4hcOuPwS/l/6G+mC9zdOyLrGLuMQhflZZK0kUW3beEifveaYjKDWdMiW+CNKpAr3m1L6r2vxWcZoWQonL0/xzJ1nWplAXtyYxG8fedCx+LZ1ID11ArogiWg5KjITLmfoa4ItrRDknmNFgFGt2GoRAUspNSab5npfepQNTD2YhHfQxr6IWdu+yUTQsl80SfTF6BKZVT2U4b9xDr5nI8bzG2Hgsv7z1yASN+JyTbyGUhpYb6ZHoimPXH4bBXYY6JSekiA98+ACmlE5DLKgZ9wFLKqe6SwX2KTFmoiYQw9jY95iY+hnZUt5gNBlRHKHMKf968qgVaOTq6epyrjbnvGPvnIVl4WJMRC9i69PhcjoudDznqw+gItMBe2+xD69HP6tTXdjVf94VUcS8Icmh6NjGviBc46c0Oj1F1B/F4I7rmZkfCURM+dzJpQOXLdk+WSRJOHrJOcyuxrYrbYkulV1cANOPOUj44rlDR0Je3Dx1ePs8R2U2ii4gKc/pp05uJBjBPkP2xi5r7oK+Xfu7qAyS4u/pkU+jPhCnn+pRT74UdymDWdETI30N55R7Tsawaw7HqdecajOYM1HWnchK95sQa1PjdGTvuRzJN6vz2srJT2HlPL/mnAasmLb29ZBC41ZyzoZVHeXrV/CmNBRRRFO4eVDaoZke5K8qVYVD1vw7dt5wF3eHpZA9+cWDePDTJ+wRu0TJLV62pJETb42vUPH8tO6ivFPvu85u+NvQo+BL5PoqYeCy5y/E+xM/QpwWjWMSUYazKpx1I9pyd29TEyqItuZj50kz6qLxWooTyYZRlinFJXtdgoFVqzkdE3jJlz96Bbd+dTPq2LVrPVBpWEoRr4iBFmDY70cyHUZppgybDRyCzqUdzaJMJVOoq5O51BgmFIzn5glRDILB3FrvPMO6sbE/u87c0HUrKyowJzQLL332GmpF3gxrUxCUcm4gUP+t/rmnXxFFNAUJakuKk4kNhVEWSQC9gt1x0xG3oCSpJXd5IpzFbW/djCfGPjsPkVwyEI1ItjXYnSJJdklU4pZDrkH3klVdl4WEUeObg4NuOxDV4VojMqcGf4Cg2H1MZdK2uNjKqT64+ZQbSYJRN+5EEkymJuH5D5/GAyNeR31pnc2vaj0QdTjL0OxHlklL2KgW9JRNKxuInKzsdCpvy6DQLYOe/WquVcrvZEv5kJw1vpqXgyKKaB6aS0Zh1dMuik4miaQ/jonpyfjfqA9M4U3xEwylSZs+N3vbwYndkoRIxcaVuK/7+kodV0RVoEfDUMbP08fj9HtORyzq3n364+CVeLfXZ5gO2/RA3HjyTf/f3pXAy1HU6W/ud+YkAYwcChE5ZF0RFPiBGNZ4sB5chvVA3QM8EPFWFF2MoLKuoisgq0E5PRCUoIigURAFFSMaOUUOOZIQIAlJ3rw3Mz2z3/f/d73pmXfNIzE83f7m1evuOv9VXfXVv6qrq5Epx+TEocs99/0GH/rCO/CtP16Bjb2+19PWLovxYSVlQzxbNKmfyaiFhDUM5WooU7ss56rU/Co0Qx2awQ5NGRtptDGhf6RCZaM7JhNIKZgUKcaGVAnraTXPojYtJbzKCnzptZeZpmDzFCSAbv5KJCkpJfIv2GpuYvRq1qyAeh/Jr5qNWGfNqya8OruLwoSefhg27NJCyTx2nPkM9OSneUQk03vW3or7cveQT2scnbSEMoxiNRy3rQWj0U+lkefQaGZlOo7a+zXI6YOmSkPti8OWWx/+Me7rX49HCrazFK2lm0wdSFTlVVuN2MZ8RlTKn1zDXVBmWGg2r9ipCSQzsVGp6MGK9CYTwf7LrT2+FCnGhj2113YqpohTQ8qggHpUx4bcOvaAG1w7oXnjwmPwtE0zbBGe3pA3xJObgVBaYa2BoBtJpbteRF+tB33VHvRUexOmD/08auFgr9xq3eiiKdWKHIooDvX8Pnzyyq5FhTkOP7ux3577WfRKqtE1iIuuuZDEpPRaUm+BshMH8eZhfl3jqOsJJo/FKI9Z5Rl4/SHHIhv1Dge6/8Hf48rrv4yLb7kKFWqaeXtCqKFjHNEUgeWNN9YXV8r4jo9ORpJT5alXT/SKizK35eH3yuN2ndfTHK5QwyZFirGROeSQBazK0kpUieJmzTrcj2k4+4Qv4mkDOwx3dh896/1YnvsDKoXIX5CkRzVyJyidxeEJ70H14kSEbD2P+fXd8d8nfA7dmVgbkREUJHnOC23m9cULz8Dv1/0OD+fXoGafPLLHQnSXppfBduWZ+Nr7lyBf7rHwa7oewlu/+FasLW0gSbnG5vCGYC8H09ayabJ643B/IiidZVCs57BNbTqWvGMJuhrxZ9OZ1UZ3A1f86jKcf+O5yJUizG/0YDWHMHdnBxlK8Xv4v0U4gUyMUFYpUmwtjE5QRI6a1F7F3fG5N37eOz62ab0I+8nLTsHydXdioFH2CSxjL7ViVdxm+NA3atZKOw+cfthnsO92z2/W7yQpjXaeb+CRTQ9h+T23eE9PgtJiUilVq1Y/hG2z2+BVC14N6FtuFOG0ry3G7ZvuQMUW6wAbiwMo5yr2Bno90tYXIi3pSj6cFamGYY9dMeLZ1dl43f6vxbPn7obdt93b5aGplSo4/ycXYumtP0KUWYeXztsF7zziQyhnunD5H67B16+/wLdP+RtFuFcTQbSeIsXWRIKgdKkq6Ayhyc1n5HfCl//1bJQi11KoJuA7yy7ABXdeivWFDSQoDW+KJJCgugd2YXg1biJf54CMjf/jh30UB+54cEyEbQjB5BbOR3JeE/G8mLnLUOyhbBmNPhJQNUKGGtjir56OhwdWI6KmpyGpNBxRk141J/fZrpH6DsNAxHAZDdeKWPS8RTh83yOao5Fig0S8Hif9z7vxl9LDKOcjzCAhvmO/l2LhC97LRDOoFgfx6rOOoptWMgbh/7aQElSKqYp4mUF7w/JWr3mjA7fbBycf9TG2ZA7NVJM5vPuXsxdhdfExhmaj19CJBKBBUhJ6gqSXS/VIW+SnuaWX77vQNo1LVnWfBBfRaejmxzkz5+CgvV+EbFRwrxInGBFWkpykwAnBX5LQaKcPEtibGIEYdSF/BJPCzStuRrm+Fpl6Fw547oHIRbFs9HPHqltxxuVnYF3uCQwVfOfDbNTAntvPx2mv+bRtjH/ljVfhrNu/iiq1S2mULpb+ezxJcXTuHYH7cD42W1kSzTJMhusMFnGMyYVOhmxipK0oPkWKrQkSlBZqJhuJV0zNIYkwetlgd8hvj7OOOxeZ9UWgFzjxvOPxp+hee1ytyeXRqq1ikb3PzXjl1mriPAmrCVJToh3Ij35aXDgjmoFPvnuxTVhrA0xbjcxfNiqhB/0+d66oFZ20HUHXMiPbVtPOxQn8kRCURvyQJD+ttqYWde3yH+CqG65CJkcLm7hvoK9SxOPZTbg/uwYDuY2UYwhZufFP+wIpsNY0FvQ9Pn2AwCbU6Wxe7JGEaZl6Z88mr22y2jNiZE0f8p+EiUZLL1PF4AjxBagMR78rnUKxBZOECmlz4k2RYnKICcpO/TAMaT4ZFNnlzyAlLH7laZg/fS9rtHfXVuAD551swzw9/9ucipsMFZqD7PRJn5LemLe1DnJhGjzMrPbinJPOb5ISh3vf+OnFqOT8ZeYsG/zTt52HA/bc37Z5dY2FoL1ObTqc5/ZZIIku6KhEZYJ/HXWtrGnLzXjBoSz15IsjRdy18h78efU9WPHn5bjrL7fbt+SMREjcHFjaE8WoHiGXz6NaG6IWNmRbxCpBlyU2IimeKXTQqMS7w7LHEP/JykidAviXYfzbdbFORiN4HJuHUDhJmFR+miLFVkCCoFqhCWlVxXwjIkH14YQDT8KL9jjUiGFteSVOvfg03F9/AAP5DdQYQsN6clDIViG8wWn9lB6RRw3Gz0YsLWrboVm46IRLKIe0DvosRjjyi0fap3vUzqV7aN5rxmA/h5PdwxqaNmMr1AvoJmnNKs7Gu9/6IXQXNdwk5EdCDPNssIgPemNGCNYyOg/EVqJ8eW34J2v+s68J05GnNQ4xc/kcNg1swOIvnYZywZ/6SQkKwz1Bu1dWsxGeGFxni2W186NtC6xlEzFiBS22o2ZmmdNQOhBUE61XE0EZT8LjHYnhAkqRYqtgTIKijmCVXq++Fqt5fPilH8Yh8/7JJ6gJvQj6vV8txfm/W4JN+QF79aQdqsqdNBR/JUVgCJ6KZEIjMW2FJCXtoifqxeuefwzesM+xPsSjLD+46fs453dfRjnv75PZkInxFI0fbPqfsTXQVe/Gvk/bBwt2PhT7P+cgJ5eQLJMbypSxdNkV9nVif2igXQmY/3oeR7z4aNtzysKE9qns6jzE48mOjkT23A8tdAz2Nm4T59Zx4+9/gcH841iy7CJssielzUgjyqC1WrWGnkr66nC9wCI/+gUo2qBtdQaVdxIK2XnosRBiaEqWIsXkMDZBWQWXU4T+Qi+O3e2NWHTQ633rDTVOtddChLOv/QK+f/fVbFSDjI3NRDPPcrZ5Eh9WjQeRgD564PAwikPDFg0fRV6+82MNMyrTccaxn8Eu/XuaVtMgCy0+/1TcOPAbDNrQyaGhqUjGcsAoC1EWe2MPnPGOzyJTK7lGJMGUXKGB7y6/HN++4VuMo0r/Sl96kNIWWVFz43CzzgIpFsiIDKdV5r2VLD5+0scxrToHfdnpjCiOLxzbMx6u292S5yq68IRSR7nJxPxRo9L4n2eeioHs48hS27o/eghr8/qsFT0ZybsAOtP9UzS60vX4GI2gPO+O9hhaM9H0Fez8vksGQYqeUmiPJUWKiTDOEC9UOPbQUQbb8XfIHgtslfebDok1mEIdS374JXzv/h9iQ6FsezbnOZTy5Zuq3hMTlKcUk8lwVU/qUHUSguLJYG5lDj77hv/CvP4dzfG+dffiY0tPwcraKvpig2LaGc1MKx4RH2PRvtwHz30hTjrsRPTk9F08Ita+7lx5O3527zJc/cdrbZmAVlspHZdCpOklIDvNJ2XzzBuHmxpqljiMLNSK6G9Mx8HPOZieYomHiUIPGRgXjZZjvHbhIhSYqBOn+zDIXblVeK3pUnBP2hGiE5QESapOzUmK1e/v+QNWDzyCG5Zfh5WPPmhRRMyFr8nyafYBDhefyD9hL+1m7U0Bj0bwUvfolVPfyN8hObOZgl4CoKMWosoydo0JXGROF7NSp2Lv+0kw2vnupfInSI+lrXqL2CZFik4wJkEloXqXK+Zt9Xh/tQ9L377UXyDmMO+7yy7BRXdeinXF9ayGbDiMTV8BUSX16jhBhaR/vctmQtCrU4JOVPEVVnRnNIVDd1yAk1/+AWS0WRr/fvnAdfjw1acgn9eTvzg9Btdc03aF7UgIemWmD59/GzWnoaYcQ5khbKw9jpO+/B483LuKsVtIdxwDtvWKfVrICWY8uNT6gICWTbhs29TmohhxwNyoNFOirCofzbNJ5tcuPBr77LYfuqmxFkgOw1wXYI/9ePQEHComPW3MidX0ZRYSVKbqpc94b3v4Dnxl6RLoE5HZnH8+XmSjdH2tGnNPIjFyotGvyuH6Y+U1vMWRzS/qI5TyoyeNCuLzetIwlaI6D+33lDVilMx6qbxGv5ob8y7KApif1gylSDE+OiKoAFW2aZUefOed30W+Eq+L4jDrm8svwTdvugSDhQE2A1VxEZRXZOkHE0H00wK1rfhEDcpPs3jZ0xbi/S97nxgQ6AI+ddliXPvIMqv4pXoX01NjB3bf5tn4yOGnoDczzeKII7PTar6MT15+Om55ZDm1JjXbMLzsDNodYCK4zInGSNlzjSJtRAZxesFJP5JeqU5CI6nledxrpz2xY/885kfMIx8iiCwWPGcB5s3e2fOTNAFxnHZM5NkuTLMhkm4BLXGQrEhI169YhrW5dfjGj77NctIDAOabRvdKRKbnlFFWu0YwOPPr91kRxZREopRfabVOlmZp7ilSdIrOCUqVkA2ph8ObZ3XvhsVv+jR6h0gAqqD5Oi64/jxcduvlKJcqqEdqhKEiTlwhbbgQnwd4NVe9ZtXPFtVH4/BnvBLHv+htHmV3hDd95lis6lmFmY3ZmM/f4hM+weFbTAxhnkkmFmE9HsUHv/4ePFhfg3JjIB4ueeNyLWoiSGsYv7jcWdJ7fMP5MNVCTVW/IJafZ0laJgP92AZx1LTyVG/cNUCfkSohWyfR8R7Mn70TTlx0PPrrs9GrObCkWAoWNC3dirhIhhH8BjsXptVec2CBc0J4muW334iLl52PtY3H8Uh9HWpdGQzVKu5Hno2ECB4K+TwqNd6ILLW1ugaDzJGRWYoUnaFjglK1Ul+oCVn18gvmvAjvO+JDbACsmWwMtWIVly6/FOfdfAHbhG8QHurqeIj7WzP6ryDJKqyGXoxKeP3zX4dFz1+Eoia5Zd9XxVs/eRx78BredfR7see8f2AHz3BJhUiKnEgoN4DLrv8Ofrvmd7hl9R/JYWIvtWD28SKoht7zm1hYIxmTcnwoJvflcfq5mqeHV1oaLHmZaugjO8+/+bVg4UpGvjyEze+xYLupkWml/9zSHDxv/r68AXRjOM3FyXe2UUV/YxoOX3gUr2kjNxfH7qHFzGsNP6WBmtYXjBbTahpLnuIww6IUGogKFZvzuvuBe1Et1bD0J1dgw9B6E7OW5bAwW+HwUEsteM6h52CmwnPJ7+mEKLcckkJ2jmT2UkxNTHKIxwqWyaMaDWHb2iycefyZmJfb0Ssz8dDGh3DixSfiicJ6m5SVXqT63lopW5Nze7drryzBtpsEdfaR52Dn6c/wtiqHrjou+8G3cMRhRyEzxKFQICa5c5y3vvwEG8cQzr3kbNy39g6s6XsMG7TyndpHVpPM7NElm6HDj0H48Ca+GAMtzpKTBGhKDIdrdmbDJCco+RZt5aiZOmVIk2MwDacM4ahMaaLawwRNq6odJWiV12Q2o45IBvZogMGKLINplWkoDWktmCbn6c5/OhpBMQ7JoTVj6nAkh8hK5s3HvBnzZ+6G/t5ZyOWYNoUyAtMkfhK6lNFa2rq0KJYQO4wKh86D+qw6b8vpZ34aG7HJJvN94rw1Dk20SxIRq4aR1bzmvSr0J4msAN2jnTevPZTKJQm5j4Zmml7O3h2FTqnp6kjG0u42OtrT7SxUionRMUG5J6vGyGhyKapjh/pO+MThp2KnWSQpolwbwK/vvwHn/PgrWJffiMHskL3FkdVEBUP6XEpodE2oAeuWeuWlYePhqJENN4c6e/M+dOPzR30eO87c2bUiCRN7NYQI1PHnKrjk2otw7d0/xmP1x+OGGFnP3lFGtwCUjSCi4Oky/zxpp2q/CmXiVy5ze+MTFMJjE0HV9e0/QvM8tg9W7OZoEs5YkCy6lZq3a0qlM20JXMJB8w/AzFIPpRtEIepGT3U6jnrF0ciJecIQOil6iKTtKNL65W0/Zz+mQEzVtFblU7dOT/x4h1hXpHVdeM0l2JjdSEVNDwl0Y3XDlYcasrk6KnXSir30WKHSSM2XfiKG0xIM7wpEXaqlMUKdik9FhUb2uja/sZcWqKZ6KJWP/Erednh8FoNbDEMhR0S62RgtpdEwmdQtzvE800OIbzjeWAiFUzm1yzR2jZs8JqFBuXi6YQqg3m7WUD8+vPCD2HfXA11SeaF0Wp/0lWXn4ooVVyAqZVGrVZgZr8kK3w7bmpb2cQq2zuiZxR0wN5qLN7z6zdh1zi7IRtRyFIXXrFYoINvMz1b8FGf/9GxUihUMclhX5TBn/NL/68Ar7ki4JjmaPF42AR5+tNusWEeLeTR0Vk3U8JI+PQWXUq8K6YVv3WutTOvKdaE+FGF6oxtnHLeY96mEUmYmevLNLzq3IClueGMpXCuB5LmgYtAIXp2YdWptoNVQo4xPnXU6omK80p6yraOO9qfag6SwQStjRejUw6iMWWJdKU5PXqSz2tCa7v40MwkRaLwkQ0mYnagojiCBsR+adFb+k4HnZGJI3hFZGgOKLwz9x4IVM48hR1akhJfjSJm2ZM4nNcQTrEdmBapRyiKHBvtvvw8+suhjKGnjuBolVmzszarUZK686Xu46sarWG2oSdlizNA8myWiszx71GK9C0eyd85n9Hkr4Lm7PBczijNY/xiZSiFZD3QeoiAx3f7YbbhuxfW4/s7r8Vj+cVtpreUAnrFmWlsXI4t1KhLU6GA3oZvAP2k7nqxfS3y98D2j0k2CymL7WTvgmfOebaEClENtaXPMS16LvsZMqbXtWXQoPiEUSTiqqgjhWpBf2YvolDUOBQ1kkE21Mn5913I8PrgGS398hS2LkNZskwwkED3Y0K6xGwv6uAU7SwYLbzDqzJMJwgh+n7wI+E9loKNO3cMw/l4Iarx4lROVRYhX58IUIyh5U78k9T++6RSwFGWxXXkW/mPBv+OgvV+CrJ6ihRg1tVOgXz2OZhjfKtiyK1eDbXpXi5jpbqlSnmPZhTjk3XLcwFBtCBvKG6xgLCoeK4VBvGvJSXg085it1dIHkC1wQoytD6U8MvWpSlCK0aWK/0sA2nqnEtLT1jk+d6avNWvtmtZG6SFDexNV6CI1oDkcEs6qboMPHHcyurQNBoeiY0EcMKs0yysEIzROGEYsoQ5qTXLTeVNwP8pLUR+G0EMa13gkqzStH/7kavzizl/ikcpDKGsPMDKdOln5U148siRIblTrQyPUJL86Xa94Tfx1CSpkbqR04yEeuNp5M1xi2JtAGOb6K2KjIyy4lU8/EgwUyqaZhmNL5DxgUhqUZyRLgf2mhCzlSCwzGtNxyK4L8Mq9Xomd5+7svV3wIIRzRZI8Dwjncgs51Dm74m9cfRGGshX8ZfBB3PzQb2MNyQPYu2lZ7y3taVW8nUvD5pxC77j1kcxagJGTNf42jFLJE1UhgbEaw2gYLXwrgqvdkmG5mmHUcPW6j734zN6GfQ2hj3H6UTOShrZ5rixJRi4aHlGZ4VAqy8ae472yiSJLMD7YUXNgIr8X7/FiDiu77T5qrwZk1MM5SWqIyVuK/fY4AM/eaS9aKTTT1UGQbDIhYpOV0HUwdLh75R1YvXElT7WwVHYj64jqjchZnWqoRT//9c9x59o7ULVV+gEiP9W/Gu19rZhpXAYvE12F+M2Nf6aVxjZCPpdHFC/NkY3KzxXWMLcoKEw8VB0X8qPOQ3lQB6Icqs1mTGdsDlmdbtzo4cw4McdE7oXa9Klwandux3jkQG+ttWHzMOkhnmWIN8I/CEkBeSMll1Y+56tZzKzNwFlv+hJmdMW9oRALbtAx5FBIViS66eu1a8sPoFGoYMUDt+Gcqy9GvVixB4Va2VxhL1ajmtS+orv5Ui2PLCmf85pU1rYCJGMy8wGtedn6GE2mYKsq6DdNhDTZEm2GGCtsk8y0mt46GbPxNIfvIe+prjS89KeSFso+qnrK20/G7IFZmNuzvfkbRjIKHYNT0m48tLe0ES1Pu7KW8dGzPoZ7o/uwCXpyHPZIE8UyEdVLyqSgWgCrNYKiCotMq/55XShQm6vWkMsy9yQr7fbqH8dlOK2LM0FVfqwnE8lMX5pb86Ur0vxM141j8CUo3hnJmFT8qb2MF7H8kKzr8YMmI2KRGu9DXe94MCY9VRYpygfTTr7kvjmYNEGFTPkxCMGM87TOQtUbF0/P7IR/fNa+FFyvVrgCrUfb9roEw/pQTzfBM9Mg2XkxqaAi3HjrT9lL11BmZJtKVZKTbpan59WcBRHHJVjxW4H49dSFZAxllsRTTVATIZTraLI/leCwk3VHXwDqq/XhgD32R55al6qCP+Bkk+QwbXbPLBx9yKtQ0NbV8bo9M8rWaLck2CcxWtWKw9apWq647w/YOPgEO2zW5Dhskit1eveq23DdzdeRNFSL2aCpdQ311rB+aD0KRTb4iB2/XqfST+2CQoY+3kjE2sDE0IMNGbWlqpb7MA7ToFhW+j6A01XIEttSi+Y3Ev5UmZqzCIrnvlNuAT3Vfhz/0rehJ9MlhsI1t1yHm9b8kmmWO5R0YjxJggrwjGqnAZteYMHrheFGjuo8OcWfhKhg/b+vv5H2pVCerD0yzmhTl7jQjKWdgWWiiD0SM6+bo7kvxRPCTgyPc+pA8owm01QnqKkLzRNpvy31V6pLUa1qQyYtwbB+MFdAV62E2eUe7Dp9F7zlmOORreWMyFgZPZI2yNZqmEWQQTFbwPTeGXbZHAoTOk2uDZN3D+LQUSbYcSzbyA3aA0rN+dTydayuPYoz//dzdKTcBWmGqv10179hFhUUQWfNvkItbuX6VUyjikqWIw4SoYhF3w/QWjojP5owPJPbWHVQLsqypDIa47mG7NOqXXjbS47Hy3Y9HNBGIizOwa4IR3zhSCoV6+M2vvnYTIIS9fhLoZrf1kuitpiQRKIb4KzviJVcGmpZ9OOUpRslR78t+smPaVtyEyE585mLx6himggKHY7hfCpgLHlSgnqy8HrhtdJrkDoz2aleqh7mVePsXNqW6qffAf7XNc98AWyyXisun1vKabJfq/V33QfFWh76LJmeZIf6+s8vOAxzpj09BHIzHsKtVpIuSIwQUHLFp+1o8T82aoVB3HDXz3HbXX/ELXetwBCHodoEUZqbXiYP0yM+rFNJjRCmBcqnCUUvRpw89pVLeN9h72W5vEBL1Dw4CepVXzgc60sb2krzyWMLEBQNb3CYINQtdxrxihJKWwSlmw6qnUZQtBaJqdDMndcatWtAqEqmSqVeMSuNSyFjf+E1jc7gYaYOJM9oMqUEtTlQiape+AM+rx1ei+rWcaoG6XUmTcY7tajuub3sVB/lEuBPqEPdpjs9611QvRRdqOfh2/9wyMPhUylTxN5z98ZbXvFvrKskNKoS0h40vLIFrYqF5xkS3dweEpmeMCg5GQkiMxaSbvLfKTTFpSqleawCL5S1EH5EmrxQJscUJBbWwitSRqa2qFkXGVnJFBr42g/PxeX3XYmNBW0aN1Z8k8OTIKiQU8GDujZkJULjpaErz3gMqwRy0Y1vIgzt9N9pTYonVXSLJ64kNCEmnY+feY9p6qJdtvHykqJTqLaozsU1z868Vqru6FxT/G4XapCMtKFmDQyIyY4efB0Yw/DCOkz695oZkxjdSxxC9tZ76V+1OY5HpEQNTfFKCpHgC3ffH/alIkVJF5HdUS85Av2Fac1hqbm5pM4AEyFOz6BY8yhQ08M6lsN0ph+aZdIoiDIh6LpTKJxMiGe4qKlt5gdw7nVLcOWt16BW0pBSr5VNJvLR8SQIaiRc5hBNuH28biEoL5FkcY6E/Mvo5V2/dkJKIpTKWAilmOL/M0INaK897TAiiDvPLQaR2QQpa1ipieZptX70oJtBnEBjV8bBmq9GTtLyB0Jj1eok09A0SnjFXi/GofsvxOyebVqbSxApGdH4Yk6MyiCeqDyG+xurcMqSxaj0RahkBhmtJtQ3v1y3CEGlSJFi8jBCihqmPQn2bqVao9YaZjSk1AX1L2pmZi3SGtZK1PhHY5oCtq33If9oFQcfcKgtsdPSBp8Ut1g8Dhrts6/dXn0pw/jQwy9tmePhmC5lkVz1XIR7HrgTKwdXYUNpAFVqjvpQiB58tcr35JASVIoUTxFEUA029mq9ilyODZotUY1eow2tMwxwbYxEJl7Rz0YmceM37Y/XGm7yqNmyAo2+0ZjLaKFPGMKaLzMt6EDbE0Zqmi6HvUeLGir1MjIcvdbsy962Mio2m4eUoFKkeMogSgmkEQhH81gklQRBuQ+Rj9zamqumTiwoiU3u1IiMqqjhSOMKq57GauS2bkuuSe5phzlTqgRBhfh01LpG/4I3JZT2RCje8SPtDJtPcSlSpHiSEJX49H3QN/QtSLvW0+thQ7eYcGwLZS3nSRppTHaeRy5bsPMctRgbJtK/Hjj58ovYiMRkryPTMkPyGdPQXdKZ/9i4tC675s+0J1mWuls+W7J0JcOWQEpQKVI8hfDJ5Nqw0Tol7Z8VtRi95xfeARRhuOZihgTmK8Gd7jRP5OeuUdmR7sHIb/jJzSbh9VL0BMZfc0mEDXFlJL/e15R7MLTXUHULICWoFCmeQkiD0jrCVkP7NiNozkfrDScyIg5RlH7hmPzJrmnkt1PTDBfiCTHoTMO65Ks+WwIpQaVI8ZRDLXoiE2ih899oIWTXaiaD1rDJ0MGm1XbzkRJUihQppixSgkqRIsWURUpQKVL8ncEWZdbrHZnJYLTwo5nmYtLNR0pQKVKkmLJICSpFihRTFilBpUiRYsoiJagUKVJMWaQElSJFiimLlKBSpEgxZZESVIoUKaYogP8DZ1P6bORoKOkAAAAASUVORK5CYIIfMHOgJoVvg00HGGMjj8JXL6pJZeqsLf3ksgP/p1Z2g461vA4kdnTn9DnWtCvN3kB8qHePKDbV4syrpwJCzxPFnLSwXViBwjdloccO6LUr7BKJ6ErrQxvUUK+pofBrQ+35Tl10XydaMRLatGtSJmTGyj9O+Lt81zhKCqmE8hMmZkEVfl+5fjc8/LQ0FyfK6becJM+MfUGaUyh86xLtU/LryJP3tHsfPW3b3uzXGRWT36akjL6wL9JHeeSO3e8UadERXleUq5++Qm586froZ6A1Ykr/bNNeKbvoFx9L0/zm4Ye+Cpg5UPOUPsIZuZq1kYbaK8gsLYPlxt1u4Ua0poabH9+I83OAvLuqkZetJ2O8p2l6Uv+elGN6QXd9ALyNOGooNOVk11N3kS/TX0hbSo0yu12Uoa1NctMetyrjpX42hW9zIBgmNSL6VbepYXTMSMDT5pO5zghdI1829R6xTXTdSeGrh3/N01fJ9a9cJ+NSJYWvyh6FH/GIyi5T+HrWrvADAmYO1CjFGFoabGzqQNVxgxBkwOp/0TgkIIPZgGMbajRSrwZo1hAoox01jQfSRxKiBC1sksB9PcbjdhfK86sUSoKlptCpjr0RlOzPHawPKpUtFrw/9BTw7nZbGx9r0d5RBQ5b2UwJz5NEVJTi/tRgCcte/aoxxBVTQDXQmdpeNYaedX6JX0qHgICACDV5+PYZFdbANCYyOK1CGbk+tG2IXLfr9ZFXX5eXGx++Vt7/8WP7aIr/DGvvoCcjt2SQUGS9isoQlYPf7c7pzUJygqSKfAikXq19p911HtEOX3zOruuEkupJvaPp/95qq67rMCl6Gr9WeF26qlNCFui3oGy73nZ2VeiTk7+csL182/SteWU55TdKN3hig9y8z+3mvTUX1MO/7eea0g+YlgBvVPPwrx5+ldzw6nUy3tbwcU2Ul4KHHxDQvcLHi+djKzmNhVxNqDblF9pw0ga1Dpbb9r3NFH6+rlUO+u++8mbxfT7yZh7bzwWGeIR41dRP0LJnUfrSzCZuSeX5BG0cldJpvBTKx8RGSUF3jR4pfPuve5ozIlbsv4Ic/YdjrbkL/XLy5+P+LKP6fGftkePVKuW7wRPq5eZ9VeG3JqW12KIK/2QZ/sOzXSr86QXOJz3Z8zE9oFaDi3rXWveOMR0B09v7vE+uj9y2a2QU2qa9J6+Um16P1vApSVJ5KZnsUPiep6/f946xHRAw7aMmD58BkbcQXfO507QOmsFtg+TmvVlf1ZuZvBx32RHyzMSXpDnRHEX8mRAtPXQBfW7CprSLp7sGQD4wY4EJU4twYEq6FpC7fb42upzpsPKAFeX4/ztJz1TB983JNkdtI9/3H20Nk5OUtnleBo7PyO0H3GPCnN9OP+Xm42X4GFX46TZEN+La/o96MsL0okCDwu+Bwtex2qH0aTeCeuh6qynbR+7a4w7lkbRIncjVT10p1798nUyoa7bv9fDp3mhOEsTLFtEJCj9gZkG3Cv/bb7+1I5FQ+gw5H6SDWwfK0ycMj3bypXKy+/F/l2dbXpWJyeZoKNUwkKaGrCPbki6viHi5ahc4pZOaUHtkcu+srmYerDF0Vblot0uts5rrJsoWh24pX9V9KfkCn/lJaasUZfb8AHnk6CdEmtV7q8/LkVf+S+744B7z8P17+tEP+XRgelGgERui9HrEXNM8alWgPemnzgoflLxzbTs8/OePe055JG0e/nl3nyuXP32xNDdklY90dJkwMHO9FCJE5azNOAkImBHQ7bw7g8KDDzcs+IJ6X0z1G0pjKJfV4aXx8HB57mtklYIPvkrPeiVYGSuHeJ0qPa8YKuVRNXTQ7y7QVpVpzAwhJnz1L5tt05CVfE55K08o2LVGtDitba0ybtw4Mzyt3bRfon7uQT9OQyHiAc6nz/JPaaCPK92vFKKxouftIbr2cR4Ha/TRuPIAC8WvQwhh5gzdKnys8LgljoBCPEfoENiSSklDU5MNtlosd827VAg/9l6YGui+RpOHym3Fvei+vQkRu55RgfdW3nNR08AgXIgZADk1BmYcUDEP0wqc17rit2mpvCVMg0UKCJjWULOHXwkuj6NQlFzJ67dPVopa3voXHfl/0jFpU212My5kpjx4kWqBGzTdhUogD+rGn19zHqXB8EkKX/jiDYfouha6Xg+gRyMaXUf04zl2RnWa0wcqlRxPreKDgKkCmlq5KDqHn5TTWDJxs5O1rQQ7Xn/iZYhquUX3o1L7WUBAQGWoQ540r7xaaAeCV717H1oEdurbiLNHRZlznrktHj4Yr1Z5YJ3NPpdKaE/CtZ7wvP1e10ElTc3BlV93oVawXqwJOgVeRMin1LgpvVfOkW93d2wa5NsFiMwOI6RSKKcblS0yEuxaD5GKR9iqAC5Ftf9iwelF6Ts/nuRGD0O8zeJB/2s/9jxouZRvKDSbFz1YBe2LjqV6lwxOHnFOnPYyaLz281IImDzQclHQsa8n9uVMHc19Mhmp5y79oEY9WyqjV+KifilHeX90FWpHZOZ2/HnuJRruPGixaqVK9pXKFEIIM2qIafQIePPxtbNO8FHWMdraj4w3n2yt11CnNzKSkroCWegA5YMknTxVuxs7770wtVCeDz8Qk0tm1ajRtlJFnNe/bCpr553qqqdR/EmD0/JQDfxQTFI9KwQwv1yAei9P25Hezzo/iV/1NFSDVqEdldJ1FdoRuyinF/DzwMZmkc9kt8mEbLO0Ke/B5/z+fMJGeg80ay8gkhVlf6Ux1F6QwDABAV2ik8JH2WMFVAJ3/Qmef6V4DEDu20swpcdROn7fPKVB1VTJW3NM/2MUT7Tk2ZsQ5Dqp1/5ZkBKqtGvtYJ6AGRabP9FQZoxNgt5r2SktecD0g0iVGidHyynJlBTTacnCz/A2/B5F/aln9SdBxex/5jIFBEzLaFf47tmzK9rOS4HxE42h0rSAnUdKn2n8OL766muLU0ylpTVfkGQ6ZYov35qXdJFpwsqGwvSKVDElmUKdNpDWmR3D2hx1xXr7Kc9cLmff/7bf5KbtSmmi1uzcbrUC+pHA1baPUZya6FEupcgzTg/PXDDO1PFaTCrf6thNZxqkrU17sxD9Kh0TgnyxLpGo0zO42lMFBARMD2hX+My8F9JJqe/TpNZ9xyA2IaCBH5TFEOAcpX3DDTfImWedSZR2tLQ0S16NgPGq4JddamVZfek1ZeVl1pCVV1hVVl5xZTnllFNkv/3205g/vUqYKoaGNgZKv06Vfl2hXvok+0hdPiX9tTH7plL2hT5bl9aICVX+0fvi8aAEyopF+1aCKflkWr2sjAb/+eGeoBrlrtFdqsgjVONQ3T3+vDo/fQ9PHRjPY2nNLLC6JuxtCBwA2y/BLabv7AlHfnmODamczyg9HRAw4yOZxnLXgftNpkVal51TUgvMKm0pxjfrdR3KibEdF3svvfSS7L3X3qWrCHPMMYd6/glprK9X70AVkm1oy8sh/zpEXnjpRTnq6GOUCB6xBvvN/HY5MtXBjEQ6rQqztC+ht4S4fUJYSSWUPu8VIwxznOsZ71cjIKOZEmYBUNIEF5R461EbxAMGV+c/EKUvan/Z0dJPCqNndInTEUhPCj5Da0HPvTTdhco5RYg2ZHbwSWNTg92vhX5XdKcFMC58+YoNa2ltXMqNBow2Z2rfmDbsPZAfAUyyh+YnQDRrF/WMz0sxVjjr6K/Scz3QNj9FCAgImHIkcyq4vm/MS9Mic0uif1/58OOPVUF0IFI30R12RHeFhgYV9ha9IC+9/Lw8/cJwGTzLIPnnrjtLc1ubjBs/TpJ8l9fIuCL7aYDwNI+lJFCnVIiYwcA/jkqKr8OZotbzrNIvJFKSUW+8qbGPLPbLxWWuuefRuAivlBoAKORq+UOPtin/A6TxUB3ELQ+kWOQXC8vss88eCVG9nlJ0lEz/N8VXtI/jeGmnd9C3trQFr7AvQw96pcH3URC0rr3QmPAm/dK3b19ZYoklZOjQoe2K/6dG9LZEUhZZZBEZMHCg1q/ELzC3nXUEV8jxACrdn5IQEBAw5Uh+VTdR0ovPJU39BkjrS5/IkBb1hFWOsT0M/4IxbqJcBV/5mn01tLS2qmLPSDabkwUWWEAmTmzGdTGlUCi2qOxUpZBgB3ApQQV0JewQAD0RhlZ2DblcTpZaain517/+JYMHD67qQZkSLx27Ejqu7PjilxsRruzsU6DqiS+yyKJy/HEnyi677Cr1DfX2FTl7bv93IPpxD9DxxMtRK7y8js7pE7LnXnvKhhtu2H4dxfX45SWalB7gXnsoGSb2VoKFUp7cL8UB9nphib7f+ykRz7Ocbyr1qyOVSsmWW24pf95+B0k1NaohpzyUot45SRX5+K+NEAtd0QE8J0CzPG78/uqrry4nn3yy/PGPf+wUL35OfZzf/H78vDsQL94m5X1SyOdtg+0B+x8oyyy9rOWFoWN1tUFLG+q9WLJ43k6vUpnK8y5HeXzQVfyAgIDakZyw1BzSv2mwTHzzc2lobpFMKq2STge0/osPvkoDsRxs2kMB4CHwyUtNJX369FWvr81khXnY6uEn2cmm5KoN41Y1GOJAUccFNWUhVFPY5SAuQoMjHu7yyy8v/fv3l/p6XiCMAH0Xui5gOPqsAPc5ejnq6urseToTLU3Yfb22z71yVBJs5Pvqyy/ktVdflpdfesk2RBKflkQJ8pGirNbN88ObJB+exctQK+wztIrKaYpa5nrJZOq0TkXt4khgR56lKw+O0TnLHzynTWj/SvB2IQDLtZS13/eypNMp+717jMae1KkWQM9DHPEyUB/OvQ89VLvn8Rde6Bey7JJLS0OmXssOLX3OclTR1r1UMdLvJd7WtN4HlWC/918BXm5ofPjhh/L000/La6+9ZvkDjsRhyYjz8vuU1UEZqiGelnQeoqWoDvi4isZDxIvci8dnjDoth8fhucflHtfQom28zOVj3OFpWlpa2mkEBAT0DpLz1g+Tr597U5om5M2zTyRaVNfnzGFDdJQct07wQVg+4OeYY3aNm1ClosJSEx988EFy22232QBm128iV5T65oT0bclIfVYVrHnB5dTFFDGCyxVwPB8XyAQXyrWAdF5uBBBKjOtIsUVCinvQ83w5en48j8OFGGkAwow65vS+50Pa70aNkiOPPEJuvvlmu8cz6FmbqFePZ0/sXD6iAz02+3H0vGsB8ZKarlDUfiwpgHjaqERRX3qdec6fJjIjLQJCVm/lC5LReNlsXo/suYieowCsXOzmNhraTygFbR4C9bLMNLrlqUeWO2ifejWSMHhIPyk8fz/WDqt7e1sRoK/l1Gt+1ZE7WYwNq5eWuah3vEHKQJ0I8f7OaB9pT6maT0lTpkn1fFpyeq+QjIwibxPSZTKZUqpJgZEIXdrI2t7KG8HaTfHWW2/JMcccI0899ZTRA36EttcVcE5fOt8SPG4l8Ix84vkToBun6XD+5h7PvY05MkbjeXFO4L7TIK3nibHD/ebmZqPrBnMlcN/bMV4ezuPXAQEBPUNy3LPvyIAW9f5UviHUot+6921ehOj/uIBsH6hlY69ZrXJg39vXsPTSS8q7776l0QpSX0xLY6FJ+mbwrBtMmeSzfEBmUjCoyWPZZZeVyy+/XBZeeOF2gYhAOeGEE2TPPfdsV/i1CIHGxkY566yzZP/995dhw4bJVVddJddcc42tlbpiJ89f/vKXcvvtt1u8O+64Q6688krp06dPu5IECO3f/OY3lv6ee+6Rm266SXbZZRcValkVZCqomNJOqGdTzEpDY71cfc218n9/+j9pbYu8FlCnAu2Xiy0mF194oWy4wYZyzdVXy4P33y/333efbLXVVjJgwIB2IQxKvTBJABxnn3U2OezQw+SG62+QRx55RO6++27597//LbPMMovFsVw1Yn1jg2y62aZy7XXXaZx7LN6ee+0lffv0NeOOrqM9fveHLeRKrd8DDz6kca/XMm2jbYAQLsqQIUPkwosukj/8YUu54vIr5JZbbpN7775Xjjj8cBk6ZGjUV9onrHbPM988csKJJ8iDDz0g99x7jxx77LGlfQQdHAaszzstGcXPuwdr3+efd75s9+ftjKL/qAo/yPOH3/9errjyCpl1Vm0L2j/Ksh3t/KzgHEXFkg88svY6a8sSSywu1197rRx31DFSUAMoUVBe0dGipoNsvPEmct5558khhxxifHCRtksc1Av++cc//mHPH3zwQTuut956nfJ1Hqa//vvf/8qSSy45iZEJX8DD2267rRmQDzzwgFx//fWy/vrrR+2n9OI0qwG+mnvuueWkk06Su+66y3gAw3yHHXaQpiY1aJQGbUc7MBP217/+Ve68806LB79TDnjE8+zXr58ccMABRuvWW2+VSy+9VFZeeWVT6mCdddax9HvssYfcrzxOuWmD//u//zM6nh/lYt8AbUg7Uaa9995bBrKPQEF+3k4BAQE9R3JwLikNKnwZR0mVFclig4ox9SSYutRgS3eEmBxhgNqAL107vv7qK43GdDFPELatqiR0oBZzkimkpV9mkIxVIfb5xNHSnMxW9YagT3j99dflm2++MeWOIELZI9wWX3xxeeWVV9qNAIQAwqKrgIeBIEXQjB07Vk488UQ56qij5Mcff2wXIsSjTAiq1VZbzYTbqaeeavG9TMTdeOONZaeddpJnnnnGaDz00EMm1NZffz311LPmZau41KBecn2ded71DerdptWwoJ2VRk493v4qKGefbTbZSwXhO2+9LYcecqg8/vjjstWftpKVVlqp3RCxgBdZFjDGUGxNasz8/e9/k1VXWVXLfJ/stdfeZiix+QtFRLlBRuu15lpryU5/+5u8+PJL8u/D/y33qoHxm9/8Vrbe+s/a8Elr0823+J1ste3W8qiW5YCDD5Hnnn9R/rDlH02IU/+00hk0aLAqnj/Ld9+NkpNPOsWMhxVWWEF2/OuO7e2JYXDoYf+SIUOHyIknnySnn3WmzD7nnHLk0UfL0FmGaYwODooMy5IRYLcpczx0je+//16+/vprWXXVVdWYjDxhZi741ca11lpTPv3kE/nhxx+sT6JfW8OrjhQN7cPR+Qke+O677+S4444zPvvgg/fV6z5aLrv0kshIzRcljU2jgWUS9qmwTISyO/30042GA9rbbLONlmEte76XGldvv/22GZT0j4O+BhgHGC/woLejg2coahQuSpO9KNQZhYzhWh6/EoiDwXW09gGG74VqcB555JGmkH/3u9/J7rvv3l4WxtvflFcYcxjB8DrLDVtvvbXtNaC9MIQxZuBXjOPDDjvM2u7QQw+VX/ziF0aHctOm6667rrz44otG5+WXX5btttvO9kjQRvA4Bj5GCL+IeLgaj//73//MMGL8e5koP3EDAgJ6jmRBrXiGUlo1kf0VCSWZ2wWwus866+zSVYTZ55jD0qn41IFZlB133CESqqpIllp5GTn8jH/Lh19+qMq7vxTz0RooXlKl3BAmKGne9+d1v80228y8DYQSnsTDDz/cPj3qgrorIFTee+89+eKLL2xaEYHD9Clrhf7cgaDDuzjzzDNNQEEfbwcguPCEnn32WTn//PPteNlll8mXX35pSn9SoUvZSrWkbfXPlHUs3n/+8x+btXjhhRfkavUqyQ9hOWHChFKMynAaHOeaay557LFH5ZprrpY33njd2g2lgnBfe+21LQ4B2njZZ6hiGqEGy4X/vVCefPJJWWrppSigemt9ZYsttlBP7D711C6Rl156Wc77zwXy/ZgxsuJKK9t3Fhzfj/5eTj3lVHnm6Wfkogsv1rJfI6ussoos+svFJK9Gz2abbyINDfXq4Z8kjzz6mBoX98vRxx4jfbUff6958GNLcUy6KZTr8nuVgUKAJ1BiSy+1pFZF02lYbtnlZI655pS7tT4TW7Wvtcmivq5OF76ird555x0ZP368tGi6V19/VT774jNJqFVMQOVYUOUDD2FAXnHFFWakOsgHXvrVr34l1113nVx9NX3zhnnA0I0r/J4AZY0XDO+dc845ZgwvtNBCpnydJ7oCxgHh2muvNaP2ueeeM3qUi/6bf/75rewEjN0jjjhCLrnkEnn++efNOPjggw/aZxUGDRpkht4ZZ5xhsw7QQlFTJsatjyviwt8odJYrjj/+eOXXx2w8z6lGIGVH+X/66ac2FsjrxhtvtOUNZjuWXnppo+H0AgICeo4kU4goC8K888wjs6nH2Z0FzaDbd999zVuJw0WNCwsHXu2IEcNlj713k5tuvsF2ASNweX+bGYFqwhcabF5iKvG3v/2tfbQH6x9PiTIimD2feH6VgLBwxc3rg/EpelfmDujiheFlkQ/xCKQnXHzxxTadzz08O7wghBboLHC9TNXLxgwD05wOvKNRo0ZZ+arNgMSRVEVHnt9+8615XQhQnxn49ttv5YILLjDDBrCOjrBFmPJhFQwP8IUaK2wYTKlnzBT4hf+9QO5Sj4/9CCuuuKLs9LedZDY1HDQj6y+vIwJ7lHr4VI82ZKajpaVNVlvtV1r+Oi3PmqqUnpcPP/xY2zTq6fdVWVCGpZZZWvPr2GwGiGF9QughSPfhhx9onb9SL39lqctgxiZkrbXXU2NlrHz00cdG1spvT8ijcz70LX1P23m/Uy9mBJTTpCWflRxLNRo3r8aRm5koxY8++qg9jQN6gD7AM8Zg/fWvf20eOgrRn/cE8AtKlbT0w+effy4TJ040w8I3xXUH+GuMGnAYdvAMfAbPwBfw9siRI+2atsAogH84J3CfMsCf5Efe5557rqVlZoLZL94wIG68flzT72zW83Zlhow2QfZgNHHE0P7hhx+sHqTBGP3kk09k0003tfygGW/jgICA2pFEWOGdMnCZFkXhdDegOoRK53j2Hr7C/FiNEwXNROOx4qkqVhLq1SWLrN1Hnm93YJAzVYiQQbnikSCQXODVCuoUD542fl4JPEOQuwImX4yBnXfe2aZV8UDwoJm2hNbkwsvhQg3EBWYHyKMj8JpfS0urXKdeFcL/L3/5i9x1193mca255pry6quvWnshPMnDd1dbna3aeKsJ21CXz+fsrYGvvvxK9t1nX1tHPeqoI2WdtdeyqF4/F7of882G0j3oQ3DUqNEyy7DZZMCAITJQwx+2+KM88vAj8tCDD9nxkYcelt9tvrktZ/TTNnNAxt7s4Fi6VyuoCsbZmB/GyCsvvyzLLLu0DB4yWIbNMlSWX2FFeeP1N2XM6DGStmUQh3Gp/TlQZvAwR9rH+8TONVoUonPjXj1aO1YAaeEbZpNoczzaW265RQ466CDjYxC12eSDPJgFcz7h2vujKzDLxfIW+VMeDGim0OdRgx8FS5mpF+3AOfB2AJ6P148jSwPsJ8AJYHYKBc59B+OH5bn47nwMUsrObAOzChhB7AW499575b777jMDkiUuvHuMAQyKau0dEBDQPZJsDmNDG4qGAY7Hz3HyYVLQAl+fi4AQUgWtQf0GSamwsCnXdnFbfRAzwBEgbKLC8vdp0FoEW3foqfBAQM4333y2tosA4shMBzMPTP9OKWopjwtbAq/18WVDvKW333lbDjvsX7L33vvYejOGHMITg4TZBxe+7e1GVpqf9oT9Ra9RFmW+eedTJX+0Ct++cvxxx1v9/vWvw1RJfG7J4qC8hA7a3EtKQ32DNNY12I54NiEeeOABcvBBB8r+++6nhsQ+ss/ee8uxRx9jszUVYWWsvW+ITt9MnDDRPGmU9uJLLC5DVJGwv2HE0yM0gioojZey1+o69kGQj3MhygdF5Yq4o630OXXjNBZAtT7ztmGG5OCDD7a6sna9j9af6X94ecrGWXWQr/MIaK9HCfTX8OHDbX8Ha/YsSbHfgqUC7iET4oZnHF4vAN1lllnGjF+8cKb74TlfZiB9Od95Wi8jhhpHv4+heuCBBxod2ooj7cdmRcqEgVNen4CAgNpgHj4DCKVBwJOuNNB7ApQIPj1flGP93n7QVYVrVge1B/t6GVLUUH0AM+X3z3/+06ZMEUxsHGOTFALCy0n5OffQHRBCCPVaBW5cwLBWyrLHaaedZrvh3333Xfnqq6/sGfGmljCyL74xtWzHKPj9xqZGOfyII2T+BeaTTz/92JQeO/TZTMWa9gYbbFC5XPQBtLT98wUmrROynHrEqUydnHjSSfKweuRvvf2mvRtO3OgHgiKvkvZnA5nXmdkPwsCBg+TTTz6VkSO/s2njXC5rXvcLLz6n4Vl58403bM2Xtxw6XgXUPrFXCiPBz74P8mqr8q52Obxuac0fw+fNN9+yWRfy+Obbb/T6dasqMN60ekSBO2hv8oUvqIMrKcA5xhAcDYl4wIDoCqRloxrKHcMLJcsaPjNpeLxTC94/gLaB172NOKKkzz77bBtbKGpmHvDM2XDI7ANvxXi6rkD9rI3Vc2dfCFP0LMH5LGF84yHX8KKPOcYpnj3tgAxi1gzvnz0B7K8ZMWKE7YdgDw1tyNsz1Iuli4CAgMlDkgHH4MN6RuHXojC7R7tIjASsBROtnUKEjrNyICxYu0MAMe3ITmK+4c80JMLChVhXqBSHurpnUQnl9xFslMXbCnBOPAJTjbya1BWIBw1PE0f5tcOFpUFPiUVZWPtm9sSvWcfHi2enNKB+pEXwsvGPslXsVyWgpYlOS2WwPDUkk2mrI69PMj3er1/H9DtCl3jsPKcf4BvA+nRTY5MMf+opvSrKC889J6uvtposuvAiws8jp5Mpe8Ni0002kZbmFnvX34FSRRlQL3ubQY91NQr3Tu2kPPfoo4/JUkstIyuvtLLNMNiPOuWj98kpVxS9VG/+Sn1CoJ28LSgD51Y/vZUoC7UAetDxI23qO/E9H0f5dRz+rKs0nFNHjBbAOXly7W3k9zBcF1xwQVPqlI0ja/sc8fDpC6dTDdAieBmgS0CxA+5zDeAZjDDqD39CmyUnDA6MZuiwGXDzzTe3zX6MT+Kwx2CNNdYwo8LLHhAQMHlIsgaHUmDXMEdCReXwE4PBzboeHgSvBGHtI4TYwIdAYBMfU7dxgecCxwURwUE8AgINgcsrQIsuumgnocZz0rjQ93bwawQV69bQYKc+r4Dx9gDroUz1M82/6CKLaoqOfF1AkZ5zaBHiZfR8HMT1ssTBZi/2MOCxx9MxDc3rY7/73e+1XH8xD47XmfC6eJsCj5+8odkZeq3/mNlGuRLnrTfftNfadtl5Z/PE//SnP8kZZ5wms806q9ZxXlMUXj6UFsYXQpnXFLfddhvN60n54P13ZeL4sXLnHbfK96NGy1FHHiUbb7SJbLD+BnLA/gfIF59/IbfcdFOpDBFoU75lcN9999rbDnk1Biyf0vOegA16eNWkf/XVV7ReJUVh5Y7ajGfl7evgmR8ZH/Ab/EIfe3+CaumB9w8b1ZgRom4sR/3973+3Xe8oNN455y0K4H3pecfzccT7vBxeHy8TY8XX5+lHpwuYkWKmgRkgNtjBL2y2w8uHx1HA5E+fAM4r1RVDCK+eJTdm4eADlgiYkkexc5+6k5Z2ZHmD1/bw2Fk64NVXxvbo0aNtWZFd/hwpN28LwHssE9CGjz76qNWhWv0DAgK6R5JB5MICVBrYPzUQMJQJwY+XitACCDG8ADx9hEt8yhAgDAguGDgitDjnSHrW2pmiRjCxUYm1Rk8LfFMRSjROG1rgs88+szVFPFteH4IOGx6feOIJmWfueWTHHXfsUPd6Qr68btba3PlTpNBzQ8tpOxC6Xg4vF2m9PghFT8N94rCxkSUPFD3LDf6BIc6ZFgXkRVk9Lf+TduzYcfLDmDHW7m+qwmdqd371/qjf9ttvbxvxnh7xjE2r8k45oC151YyysiaNZ8bbBldccZkK+6KWMa3pRsoxxxyr7f2R7LXHXirID7GlGb486N6kA3ooCQKGE18bVPUVM51qB+/e0y7vv/+ejBo9qnQ3Mrii3yyIqMb7oxy0C+1Ev3Jk/Z22gOccpKefUHzEidPjmjrxKhqvqeHN8vPQvHoG/8GHeLxcA8+P/iGgIMvLB0+Sn98nPumIz1Kcg+dOjzJwHadF2/MqKLv9MSIpFx/FYfMuyhavm7QYTeTptBzkRzmgzauQvAK60UYb2XcBNtlkE9soSj/zxgi/3UB68odHMZpYblpuueWMfzDgvbwY9XzECIOcMv3+97+3twS4R98B4gUEBEweEip0OmubMvj6dCUMbR0ow08YoRpKB2x9Xo7737Fy2xu3SUuaH8fpEEjliAuPSvC1OgQpAx0vnHOUAYAmwgZl7e8MxwVaHMRFgLFOCIiLokFwQ4PnBDcynBb5kW9cKYHyfHhOWmhxjOgpHfvJWI2vf0xzM4WNnnH6Xg7SxOvm4Jr7gDiAdKTx9vB75UcCgtrrxzU0PA7gnB3+lC+dipYnuMc+gSxpND59QF8wHW6fqVUlTP6zqrfPrmwEN0La6aP8i3xkSfNVK0fzZtkhba9hUubIu1bloX98VniNoavJf3e+WOMmpK2xTXY65W/ylyN2kNPOOkU++IxNgkUZ2twgTx//rDJFRiYWxsvBF+wvT3z/jDSnou/Sa9LSBtCIp6jhb3+7keyy8z/N2EFhkxd5z6re5pDBQywSmwutvprO29f7n+810H6AONyjveEZ6u/1dRgdbTPi0QbUNU7TnwHiAu7Rxxy9n4hDWuK4QuUetMiX+Jx7XA/E9zLw3NP4M48PuM896EGf8nLt/Eu96Xfic49nUb92jFlPz9GvSevwfJ0GRigb8JgFwKigPOTjhivXztPQgTZH0nKP5w7PE/hPE/fL9pUXj3tBpFnLoMbmfx44Xy568r/S0pAVNcWUPygb6YjfUY9JrwMCZmz0msIvNhRkv/P2lUc+f0RlswqI0viPD1ZHufAoB2lcMBE3Lky4h0AgDr98xy+LITgc8bgAr5apbT5S4oKEI4jH5TxeVhdWlcoPvNxeF669vHavVC3OmSJ3ARmnxzl5OI04nFYcXkbu87y8rk6b+8Tx4PE8XUc524tp94DR4DkX+h/T4cSNEB3xwPHA2IjGjEC8rHxwqZ2m7eGINmlxP0KHklpt0MpyyW6X6y1VcA0tcsNrN8lTXzwpT454kl9zsLi1KnzKySuJv1x8cRk0cKC9ovevQw6VfJsqETVUUPh8LXAHjcM1YJMf/eJl9yPfVcBIpN28vWiXeHt7e3W0TWf4c0Cc8nhOC7rxPJwf/D6I0+K8nJan9XOeQ9/L7PzOszgt4Om8rl7W8njAn1VCvG3i6TnHy2cnP4ENi25AeLx4W3Duz+LnlRAUfkBAz9BrCl8ai7LDUdvLG61vSEuqNfrJVIULlDjiA7iaYCm/z3X8nitv7jHFWO09eOIwdc56vwsUjpXox9NXKkN38PiVytEbKC9jefn8WXk84PfiaSrR6ooG4B6vcLH+y5QsijEeNyLjeXDfafO8M71fqYd/8S6X6u2EjE+Nlz8ctqV8nvrMhDZvdRC/VoXPDzZtv8P28svFlpCJoybIXTfcJWNHjpFZhg6W9758V0Y1j5HmfJs09un44E15/fw+Cgl+wbuk7PBMb4J8ozbpUHLl5yAez8F1ebkrweNxrMTvUwIvpx8rlRNwn8B79Gy+5QNELNGVx/XrOD3AfT+vhKDwAwJ6hl6TZAxMPKdoWE3ZIOpOOCEY8IQA+TIFyb1KAaHNdCHnLkAq0S8XLN2VoRKgUU6nN1FO2/Mrz7c8HvB7leKD8nvlzx20C14an0jlM6igc7rSiYG25gaKtDI9B4Iewyz6gZ6eAyV9ycWXyCEHHCxnH32mrDnfmnL1iVfL0TseIasuvKLUJTJS1xC9XVBeVwfPKIdP3XNO6G3EeStOv5znyq9BtX4ph8fjWInOlMDplR/L4ff5Uh/7PFD2ldrT+4P48frFzwMCAqYcvarwWRdl/VovSnenHlxIuFDoSjhMDaE9s6K8vRHS5cH7pZbgwEO3TZiTYSzGabHfQJpSMmSuYVKv3vyw+eaQQXMMk2I6KpdP4cfzjoPyu6KP8025ITk1AmWqdH9aC17OWsoLMLoJAQEBPy96XROqKO1SoPYW4vQR0t2hljgB3aPWtq41dAbc03PE6eSTBfmmbZTc9vQ9ctfTD8j9Lz8qz7z7vLQUorcenDcr8Sh04vfLnwdMHuLtGNo0IODnw1RwfVX4TiLIexeTKoqAmR3OE5gMP0wcIy98+LxccOsFcurlp8kH33wkbcXo1Tn3OgN+eoRxGxDw82KqzHVPbSsewRGfdp2SENAz0Le9GXobLAkM7NtXWmWsfDTqbfn8h4+lJdsi6VT02lk8BAUUEBAwM6FbjRcXyl0J6UgJJ2zTHiBe8KZmHHTV970B+Ic9IJqJ3ykdJ0XXalr5kP8ho/+xk5u/KUUwDqY9uLQp7xm71i7v4Nkp7/+AgBkBNSl8FHdc2PtAit2yzVAd6r4DHXE7wuSAdL4RqDdDedlCqBymPqI1fc8K/cqbGNGX8bghUl9XLw2N0U8wdwVIRIq+A9Ct1Pe1IjJoO88QhPDzBnjCDLFOxljJcFR0fEaZAB/70UP5dQghzNihW4UfeV5RcHTcK91QIJxTKb4WF31FzeN3xA1hWg58SY9Q7dpDLShPUzUgsUtAONsMkd4nX7Q1O7uzuSwE26/5OqCeVoWytf3fERyTpmIAlBsB1ULA9IOE8pF/7XASnusUgnwKYSYL3X14xz8x6iCRY2jrILlj/7tKH94pyL7n7idvtLwmrXVZyRWi95i7Q5zezwGEfoD2Q+norVF+PTWU3qoDV5JTtz5dM0lIrm9WNj/w9/LDgDGSqFPlXvrwzsBxGbnv0IeUEdXTry/IkVf8Wx4b9ZQ0p1r1qZaSfyVPzlFIYBR09Kuyuf6p8Nd8Jhc+YAKmHagpZkc+vPPQ/g9GH97JiFzx1OVyzfNXSHNDm8ag33BAIn7q4GhQfh0QMGOjW4XfFYa2DJQb97zFFH6+Lifn3nOuPPDR/dKcaal5GLlR4FMOIG4oBO9qxsUqA1aQE7Y8WTtfFX6frGx37A4yqu9IySfUs8c7U34Y0twgt+6jRqUq/JbiRDnt5pNk+NjnTOGjyuGYREnwO+LK3oHKD5ixUKTftVv7tfWVO3e/s/1Le9c+e7Vc9/K1MkHlUEGfJxPpigqfWSWf9g8ImBnQoVmnFDaOJhW0AQG1wGy9XtLJkUff+S8gICBgZkevKXy8qqDuAyYfTNCjmINyDggICJga6D0PfwrB+ihT+eXr/n4vhKkTyvFz7Wlo9/BZJw9r5QEBAQG9jmlG4U8OWN/vSkH5DuvyONPivgDfEBYva5f1I3qye8XYnQLnaTygbMvv2f2AgICAgOka05zCdyUNeLd/ueWW6/R792D33Xc3RebKjNe1yndQlys6v4Ym6E4RxgFt4nNcbbXVrHy8hki+PUE6nZaVV17Zzl2Zx8vh9+Jt4Nf5ogY9Wi0L0fQ3G5F4Tvsss8wy9otxnmaDDTZo/93x8raJg9xrCT8FuipnQEBAQMCUYZpT+PGpZpTqYostZj+b6opvvfXWk0svvdSUA2Ho0KFyySWX2HPHwgsvLNtuu207LWgccsghFv70pz+1p+0Knh/HRRZZRDbffHNL89RTT8kVV1whbW1tVr64cu4KxDn//PPl2WeftXPSLr744rLRRhsZXe7xa3F77LFHe7kJW265ZVT2gw6WhRZaSHLkpZ691beQt0/G0j5uGGGEULZ7771XzjnnHIvXU8MkICAgIGDGwzQ5pe8/YbrrrrvK/fff366gCQMHDpSJE/+hKT4AAEKNSURBVCeWYnbEjStd7vk1afbcc0854YQTLPBdAT7K0R08P5Tu/vvvb/d8JuH000+XtdZayzx2nnOvO6yzzjpy5plnRopaQRlJ58oflCtmFPi4cePk+OOPl1NOOln23WsvSWXSktCgpoh9hCafzZnSv+eee2SXXXYxWm4sYJisuOKKVl/PtxyUvJYQEBAQEDB9Y5pU+O4541mPHDmyXaFyrK+vt2eu0MeMGdM+le149913240Aws4779xOAyVdK0iz6aabyt/+9rf29NB94403ZNiwYZ2m0LvDLLPMYuWCDvE5vv/++/bMy4kR8P3339s94jQ3N8uDDz5oZZ5ljtnlw08/kbRWO52Lpvbz+l8iFU3rf/PNN9ZeAGUPPvnkExkwYIDR9nudoUaNskAtISAgICBg+kavSXJTHei9SC/2GlzRVoIrTwyE7pQuz/fZZx957rnnTLGCrmjHEVeWngZ63O8u3zhQvMDL7fD7ccTL1qBGzjJLLy1nnXmWKviUZCm/Js9UUOKk87RxGpVBGci7lhAQ0DtwHmX81BI8fjk/c2U/khRHdywfEDATo9cUPhvGUzraGH/lY3CyoIO7EP8KltIvf9PfBUB5nnYeG/hcb7LpJnLueefJ19983f6sGItTjoQKmkUXW8w87nxBFSx56T+m0qMI0aFWRGWMl9LvdaD8Gsw626zyj3/8U+6/917JZbPS3NYiOY3F98Jt057G8TQYDn5uBol6/wU9cl6eN5j0zk8Lth62t2PpyCHqV56VjqB0oNDR3eiGn0fHKARM24Af4dVag/FvKVRCpT53/ojg6aO8O2j93CMgIOCnxRQpfBsupXHF4UdVjihR7pf7h1WDxi8PWA8oKxuSem739Txf0IGKIRBPSxxCLL1dl+KoiyD7H3iAPPf8C5LDM+YTmyhK4uqg9zTxYJvi9HDAgQfKmmuvJfsfoMc119T0CJ+IphbF4rWXRVNUotUe9Hkul4/ildJYOUvP7bwUPE1dY4Osvc66ctqZZ0heM3ZFiLDiui2X66CvgQ191IlntrmvVM/m1tboWSwuoZNM7EVYHWoI7dBymD2l/5khY15ddF06KUWEthoyWq+UxqkWOmIHTKtwY31yQWqEF6GdUunEPqMbI6/DoaTkOxsP3A8ImJkwRQq/HG2qWCKlNYWDWYU2ynG33XaTPffYs31Tm3msqrj69Olj13EUTQNHcGHCMadKcbFFF7PNfqxxr7/++qY/iM3u/mpgff4vf/mLHH/CCXLKKafIk089ZfehefHFF8vtd9weGQxaHqYdN91sM3teDTfddJNceNFFlm/F5qkgAKHL+v0SSywuv1h4YVlksUVtOaJ///6y3rrrmXJEcIHtt9tOzj7nbKUfXffr10+OOOJweeThR2z3v7dhHMSsNUwziEnpKeOygOkeygqVpvSnKX4NCJiG0IsKv/fEby4b7Vbnt9A/+ugj26jX0NCgnl1CHn74Yfn7P/5uz1HmKNxTTz3VFDHngPNHHn008hb1/OSTT7bi8fzTzz6144orrCinn3a6xa8EjItUycDg/IknnzAaG230Wznp5JPaFS302cX/zNPP2HU1YJCcffZZsvJKK5ki56dg+elX9hQA6BCon4M3Cl548QUzLFD8vIfPcdttt5GXXnrJ6FCOxoZG+XbkSPn666+NBu2yzjpry+mnn2HXHq8SuFtLmFZgBk3Q9AEBAQE9xhT9Wt6QloFy0163qGuvEjiTlyMvOUxGtL0qLak2fdpp0rYqkhU8z0KetFGx8EzxalOq6FCa+XxkDDALwNSuo8A6uwJ6pEdJg4KmLc/D6PGb/TEPOQ7W/9xTBlwD7mGM2E7/ktIxRa1/bW2tkSKvUB/gNMtpUycrhx6ZcmQ6kuuK0GSkpd6tmh+v49EuKHimsjWxRaNMtAFx6uvqu6Tn7dYdqlCoiElbtDJWGbCinPjHkzSBGj9NbbLjiTvJd31GSj6ZlzbtF/IcPJFfy7tTrZ+ktBQmyik3Hi/PTXxJeYxfy2PZh3gdc0rkzZ6LWssQML2ggwP9DO+evm/K9ZM7dr9DeUSfZIpy7Yhr5X8vXyPj0822dJUQxiSp4Io4Z5RfBwTM2JgiD98UYWzM+NBhaPEqVy0hqcK+PER/0fNCvij1mXop6hGliLLzpyhzDx6f9CmN47RSiVT7uYdMShW2Fpb32MufERAk5dcs2qNEMRSsHKVn0GmZ2Kw0MxXzag+UTo/ltKmPHy19rOyThKiGVhbioszz2bzUad4ozShOlJ44fRr7dEkv+ouo1hSKNQSNx98kaSsFLUOPQD9oyg6oYac3TeFjLBH0XmQAhDCjBPo4HuIcwB3jCYzdHrJTQMDMhilS+BF0lJkgVvGr2izyuFzwTnlQLSvZrHpzBfXs8UYLel+Dal0V8JqXBhxYNQ0kjZOrx6SWw9PHzz0UmCUoqrKn4Hosf14tWHwtA+eerpjLqrJHgVXOy0O1fCi3H0nv19WCCT2NR10Lmjfn+bwePU4pH+Llc21d0usur3jQ3NSm6D4Qj1CJRnnQRtFQO9iwWS7yu6LAsxCm7wCiY8dd/hjp7co+xg8BAQHVMYUKvzTQ9FBUxZNL5vTIx2hQOrUFVxDxECmE6HkyWTpXZcK5hRQiP3oWf16JVqUQp5/QcleKUym056lponSlcml5KsWfOiFqs6R99KBUh9I9DxgAahXp/Xi6SqEjfdehYJOiGVW43YW0hk7t20WIytAzqKmj/6eiHJTvoAA3FBNqCBBKBkFkFIQwvQfvy4ibowDne0gUU5IqpLTv9SIgIKBLJNZeey0dN5M3Woa2DJYb97xZhCX7+mgN/7Xxb0kxiUDnr3uwFl+OahvMuoLlpcqmFsTps95dEzSNp4qncVo10+llVMq/pvqVoti+gW56yp636+eu4+LlJ9IIZjLoKEclLDNoWfn31sdYtFrW8LNqyNz62K3yQfNHkk3CdCUfrywbfmgIdJ17wPQE48FYhxp3KG8zt9aQq5cD/+/ASA6xhv/MNfK/l68Na/gBAWXoocL3QRNhSMsQuWnPm1Ra60VG5NNv3pPR+TEyeswoW3OvTeVH4NOzAT8NMAL4Bj+7/sfYp3yr9xN9yNsRgwcOksaGpm4MG74xUJSvvvlKj5HK7wrD6meRZX6xop1XVPgahjQ3yS37sCFLVTsE0fDxfZGm2yvkVDvrBUwX0A71bo73rZ9jkOrzoir86zopfONgfUhECMR5pfw6IGDGRo8UPp5jXOAPbh0iN6PwsawZU2yg99+lqWUcxbMlfcDUR/ksek/lXVfxa2OjzoCeposU/l9lVJ9R6r1nJWsKH6OySW7e91ZJtLAxMUrSiVd6Wv6AGRrFdFGueeYqueGl62VCpsXsgMjxIMAscYYpvw4ImLGhCr/ya3kodpsaJrQr+c4SfUjLYLlpj5LCrzamuoLHB51JB0xteHuXGwDV4P1US9/Warx5/6vHXuzfLDsc+1f5vu84mZBsllyxYG8S9MvXywX7ny2D87NKQ6HR2JH12sA2MxeqsZ33vy+4taSa5aJHL5J7n7tPCg0J80E8Tsfqv6P8OiBgxkb3Cr8dDJvO4rVvto8c+4cjpS7foFflojcMpoDuEPFMMdkio2WknHvrRfJtfowUG9UOUYWfKSalXtKSyaekb66v1OfqedswYCZErZvy2pJtMr5+vOQSecmq/MlZuohp2M7ZWSaVXwcEzNioqvAnBSOn86hjqixT5J32Sqv1SrZ8N1VAQBzGHglV4vzGgP6pp59TnmEnAPyULIg0JNLCdxb4toJNNlXgtIAZH7UofJv94USdlZbmVsk0NZYUfjSNFRR+wMyOKVL4IJoFqDQaw2AK6A6RcmcJINofkrIPChX5zoKp9mjjXsRHdkWigJkN2u21SZKEJO0DUGzTS9prm0HhBwR0YMo8fB1c0b1qi7bRQAsImBS8UscKa17a1JXP2RcBU1JXQFTzFAWvrJmI4hRta74aA/p/wMwH+3XHbuCKPmU2ZDGm8AHPyhV8+XVAwIyNyVL49p0ZkEwJP+zSsQs2QsdZwM8DOqjrXpicPupd0YjCjz7A05ZU4azKPKnKPq1GZBKvnh/8YWq/WJD6fEYy0iQJfR4p/+jLhtDgYzsBMzbgu8q8pzygjMxnoYwfcEDgH8lKS2qCtCbzpvRdPkWb9uKoTjkgYEZEjxU+/9dF77pE77iqV8ZOqujLcxFsWq10HvATw7pB/2t/s6Iy6K6efMueLyka6V7rWCVUyj/6bX5V76rcCXyLic/osrKfKaRkyQFLyJ/W304aihkV5m1ajrQJdYR8wb6812uFCphGUdnD5wMgePH1ygE54wvuPP7cPfLYJ4/KxExr7D38SoCjjasDAmYK1Kzw261kjZ1RYzqt5+l8nSw310rqlWXsqUN9NYsX8NPDRJith0c9Vg3Rs65idEZJ3fcqom/jq3dfzMs4GStvf/WWZDNZvc6qoI6+9F+n3v1Kw1aQf239b0m3lT7yYJXU4MUPvDbjoxqret+7Tk8X5eonL5frX75WJtZFCj9677MSAWekgICZAzUrfIQzow5Fz2fck/mi9G/tJ1cf8D9JqVB22LCycVRthAZMC5ic3ulV0eiMokdmD8bV/Sj/PHFnGdc4VvKFVr3Hen1SGhONskz/JeWIbY6SVAvevCJe+F4tVMA0i0oMG+97P68ryjVPXy43vPo/GZ+eaIajWQO236gcJAoMFDDzoFuF39bGV3VYJ1M7OV2HAc3nqm0ndb/WQXLrfrf5zFoHwhgKqAUI8VLI9WmVrY7YRkY3jVIPP/p0I0q/oVgvKw1dXo7e/lhJNavCV7n92uevST7FLx46ERCYboZHe1d39DmnyUJKlpln6ejzuqrwL3/0IrnupatlfB0fcGJCnw2fGrHcCbFpyMA3ATMPulX43377rR397SiGTkOB7VRJacoNk6eOe6zj07qlcRUQUBOwIgnKMy11E2TT/TaNPq1bKCl8fdCkCn+12VaV03Y5U9LZjFmbvzpoDfmxvvQbAMW0xZsUQZDPSIiWfzpAjxdZt0/kpTE3QF48aYQykcZR/jjvrjPlsqcvluaGNlX4Gte8++DhBwQk1l13XeN41n07f1kvwjfffFM6i+KAfLJVMoV6mbN5Hnnw+AfUPdObalnvduyu8sa416Q1wTeuakOCH7MPmCmx4iwryjm7n2syN9s4QX6z929lVN/vVUizE189MxXyjfk6WXXW1eSM3c+SVJt6+PUiqx68ivxQP0ZjoASil606AysiYEYC/RwHUiP6TcaC9Mn1kxdPeFEVvt5UhX/uXWfLZcMvihQ+nMTGYktRSSrVKqkCAqZ/1Kzw+RlVNlixL3pCZrzU5etl/vHzy6MnqIefVRHbkJe/Hf9XeXnCizIxxU7q2tD1r68FzMhYY8jqcskulyhzJSSnCn+DPTeUUf3GmJBmXT+lrNGUq5dVhq0uZ+x1tqRaVXDHFL6LfXitM79NeidgekdnhR9dRf3cJ9tXXjhRFX6zXuLh3322XDr8YpnY0Gqz/B3fCwl8ETBzo9I8V5fAq0rxOV0dP7kkrn1AwBQiJoPhr4S9gx/dDgZhQE+B32JvqQTWCQjohHaFz+BIqqCNQqr9vAMaQT0xrOXGbJPU5RrsozvctlACswABAQEBAQEB0xZUozMlWtBD5FMxrV8oFDREx0owLwwtH1f02ANB2QcEBAQEBEyT4JV6yanaz/FdM/vKGdOpkfKvhoS924rK75gBwF5YeJGFZdXVV5Nf//rXsuyyy8pcc80lmUymfVo2mmaLWQkBAQEBAQEBPwlUvaO4UfFFyRVyMiHbKvnSBr7Om/hQ1FHAKBgyZIgMGzY0sgs0kH7xJRaXBRdcSGaffTZZYoklZO2115Z11llHBg4cKH379pVZZ51V+vTpA7GAgICAgICAnxBJlH26mLDfIm/um5K6WYZKruSJT+qNdyj9RRZZJH5pwZYB2M2vBkBTU5PMM8885ulvuOGGZiCwRLDwwgvPEF5+vA6V3m5w8Iy4nfdDBMyMiPNJ+fjy8/i9WtFbvFVeJsfklCkgIGDaQ7I1WZC2ZEa+a0pLw+qLiQwbLMV06ROmVYDgam1tlcGDh5TuADUa2tf8i5JKpeSLL76Qzz//XOaff3755S9/KT/88IPdn56B8EPAcqQuLiQrKX2/50fSedquQBxo95YgB17e6b39p1c4rzBGnAcIzhPwiF9z5Dqf56WyrkF8H3eednLhfOo8Ei9LQEDA9I9kNpmSLwcUZJblfyljPh0t33/ymdTpAwZ6V8KjqbFJFlts0dKVAqGg4dlnn7XP8TY0NMQMAJGhQ4fK7LPPbuc9FSDTksCJt8mgQYNk//33t7pVAnHnnHNOOeqoo2TLLbe0erhwrwR/jnG07777dtn+XaFSOu7tsccetr+CfLwM3K9Unp7k7XWqRAfEFVG1OF2BpLWUphrtycmzGqaE1vLLLy8HHHCA9OvXz9rDg4Pz+eabz/hlpZVWsnarBspByGazNoO20047yYABAzq19eQAmhgajN3dd99dx/hidh2vt9MvL3s1lD+rtXzt+dTU+wEBAd0h+V2ftMy5zKIybuQoSX40Uga05SRdzNtgqzYwi4WiNDY1Sl0G06AE4mr45OOP5bHHHpfvv//e1usbGxvbv8fPFH8u1/27+543oSsBGzcougI0nF4lIcr9cnjentbL4UfuIbiXXHJJ259QrSyzzDKLLL300rLMMstIfX29zYyUI04buux5YA+E368F8TLGzx1cI7wxQABxHOVxaaNq9SFuPH6tfUB+k8alDF6OeB9An3xYHqqNPl/lo1yxanWC17crJRpHeZuQPt5mwK85djdzgtKEF5Zaaimpq6ubpByuqBdddFEzDFZYYYWqZfWyeRo2x2IgTJgwQdLdzM4B0kVtFZU/XlfO/dlyyy1n+268HOXxPD3wdBVRuh89J42Ow0RUdi9LOTrVvXOzl1/qjSr5BgQEdEJywHK/kLFfjJTkB9/ILPmC1BfykrQBWH0Q8Tlc23wX+yxuNIw1lRoDX371pbz99tvy7rvvtg9cjgiPWgUS6FKIKLp65ojTQOFw7oKGwLnfKwf3yr0bP3ca1IfzavX64IMP5N///rf85z//MYHsdQPQInCPssXLwr1ajCMHaaBBeX36OF4mnkEzVcqf58TjnpfJy+Nl8WNcmXFNAB4fEBf4dRyehlDpeQRoUg7jolKAJu2hh4qI4hTVQM0XchqPsjMN3pEHZY/XieB1rhRAvF4O2pX2jLdNvH+8LXlWCTwjPcqeN1ecvh+9bZghO/DAA+XWW2+dpAyOeDm93OTPjBMGZbV0Ds/L41WK7zSr0eJZvK5+zn3qB7jHXZQ7wWlxbu0VS097xvNyekZDA1X2wKOO0BV/BAQExJGs+/J7af3wK+mT1cGqApdvVvNOfU/BUHWh39jQaAO6ublZxo8fb55tT5SXK9lhw4bZ9DbpEUA++PFm8JpdsFQDNIiPJ7744ovbbIPfA5R3ttlmMy/dhSjAE8bDJg1vGsRfLQTlwqkrIICpe0tLS3sdHJwT5p57bllttdXMs6M88TjdwcvBkengNdZYwzZUslnSvXmrsx4jRyhhU7/UeSkNeHHMvFAn+swFOcsUq6yyinmatAXKBECLdlx33XUtDs8I66+/vuVbrsygR3vSlni3CyywgD2rFbV4+JSXfMgDo5Jr8qa9qRf3KANGKrzlfFoJpPX4bDwF0EFZc1xrrbWs7TwPAC8SaEvajLIA4pSDe5SBY7wcXq6RI0fa+dixYzvxZBy+GZZysD8GWpXyqgb4kX4i/SabbGK0Nt54Y6NLnQhOjzE877zzyuabby6/+93v7DjHHHNYnPiYZmbCxwx84GONj3OxYXeTTTexGY4VVlhefrXmr2SFEq8DL7/nCc9ttNFG8tvf/tbyqtYOyh2lY0BAQC1IzT1w1iObVNln2KZvyl4FGe/ZM+Wmd8aNG2cR49ChaQNxWMMwWXnWlXCypJguyJtfvyHD3x0ug2YZJKutvropCQQLU94IsK+++soU4Ndff12iVFko+gBH8B577LHy3XffyUcffWSCFCV22GGHWbpnnnmmC2EQAaGDwocOxsd7771n913osqa63nrryd13321xUboHH3yw/P73v5cNNtjAjIvBgwfLq6++amkc5MvUO4rvkUcesQ2JlYByPfHEE+38lVdesTqQD0cEPK8t4tEhcMlvzTXXtJkABPnNN99csX3i4DnruCj6f/3rX7ZGj6D8zW9+Y4Lzxx9/tI2T+Vxehe6m6gkXrW5b/Wkrjbu+KWoU8TvvvCNjxoyxslHmww8/XLbeemsrE3VcaKGFrL0nTpxohhh9sOCCC8p2221nSoP8USDvv/++/cIi7UPf82y33XaTP/zhD1Ym4rHE8/HHH8v8/eaTTZbbxOR2IZOTq+69WprrW6Sglgl/yolSV0jLvH3nk9+s/FtJFLSvlU0vefhCaUnxSynWAvY/Cvnoo482nnnuueesHpSBvCjjNttsI/fcc4/xH23Gc1Devlyz/MI6+ocffmht54oNhQVvEOeFF16wPOm3f/zjH9am9OXqyve0Ee3gtDkSUIS00X333WeKlP73OK784e9jjjnG0jNePK23J/VgL8Zmm21ma/cYGdQFHocP4Z2u4O3ypz/9SXbddVfjN3gApY/SZpwx3igPCh6eJy58xVggYACQF+WCHooeHqaPN1UewyiCR1588UVruzXWWF322nMvq/u22/xZ1l5nLeWp9WSeeeeR4cOHWx60JWGvvfaSHXfc0fiEvDCgKJP/aqcjarWoD+sKdfKP9f4Z/YiX8sdz7z0rr3zxsmTTOZsjQl55ioCAmRnJvvmkNBbxlFOS16CqyM67GiD+gZ7G+obSnQ4lPf/8C+iAX9uu8QBRHngtCCu8XI4u5KrBhd8nn3wiTzzxhPz5z382QUhaBApC5v777zfPvztQDowW3hhAETKlCigDHhxK6/HHHzeaPPvrX/8qo0ePNiWFskNJbLHFFiasJgfkg3J3r498CKB///6yww47mKLdZ599LB+EJOUEXbWT0yEg7EmLQXPooYe2b+Ki/f7yl79YPVmGob0Q8Ol0Rs4480wzAFAueGAoRccuu+xiNFmKQNCfccYZ1k7QRSjTDwQEMsrr//7v/4wO5d15553Nu6PdUQwoqDfffFO23XZby4OlHuqM8mttjfZ29By0X9SGDngGRb/iiiuasiF/lD1G2aqrrmpT5SjZWsAyDAYqyhQ6tBv1xuihz1577TXL7xe/+IVsv/32do1xRP1eeuklU8YYu/QNbdJVPzo8DvmRF0cHdMgPY/SPf/yjvPHGG9ae8CgKntkF4tQC8qEv2USKEfv3v//d+hVjiRkQNovS9/Ar/YgShz8xAPHuzz77bOs7+pA84a1//vOfNmZQ1hjPt99+u9FkzFj9tS7w3zCVB+ecc7b8YYs/yFnKf8wo7L333sZL1A/jifS33XabjXOMcWQGBhWbgAMCAqYMybaCWsGppCQz/K54JFz0vyhUAYMTIffyq6+U7kTpEBAIXAYwAxUhgOeL4EWA4tnjSdYinDwOwgOhgYBjupCp78suu8w8xPiUYiWQDsFFvGeefkYWXGAB82YRpgSEEt4xxgNeBh4cAh2hhtCnHngglMWntKcEJvw0oEDY64AnRB4nnXSS7XfAG7/gPxe0/0Ihz7oD9YAmwvr111+3QJ0/++wzqwfPqTNr99QVhXvIIYfIA1rniaosnnzySVPavEFBXJQl8bmHAqWvn376aetLlh6I4zMdGCdXXHGFlZt2OlOFODM/GALEQ6l8+umnctZZZ8moUaPMYz399NOND1CK6ZIR1BugTA899JC1BYrR+x6PG6VPHQD3uwMGKsoQRUp7wD+ElVde2QxHnlE/ZmEwJi+//HLziqkXBipKkL7rjj/jgF5X4wIjAN6nHzDA2BRLXx5xxBFWBtLXCpQnxi0zNvAJtJl9uvbaa20DIMa1lwc+wJgbMWKEzVzccccdli/GDvVjvDA2LrroIpuVALQ17Uy7e7laVQbccecdctedd8pY5RfO2aeAvMAwhDeZSXr44Yflf//7nxln5MOsFbyN8R0QEDBlSDIFOtdcc8gCC8wv86kAm2O22exnSZlOrQYGMVNsr7z0culOhExdxhRLUg0IBjxCGKGB8ke4IBARTjzz0B2+/PJLOf/8881bwOJH2PqUbS1wofvuu+/Y+S8XW8zyrVOBvOkmm5hCQhmh2BD0TE2iKFDGnCNQeVZrft0BOvbWgpLb8NcbmhfO1DH306m0KuGJ8sjDj1jcrhSGtx9tTDyUL1PmeGIoPNbzaXc8KDNaNE0qnVJD7RX12EbTwXqtRp7myzQ3dSSgSKg3hhl08NhR0vG1d/ofJUE/+CYxysHUK4adG1UYaCh5FCNr4txHuKNk8JYpT2+BMsAr8NivfvUrUxIoXZQ091DUtYL2ZEaAmQ8C7cyyDgYAbYmBAzCWaBsMRdqeZSPai/iUhzagTXsD0EHJkj8zOVxTPwxqjG/yqxXwPIYhU/osD1Av5MDzzz8ve+65p/UjQAmj6OlT5zeC8yV54v0zq8Q5BgljFCVN2vK6v6UKPFdgg6WOJ71GoWN8sJbPrAIzgowH6skSA/xD+5MHhhv5ugEREBDQcyR//GGMKYaxP/4gLRMn2ODugezoAGk0cCjko93iAMMAqx2h2xOh5CANSp5yIViZMmUas6e0mBF45ZVXZcWVVjYlxXrlHHPMaUqLsiJIEChMzZ522mk2nY2CQpi6AO9NsEYNMIDwCOPCEcVFnpSzGniOYYLQp/zXXHONnHrqqdZGHFFE7B2gnj5TQBpAXUjD0evFtfcZCvPII4+0aV6m9PFeKRNwgU95mYlwGgTKg8GAZ4fXhzBnmtbL4wGakYAfZjSBl21y4coVXuNrjigw2oJNn0899ZQpRq9zNcSfofDhWaaWAVPN1Af+wzsmLvVkavv444+X/fbbz2ZAUJreHr0J2ocZNJSfg/piPLoBUo5qZcBggMevu+46M4jgE+rANyWg6fzix2rA6INHt9pqK+tjFD1GIrNV5A0/AMrOrBa8AX2WBAFjmjz8s9u0L8tJp5xySns455xzbI8Az5lNCAgImHwk+w8YqAp0vLTpwJ0wfpwOqn4qPCdP+LIh7qOPPpSR3420QY8HxOYe9xB6IgSJj3AgDVN9DHbWgpmG704QxeGKpFmNmvsfeEDmnHMuWWD+BWWppZcxwYNCR1mQD+vg7Mq/+uqrbbMZa7I33XRTe1l6C+alaFOgOPmAEQoE4entgyIBLjABZfDg1+5FQQ8Fy1QqXhs7nK+66iqLx5osnhK0UXjEhW6cNuAamnhprMkzI4Pxw9Q7ygAjy/P3ctIn3i5+H6FNuVAE1I8pfzaFoTBR9AQUBOXCm3MoZds1EpEmn+icSwsUF+cuofVIqNKwVw48RMqP/JmaRrmzYdHfPsArdmOGclaDP4O/KDvticHE7AbLFJSXAE3issyEkmfpBMOG9XAMSNBVPpMDyk+7MnMBvL3pT79nM0cK7x+H95EDw4G9Nbfccov1MbMS7GOhnihZPG3qT37liNeLOIwZ9jpceeWVds4Gv+uvv97aMN7mnNteEj2nzBzhFfiE8mH4Eueggw4yXoFnGPecs08CY4Rpfq9jQEBAz5Fk8GM9M2WJR9TQUD+JMqgFeKxj1IJ/+uln5IH7H5AXXnjRpm4RCnn1+E1463/loRr8OdPBf/vb38xzO+GEE2ytGYWG0CgXZF2B+G+8/rpNZyOcEeDstGYXNsIHhcvmLhTGDTfcYLMetANCKC7kegPQI3z00ccy+xyztyt7AnXyTVhxwyb+3MtE4B7eE9OqvmMbA+vGG280j4vlCupFOp5VA/0EUJIIVrw/hLB7s7QfwhY63h4oQ6fLEU8NHmI2BaXLDACzJN6O0KCuTBvTp/VK26G1s/ryGh5l4XcZ2qHZFclSFX4+xaegVeHz/r3+kZLgbUGeeNn0L8YF68o9mc4H0CG8/PLLZkgxXc9SBPxCG/hzpp55u+PRRx9tv08dAdec+3VvAF7lDQIHtOl7yhFHd33NrAfr8vQ1/cJ+lUsvvdSUPfKATXlxA7QayJ9d9CxJsdGONX76AUOBtM6/zi8sM3EOP1BGpvI5p8+YucCoZFMpceAB6FMOjAD/UqXxiPV5QEBAT5FEGLJmx6BHUH/66WcVLftawDu3ERjg0SCPUH7dPRjcDHa8QRQPu+URDCj+nf66k+00xkOohnJhxd6CcePG2vIAAnzOOeY0IeXCCAHE1DUKi41apGf9EIFGnMkV3PFyeF4IWZrjrrvvsrzY5YzHhTBjh/4qq65i8crTEpe1TTbGAdoHuIBHWOKdUVa8Pgy5vv36mvESL3952wA38pgepl3x9qBLuTAkMLTw0MiTwDP2OfD6FPTIizcCyIvNczzntULW6tndzWwAZcDYgp69UlnKExQ1/iyzRN9doA7wUiaTbucaO2qxk6r5Cfq/Bv7an7YDbxUFjeF07733WlkI3YF6eDzam/0HrHfjbQJmrHhOPJ7Dlyhblie4RoEyQ0JbutddDeV94DQJlUDbsZzAcgVtSHzyZTbG91dgnAHyp4/YgMd0OH0YB4oZ4wxDEB4nrvc5NFzZOk9UA22BQQlfEuBf8mLMkN55jjqRB7Nz8BFlp3/gC2YFkT0YmRhYzKzRhpSHsciMFfxOPwJrt0nZNyAgoAak5ptv/iP94yYucJA5LthY76uGplyj7LT+ThpZx2C6II+//pi88907klcPLBLCPjJdiEXXHflUFm42qBXszMWbZ9PeB+9/YOL9+9Hfy5q/WlPmmH0OFexPRCQ1QEtFjMUB7gVw34U4wowNQ79RwfP1V1/KtddeI20l4wYh52u2TCUytc85wgcaeCd4rcxaUD7uIdQxHjBCeFYJeEzUgU1wvE7l7QrGjv1RBg1UD/K3v7F81lt3PVn/1+vLmB+i9+HZxexA+PKqHd4xghWF6XQwIJgaRYCupeVeY81fGc1NN9vUNgEy5YwRR33wEpnFAF4PFDACGKHKOisbpFDkBJQLghoBjEeGR8lyDXVi0xXvalN2aOPxX3XVVbYhDLoYUKQhDjShQ9viFd95550ya3JW2XzFza3/CpmszLr47PLXfXeSH8ePlTfffEONgLx9H2KevvPJhryHn9P+TSXkoocuUi+/1fob3opaoQN416xNo0SYtvYlJRSQGVsK6k6gPzwA4nm7YLygVFGMKHv62T134sNP9D+GD+/g8y4+M1IYRmxSxGDw98eJj7JmxoP6UzbPJ543iph2Yg8Bxjh5cZ8ALfiQtvb2xMhDgTNOMXQ4hy7tzqueTIezDIEx78CTBhgLKGf6hH5m7wbGP0tajAf6GF5h/wY0HdSVcrFcRx0xUjGKaAfagPbiOQYQdCg7u/HJl9cK4Rc3Atk/wLijLTGu2JwLLepHmTDaLr74YmsPbwdDe3nUMLT38HcWYSirjRLeww8IqIzU/PMvcGQ0GBA+CJ1I8PgAnxoKvzsgLMifqUU8CF6bQ6GlkmkZP268jFalj0cRvWoVzQSAdoFQqgMBRQk9Qi7PJqeszDHnXDLi2RG2s533gwHPfXMaryUhqFAUzAIgkMgDoek7mAHKg7goX5/OLAf1YJ0XJYgAbxecpahME+NVM3XM2w2vv/G6veaF0oCuA6XgnuMDDzxggpb8KTegbKwfzzY7O577y7jx4+T9D963adof1RjBqEMAf8RMjioAyuFthDLHIEC4UxbaFa+KMmDIUA4C18yyoEBQNqzb8poYnhhHlD1Gg9OlfL6JDc+PPDBiWC5Acc7bNK9stsJmxhYo/NufvkPmX3YBef6lFyKFr+nqiqUP76ykCj+vdVWBfvHDF0trShVvqRHLuQrPFiOD/Rm8JkfbUR7ng2qBPsZAo9zePrQHeyqoF29x0Ac8gyZT2fAlRgFpMQZpE55xTf6kAaSh7zCYaN94HhwdzlO+G98BTdrvscces7IyC4JBAi/Q7/AqdSU9NOFf+otrZlziG/vIj5kueAgPH2WLMkaB88qfzwjBL8Sjz7l2kDf04BfGJ/WGx8mTWQ8MGmhTV/iS+xhgvH5K2TBqSHPJJZfYvhzuUU7GEPWhPWlz2o44GFrEAe1H+z9qt7pCJlL4rEppMZ97Pyj8gIBKSKh1X0SYuPDxwD3AYAfIpJhcMgxtGSzDTxhulnW+ISdHX3Ok3PbWbSqMczoUGWARDRuFBr/uGuRNGRCunJuwIe9SGWxToR4XXGgh2XXXXezb3B7Pys6fKjjqBI0L/vMfefudd5EW9gZBZASokMmpwlQly/fXvd4O0hIQRHjU0EdwIRw9HoKRZ15O4sfBNWUiHumAKwyPG88zfk468gMeHyXibRNP7+eAGYy6OjZM5SSvbcC77tQ5nSp98pa1cdqPdKU2o45efi9f1EZRuxI4d6CQ2G3P1+jw8j0tcbwOXiaO3oYcee71WHPYr+SCv/3X2CLX1Cx7nrenbLzH5nLcycfLmB9Ga/ly0q/QKGvMtpacvsfZkmhTba/NuPIhq8gPdT+o7icvelsRawdeRcTzZe2XKWMvOzMWrOujCCuBOqPwWd927xqaXie/pux+TaCfuOd8wj3qWt7Xfk4c54c4PY7eRk7bEW9XzolLOxKfeFzH43DNkXyIA/w5xzgdzv0+15Sbc+j6M6cBuMcz6s2R+HFwn7IB4uKxs+luxx13NOMZeLl9+TDeHuQNDdoTYBxCj2ftY8DKFYU+uT7ywvGviPBdpUxRzr37bLn8mUtkYkOL5DRKokg7UndPExAwc6JDokwjcGHiwge4UOJjNSjqVDISSBkd/ChThAbPESIIipwqO09j3orG1X9STKgiSyNII5qcIwA8P0AaTwtc6Lhg8/sAD4b71UQINIlPPAfXcRp+7fc4kj918XvQibeH3wfxdAT2Klj9S/dzCGrqrmrRyq/3IgGoSkkfsDnO6+aC3tvC24HncVA22pXn1eLE4cKaOND2umFwxcHSwnnnnis/8OqZFsHLURmdnxH3uOOOkwcffNCmltk/wGxMnAZlpT+5VynwHE8XBQMfcc/rxTllJsRBGuJ4HT0e9zyu3/Nz56lyWoBn0CIe8Dh+jJfH25EyeB4ej2v6M85H/tyDp/MAvNw8I60HB8/8CH0/9zTeHhxpQ9ISD8/fr4nr9WBsELwMnpY0Ts/bFtixdB4QENAzTJMefhztZUI5ZTs8FTZ8pVU4tKkQsbKXpuaBih/7A6TDqy2mND1KL6FKrdgRl9e8KsHr74IJcM/LAzyH6CQSenZtNzrTdYHlaXsK759qcPoAw8br7+nqM/WSbc2aIE0XoBO1B01hgb8YDa93pXzxxtg0yZqrTzt7nPK4XZV7jcGry0U7X2xsgYf/m71+I9/1GyPZYlYKCby4vPTNN1Tx8H+0D0CT2HpK86BMKA8UNmVzQ5D8CUy/U/Z4PSsBxUQ80qOAy+vgvOF0AffivFIOTwPK4/mzeD5dtVsc1eLVmn5yUGs5uU/dmJ5niYglEDPAY/Wv1GbxtoqDvOBfy1OD3rEQPPyAgNpQXUJNIzBhYoOWc5G+ffrYzvO8CuUcAl3/EPn+54quHZomnanTgxoJJphqG/AIonJhxHW5cIuodb5XCaSrJhhrQXdp48+trUp//tOkeNOpVFoKeQS01qWoCqpKU8TrXSlfhDZrr3htjmr1667ccRgNjrRz6boWUA2UBK/gsVcCxYLS9z6EDs/ZqxC/Vw7u8cxnZFzZE7oD6XoT1hY11L9anFrSTi7itLvLh+es97P0431SS3tWwtSsU0DAzIBpXuGDSPzbiTS3Nsv45gmSTiclhVev9xLphHqpeKuq8u3YIVAQLvYb6XpLRb0pwUgjlsIUQnM2OpRwcj9Y1FtAIEYKPiWpooZCFJLq4eDlUHeUPvMvbdpuOQ022fHzFrtXQN2t/qpQUO7lysEVjSsbjxsPniaukDxeHOXxAyqjmmL3dqvWft6+8RAQEDDlmC5GEhN8KKc8G+w4VzmBKElVlidlQCVHXu3UgxakRH+akE20S7xttNHYoMeMCJv5OjXbVG2XnwaVqoAyqaZwAgICAmZGTB+mc8mDxkNlrT6tXiy/259LIdgjoY6Aj0J03uEdcMMS9zqcbCfS7S5zp7vTBKw9aKAZHMEjDAgICJgUUyQZTbc5TO9OHWVinhobeTQU8nkpqKfKtG2u2pQh//Goi8Chwor/lKFEd5qENoptbJw6XdTLiPqF7rWj3QsIqA3tNm1gnICATuhW4bevs/lBr6N7bJbTEcWphoL+V1RyeN7qRnYMul6AeWwlZUXe7NTFcycL/o+OUaBCbEbjBTQCpeoIHfH0UvKqUZAJ1UKPYYQ1rR5rTe/tGQ9TDKWBJ2/ePOSqkOwoY3mN/bpaiNC5rJXidRc6w8nxSmE0HV86lvrJ4f0ZEBBxQYlxSrzub+zANfBPR4CVOq4DAmY2JP0VGBfeDAS/B1C29ioX78IyfW5bu3XAJNXTTmTbx1oxkZSvvvtRsjbiSBefVuc6olUeHOUDkPL4c39m+svyM7VuCi1RUMWu5U3ZUU0ODcwEsGZtnwy2D/AQtF56jD7IUxAtvZZfo2ooNwsIkwuWGJA3netfPURKvqNuXu9Jg7dh18Fb0esWJx71XEeIEF0RxWl0jjVp8HhW1xrTVA8lWB8npaW1xRS+lZ+jxonqYbEM3kvR36SAf2sR6OW83hVqpQkq0exsHEUoz79SnBkZPWn/OKJW8r4ojddO/BGNoY7vPHjcjv7ztp50nIUQwowbEmuvvXaXUsy/EZ8v5CWnoa21TeoyvN6Vl8GtQ+Tp45+x9/ALdTk55frj5Ma3b5eWVGv7F7S6AoMuVfrISLkw5Z4PShMMqlwoQ4pf3hN+VIUP8OiA1Wconth4jw3rCFxjkBS1whgCvL/Nxr+sBl7YY2YiLjFQI7zny5PJgZe7K1CnKBTUSMFMypOrlrFOCXT+AA7xOKWe5e0UR7FIO5Km+/wd1nYaqHU1kKW/gdBV/iCKq+0MvW7irj54Dbngbxcq82h/NDXLZgdsJl81jJQ2NSb5S2m5mrL1stqsa8gZu58tqdboPfw1D1/N3sP3epKL5+TtipHaVT94PI/bFTweoG5dwQ2DWmnG45K2En2PB6Zm/tXg8cDPkb/TJG/v04SOG/b2MGb6ZvvK00c9LdKiZcsU5b/3ny+XP3OpjE1OsDdSVP1rIJ1zCXwf0eHVS6cfEDCjo0uFzwDrEEb4xBrVxo2q3GJaBo0fJNfvfUP0oxWNeTnq/D1l+Lg3JNuokUyRRIOqGsjY9wGUD7jytHwV2z4Vawpfhbn+ZWwgaz6lWYeuUFB6LDuApFFTFatGQFrTKVWo2DOH0e2G5pTC6ozCL+YoTZRjIqOhkrLqvo4goXWKOqk22CzIVK5nNaw8YBU5acuTtXO0BANysvXhf5LRA36UbBoDjw/vFKRBlfxyA1aU4/96oiSatV6q8Lc4azMZU/8DLKYlZxmpRLCE7vguYHpHNDada/vk+spde94p0qy8r/xx1ROXyw2vXCfjM802O8SYUPdAY3aMIXjE+SR+HhAwI6NLcx3LF0+dD2Zk+dAN32dXzz6XU+XUVpRG/Wsfdfp8lmFDJFOnPrNZ4gwwyFcPKG0fbBgX8eD3LWhs/jf9qNdFmzPXOylNpwZJedqKATp6tPW9lHqPWoQ6ymCGSceg/ykDxlQimTKvvpBs1GOD1itt5Z00fm1ljDoEJV5bIEklOj9J0BI4ispTeFupdGl/Rqlf0qm01JW8sICAbqHsz/ipqyt9rhdeMk5zQRUBYxueIkQyTeVbCCHM4AHN2y0YOK6EAD/Iklb/Ol2IvgluKBSlXu/VpRqlrlgv9YU6+xWrykGFeOm8Pl/+rEIo1kmTNMiAVD/plx4g/ZJ9pV+qj9QnNMeilkTj1BKgldG8E0XKnpIGQj6l9zvTmCT/XgrxPDJa73Re89WQyqWlIdGo9+s6x4mFSvSm98DHgRxMu2IE2jwSH08yAU2ImwUR+JBQFPjAkJ93BO6FMCOH0oelYvfirBIpePgpmqMrJjr/ZkNAwMyKbtfwOxCtowOEan2hXoZOHCpX73M18+1KqShffvuJjC02TzLFGo1GR5mnZnFrKQIRNShxrHNmrjnaTnRc/zi0LB0Tfg63bfSJCoBojT6aDmaJoON5hOhb3VMCq1h1WL5WVG0SveCaIpCvXdJOsTJM2qhV0Lke3YM8Yvn8hOiT7CfzDpkvYok+Odn+xO3l6/4jJZdutTcoEoWk9M02yvKDVpQj/nykpNrSam2K7HLSX2VcZrw1G+9jWIPFkMJALZ0HzKBQlmUcs1uEb+mft/8lIm3KB8of1z59ldz8xi0yRn6Qgv1UN8tDk/JJQMDMhslU+HyuNWU/nnP9ntdHa/i16gwfc/H4tY7DWvKAViV6pCXE8/e45WWpJZ+uUC19pXIBj1/tuWNKyzWtId7WfbOy3Yk7yFf9v5Viqjn60ZNCWoW5KvyBy8uRfz5aUq0qzVVuF9M5aUu2mJ0Q/TBKCaTRgy3f6LHErgEzICL7F8+9KOl8vZ7WRZfKIteYwr9V1f1YlVnsj8EjmdSoDwiY2TBZCl8lsg4iVfitg+SmPa5TD5/BxP3oYKimvKrd701UqlF5vsThXqW4UyoXKtHkXvl98icvL0elOI6fot1+anh9tW7Zvs3q4e8o3/YdKYlEi3r4KO2M1OfqVOEvK0dvc5ykmlWaA2+LSm1Vomeo1pYBMwbiY8LPMyJXPXOl3Pz6rTIuMUGKbIhVpW+bOzslCAiY+TBFCr9vtkmO/79DpSHPb4zrgLJp8OjIaZKdcQwyG2dqZ+fVJ+NnagvR713br7jpebRTXGMkk6WNbEmZOGGinidljtlnl2++/ZYtAvY7+P3795fx48YrDX5XW2TQoIEy6+yzGY2PPvxYiprH/PPNo9kkbfPXe++9Z/lk82rls2FPvT9KacsCplQS0bKAwn73W88XXWJxeeuttyzesGFDZfTo7/V2wr5F0B1oh1xbVoYMGSwjR44y2nkt/GyzDJUhgwfb9Xvvvm+bDX+xyIJarzbL841X35RMpkGy2ZyVN3qnQNupLiMLzj+/fPL5l9aePKd9+vXra7/dHgcvK/DCYqTpCNURxdC20Lw5j3qgCugfjQdl/539itA49DgxohatDntu7c+xIN8VR8rJ150iP9SPU87ytyhU5edTsszgpeWYrY+TupYGYpPA8nLEfyzJTnnURTEDZgSU+j/ez/BmXUGueOZyufGV26RZWixW9AYM8iuwRcDMjclew0fpp/MJacolpaH087NFVWwFDSjHgs25ld6dVUVtShdllkyr4s9LJp0xBdqWbbW0eVXU7KitU1qA3y6Hzo47/kWuvPIqu8fQXWeddeSZZ0a0/w771ttsLa+99qoN5E032VSfPSPffz9a6aoiVcw266zy/HPPR9cayTYeMvApqwoIDAnSUgYerb7GGrL99tvLTn/dSdKZtGzx+9/LnXfdpZGiunQNaCSlkMvLln/cUm64/kYzTDJapw1/+xt594N3LdYWm28hzz47Qr7++lvVoEnp36RuSTErz7/2in0fgE1I5GSGiP47/fQzZN9999W2qbd6NNQ3yEorrSQjRowweu1A4GEIWT91qcJLwDij/pHS7woYW75pszvkcupRQbgLQIuQTiofaNxsolXG5H6UlnSbXufts8l5dlhnizJXejaZb+BCer/B6pZPZM1QoXHIhTM/UnXazXqqu0oFTL8wVvQO1guMR5M5Ofly7BfyUesXkk3m1QBmU5/yU7KgfBNYImDmRg8UPmNKlYgOKvxP+7lVHUD5QqsMGTZEllhiCVMKKFK8dl7n4/fS+d10XpFpbWlRBZ9SPeTKBc83DyVTkg7uGTTSeeedJ3vuuaddEi+tRsKfttpKrrnmarsH1l9/fXnggQc1elEu/O+FcvMtN8sTTzxhP6MLttpqa7nqyivtlS8UQQqlrbTtq3v6nLKYbkIY6HHzzTaXjTfeSHbZeWetS0HqGxrk0ksukR3+8hf7Df44SGZAzgDahp+mVU98k403lttvv8NmMzKptKywysoy4rlIQVPOxx5/TP533Y22Tj24f6Mst/wScvdD96odpT66tlHctOjXt5+susqq8vBDD9k1+e6o5blS61UOZjpshqVknHWFSEBaD9ixK7ihFKE6bfLG6KsJSo/2ss8oaZKcCuZ8QoW03rfVWVX4COxMS0rZJqECnK8jIrjVoKA8lo2Xv6N4tJ2fB8y4MHnEUUO0KS9pb9/U59W5qMtLmxrRKZNX8AyGokUPCJhpEdcr3cJ/Ux1xarIW5Zmok1lmmUsaGvrJ2++8L+9/+LF8/Mnnks0VpbGpnypw4uqgU2WPkhU20ajgtsGqAh2hzsyBB3tP3oLSZ/q/dD+v8VvzrZaumFSFVgoPPvKg7Lv/PnLwoQfJfy48X1IZ9UR17Jt+gozSSaUpJyZB0ZRKtpiLXv8ylc+76AV7L5/Q2JiR+vqMPssbrYLGzRWyWg+8yqjcBBRPR9mULkc+N5zMSbouqfloGmnTuDmNk5cXXhgh++27lxx66IFy2mknqiPepvm2aaYTpaUwUdKN9Zp/RjIoQOqvJSBEeo12Iy+MlFL+/LWXwwNtouJNE0Vrll0Hi6f0aQny6Crkzeum1TRMkm8sEJ/+rSVYmpy0aju1alvktP3of8wqegbjMac801yncTJtkk9pH2gcM9z0ubKHBq2J0iHQj4SO/glhRg7RCInAjv1iIivZVJtMqMsaTzFm8spnWZUTTOcHBMzsQK32GKY6bcAxDR/daW5ulq+++lo+//wL+frrr+Xtt9+Wjz/+WJr6NJnXHg3MSPnbuQ3ACqMQDVc6VpoWJu9ynHHmGXLSSSfJbrvtJs8996zsuuuuctBBB1l49NFHlVRE07x62zOgVGK0far+0ksvkRtvVK/bKqUKkdmKPJ/+zGic0sbEEqLk0I3iRqBNUIqoLK2palMzkFDEeveUU06WE44/Xvbbbz954onHZf/995MDDzxIdt1tdxnx7POSSUdLI5TR4VPflpXdiO5VaofJgpJx0l3BJgMU3obVQk/L5f3gqeyHc0rnwPrK2rVndANmVsAr0fjr+Ovgr4CAmRmuqXoNKCMEPxvKvvvuO/tS2pprraVec72pQvuFOlUeXQ1AaDAFD2xznypkU3qKciMgl1OPOp22DXfEW3HFFeX888+Xk08+2QJr/nE4HYdfk+7MM8+0c4DStyUKykueZfmSylR9KT0qOKVR+La/WjgW39Q9a/ooQq41LoE6rb766nLqqafJCSecIOede56ssMIKmkzjqZFRXsY4uno2OehdagEB0wI6j9WAgIAIva7wUWwouMbGRllyySVl4YV/YQp5iaWWjCLUoGFQiChwdtgPGzasXeF7iG+e22677aSlpUXq6qLNfuQdh5dnMDvkS+mcThwYJBtvvLHNCtTXZWS11VaVXD4rs8wyTN56603zPB2LLLKI/s+1hiIf8eF7+DxRusWkKW1mBFgS4E0BjJeNN9q4PX/qRptgrFAMW3JQWvmc5jfrLFZmB+Wcf/755fvvv7drnkGPzx1DLx43Qvl17wDDprzNAgICAgKmH/S6wgcoIZTwBx98IJ9++pk01NXLJx9/XHoYHboCChqleNZZZ8lGG21kBgA0XeFgTDjGjh0rhx12mOy///62ye+FF16QXXbZRQ488EALTz75pNFbddVVTclOqiAjPPXUU3L88cfLscceq0UsyvDhpMurJ76anHzySaaYXWEffPDBdowqE62IRyXT/9Wjx8HHAGEpg7XvbFvWrjEmKNOJJ54oDz/8sJb7UDn00EPk73//m5b7eUu+3nrrGiXg9aU+L774op2DpqYmmz0BnZWw1633lb5NtbMHIyAgICBgukSPdumXwz3MRRddVIYOHSqPP/643UcJoeDwRPv27WueLK/Ksb5mz1GcRdbo7bJLLLvssmY4QMPD7rvvLueee67lXU2BOzAWeGNggw02kIceesjKxLUrSo4E6GAYxO9zb80117R6+dLCyiuvrMbAcHvmcctB3TF4WKs//fTTS3e7BnnTVosvvrg8/7wqfwX0KfcDDzxg1w7qf84550hDA+/tT/ozxNCaFJR10vJGMxPdgw2BU8OQCAgICAj4adBrCp+pdxQjSgrlyDT0wIED5dVXX7XpZxRtLhdXTpWVZTmgT3Dv2lF+3RVQgOQPmDmIK0TK68qdUAluCJAnARrE5V45vP7UOY5KceNw2j5V7+A8Xj4vI/eYsaik3KeGwo9e89P8o8uAgICAgOkMU6TwXYmh3Nl05sDDZar9s88+M4Xviqo7pVcJrqzx7IErPxShK79aAB1XqihsAC0PXkaH3wfk7csK3cHTEB+QtpZ0lIt2w2P38oF4ORy+NFFZsQeFHxAQEBAwKaZI4TtQVHzyFkWFh8pUM0qHc17X4xwFVa64akGldJNLy+EK2JUpgXt+vzdRK81yAyZexmrwspdjaij8MKUfEBAQMH2jVxQ+QPG4okHx+3SzKyUUWCXl9HMgrkzj5Ysr3N5CrTTL2yZexq6AoVCOnih89HgtvRIUfkBAQMD0jdoXwrtBXLH59LcrU9Cd4vopES8X5fQZiKkBz6u7UI5q98tB2ctDZVA/nnUOtX6VLij7gICAgOkZIv8PT7EQHUpJ3KQAAAAASUVORK5CYII=)"
      ],
      "metadata": {
        "id": "qu32wNM9I2-6"
      }
    },
    {
      "cell_type": "markdown",
      "source": [
        "### 1-7. Tensor 연산"
      ],
      "metadata": {
        "id": "XV-mXsPsJCnH"
      }
    },
    {
      "cell_type": "code",
      "source": [
        "x = tf.constant([[1, 2], [3, 4]], dtype=tf.float32)\n",
        "y = tf.constant([[5, 6], [7, 8]], dtype=tf.float32)\n",
        "print(x)\n",
        "print(y)"
      ],
      "metadata": {
        "colab": {
          "base_uri": "https://localhost:8080/"
        },
        "id": "mDy0w6YsIXjH",
        "outputId": "e5c5ce05-04e1-4ebc-d536-6f1c046aeb5c"
      },
      "execution_count": null,
      "outputs": [
        {
          "output_type": "stream",
          "name": "stdout",
          "text": [
            "tf.Tensor(\n",
            "[[1. 2.]\n",
            " [3. 4.]], shape=(2, 2), dtype=float32)\n",
            "tf.Tensor(\n",
            "[[5. 6.]\n",
            " [7. 8.]], shape=(2, 2), dtype=float32)\n"
          ]
        }
      ]
    },
    {
      "cell_type": "code",
      "source": [
        "print(tf.add(x,y))\n",
        "print(tf.subtract(x,y))\n",
        "print(tf.multiply(x,y))\n",
        "print(tf.divide(x,y))\n",
        "print(tf.matmul(x,y))"
      ],
      "metadata": {
        "colab": {
          "base_uri": "https://localhost:8080/"
        },
        "id": "Xec_oHMfJPV-",
        "outputId": "95e70c4c-70b0-4820-adb0-e2972ae2c808"
      },
      "execution_count": null,
      "outputs": [
        {
          "output_type": "stream",
          "name": "stdout",
          "text": [
            "tf.Tensor(\n",
            "[[ 6.  8.]\n",
            " [10. 12.]], shape=(2, 2), dtype=float32)\n",
            "tf.Tensor(\n",
            "[[-4. -4.]\n",
            " [-4. -4.]], shape=(2, 2), dtype=float32)\n",
            "tf.Tensor(\n",
            "[[ 5. 12.]\n",
            " [21. 32.]], shape=(2, 2), dtype=float32)\n",
            "tf.Tensor(\n",
            "[[0.2        0.33333334]\n",
            " [0.42857143 0.5       ]], shape=(2, 2), dtype=float32)\n",
            "tf.Tensor(\n",
            "[[19. 22.]\n",
            " [43. 50.]], shape=(2, 2), dtype=float32)\n"
          ]
        }
      ]
    },
    {
      "cell_type": "code",
      "source": [
        "print(x + y)\n",
        "print(x - y)\n",
        "print(x * y)\n",
        "print(x / y)\n",
        "print(x @ y)"
      ],
      "metadata": {
        "colab": {
          "base_uri": "https://localhost:8080/"
        },
        "id": "NBAo69ixJQ79",
        "outputId": "a4f69841-05e6-4544-97f5-b1a41e6978d3"
      },
      "execution_count": null,
      "outputs": [
        {
          "output_type": "stream",
          "name": "stdout",
          "text": [
            "tf.Tensor(\n",
            "[[ 6.  8.]\n",
            " [10. 12.]], shape=(2, 2), dtype=float32)\n",
            "tf.Tensor(\n",
            "[[-4. -4.]\n",
            " [-4. -4.]], shape=(2, 2), dtype=float32)\n",
            "tf.Tensor(\n",
            "[[ 5. 12.]\n",
            " [21. 32.]], shape=(2, 2), dtype=float32)\n",
            "tf.Tensor(\n",
            "[[0.2        0.33333334]\n",
            " [0.42857143 0.5       ]], shape=(2, 2), dtype=float32)\n",
            "tf.Tensor(\n",
            "[[19. 22.]\n",
            " [43. 50.]], shape=(2, 2), dtype=float32)\n"
          ]
        }
      ]
    },
    {
      "cell_type": "code",
      "source": [
        "z = tf.range(1, 11)\n",
        "print(z)\n",
        "z = tf.reshape(z, (2, 5))\n",
        "print(z)"
      ],
      "metadata": {
        "colab": {
          "base_uri": "https://localhost:8080/"
        },
        "id": "dPcM98bOJoMr",
        "outputId": "5bdf2761-ac02-4160-8216-933ecfe13631"
      },
      "execution_count": null,
      "outputs": [
        {
          "output_type": "stream",
          "name": "stdout",
          "text": [
            "tf.Tensor([ 1  2  3  4  5  6  7  8  9 10], shape=(10,), dtype=int32)\n",
            "tf.Tensor(\n",
            "[[ 1  2  3  4  5]\n",
            " [ 6  7  8  9 10]], shape=(2, 5), dtype=int32)\n"
          ]
        }
      ]
    },
    {
      "cell_type": "code",
      "source": [
        "# reduce_sum() : 요소의 합계를 구함\n",
        "print(tf.reduce_sum(z))\n",
        "\n"
      ],
      "metadata": {
        "colab": {
          "base_uri": "https://localhost:8080/"
        },
        "id": "9fpfiGA4Jxco",
        "outputId": "d6d09716-672c-48c8-a0c0-884fb9bf5a24"
      },
      "execution_count": null,
      "outputs": [
        {
          "output_type": "stream",
          "name": "stdout",
          "text": [
            "tf.Tensor(55, shape=(), dtype=int32)\n"
          ]
        }
      ]
    },
    {
      "cell_type": "code",
      "source": [
        "sum1 = tf.reduce_sum(z, axis= 0) # 행\n",
        "print(sum1)\n",
        "\n",
        "sum2 = tf.reduce_sum(z, axis = 1) # 열\n",
        "print(sum2)\n",
        "\n",
        "sum3 = tf.reduce_sum(z, axis=-1) # 열, 마지막방향\n",
        "print(sum3)"
      ],
      "metadata": {
        "colab": {
          "base_uri": "https://localhost:8080/"
        },
        "id": "i8NCBvmYJ6yr",
        "outputId": "a852718f-7982-45cc-cb1d-4492096604b0"
      },
      "execution_count": null,
      "outputs": [
        {
          "output_type": "stream",
          "name": "stdout",
          "text": [
            "tf.Tensor([ 7  9 11 13 15], shape=(5,), dtype=int32)\n",
            "tf.Tensor([15 40], shape=(2,), dtype=int32)\n",
            "tf.Tensor([15 40], shape=(2,), dtype=int32)\n"
          ]
        }
      ]
    },
    {
      "cell_type": "code",
      "source": [
        "# concat : 행과 열을 합쳐주는 함수\n",
        "\n",
        "concat = tf.concat([z, z], axis = 0)\n",
        "print(concat)"
      ],
      "metadata": {
        "colab": {
          "base_uri": "https://localhost:8080/"
        },
        "id": "iQHywhxcKNxj",
        "outputId": "65bbf6a7-fc61-447c-ec05-a3342e33a851"
      },
      "execution_count": null,
      "outputs": [
        {
          "output_type": "stream",
          "name": "stdout",
          "text": [
            "tf.Tensor(\n",
            "[[ 1  2  3  4  5]\n",
            " [ 6  7  8  9 10]\n",
            " [ 1  2  3  4  5]\n",
            " [ 6  7  8  9 10]], shape=(4, 5), dtype=int32)\n"
          ]
        }
      ]
    },
    {
      "cell_type": "code",
      "source": [
        "concat = tf.concat([z, z], axis =1 )\n",
        "print(concat)"
      ],
      "metadata": {
        "colab": {
          "base_uri": "https://localhost:8080/"
        },
        "id": "0HbRVRVXNInW",
        "outputId": "60f96faf-a9a5-443f-84c2-65fd496b0f07"
      },
      "execution_count": null,
      "outputs": [
        {
          "output_type": "stream",
          "name": "stdout",
          "text": [
            "tf.Tensor(\n",
            "[[ 1  2  3  4  5  1  2  3  4  5]\n",
            " [ 6  7  8  9 10  6  7  8  9 10]], shape=(2, 10), dtype=int32)\n"
          ]
        }
      ]
    },
    {
      "cell_type": "code",
      "source": [
        "concat = tf.concat([z, z], axis = -1 )\n",
        "print(concat)"
      ],
      "metadata": {
        "colab": {
          "base_uri": "https://localhost:8080/"
        },
        "id": "iWsoMGKfNO6c",
        "outputId": "881d52d9-096a-406c-e2ed-19b7f88799d5"
      },
      "execution_count": null,
      "outputs": [
        {
          "output_type": "stream",
          "name": "stdout",
          "text": [
            "tf.Tensor(\n",
            "[[ 1  2  3  4  5  1  2  3  4  5]\n",
            " [ 6  7  8  9 10  6  7  8  9 10]], shape=(2, 10), dtype=int32)\n"
          ]
        }
      ]
    },
    {
      "cell_type": "code",
      "source": [],
      "metadata": {
        "id": "zgZGiEj6NRet"
      },
      "execution_count": null,
      "outputs": []
    }
  ]
}